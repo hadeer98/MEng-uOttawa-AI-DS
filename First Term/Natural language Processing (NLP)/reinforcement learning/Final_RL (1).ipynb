{
  "cells": [
    {
      "cell_type": "markdown",
      "metadata": {
        "id": "0yyvqym9ULB5"
      },
      "source": [
        "# Set up the environment"
      ]
    },
    {
      "cell_type": "code",
      "execution_count": null,
      "metadata": {
        "colab": {
          "base_uri": "https://localhost:8080/"
        },
        "id": "C8K8ZMFn14IN",
        "outputId": "caedeef3-255d-40b2-96cd-418910f67341"
      },
      "outputs": [
        {
          "output_type": "stream",
          "name": "stdout",
          "text": [
            "Looking in indexes: https://pypi.org/simple, https://us-python.pkg.dev/colab-wheels/public/simple/\n",
            "Requirement already satisfied: cmake in /usr/local/lib/python3.7/dist-packages (3.22.4)\n",
            "Requirement already satisfied: gym[atari] in /usr/local/lib/python3.7/dist-packages (0.17.3)\n",
            "Requirement already satisfied: scipy in /usr/local/lib/python3.7/dist-packages (1.4.1)\n",
            "Requirement already satisfied: numpy>=1.13.3 in /usr/local/lib/python3.7/dist-packages (from scipy) (1.21.6)\n",
            "Requirement already satisfied: cloudpickle<1.7.0,>=1.2.0 in /usr/local/lib/python3.7/dist-packages (from gym[atari]) (1.3.0)\n",
            "Requirement already satisfied: pyglet<=1.5.0,>=1.4.0 in /usr/local/lib/python3.7/dist-packages (from gym[atari]) (1.5.0)\n",
            "Requirement already satisfied: atari-py~=0.2.0 in /usr/local/lib/python3.7/dist-packages (from gym[atari]) (0.2.9)\n",
            "Requirement already satisfied: opencv-python in /usr/local/lib/python3.7/dist-packages (from gym[atari]) (4.1.2.30)\n",
            "Requirement already satisfied: Pillow in /usr/local/lib/python3.7/dist-packages (from gym[atari]) (7.1.2)\n",
            "Requirement already satisfied: six in /usr/local/lib/python3.7/dist-packages (from atari-py~=0.2.0->gym[atari]) (1.15.0)\n",
            "Requirement already satisfied: future in /usr/local/lib/python3.7/dist-packages (from pyglet<=1.5.0,>=1.4.0->gym[atari]) (0.16.0)\n"
          ]
        }
      ],
      "source": [
        "!pip install cmake 'gym[atari]' scipy"
      ]
    },
    {
      "cell_type": "code",
      "execution_count": null,
      "metadata": {
        "id": "_GVLfKvr4bsq"
      },
      "outputs": [],
      "source": [
        "def environment(env_name = \"\"):\n",
        "  import gym\n",
        "  env = gym.make(env_name).env\n",
        "  env.render()\n",
        "  return env"
      ]
    },
    {
      "cell_type": "code",
      "source": [
        "def env_states_actions(env):\n",
        "  env.reset() # reset environment to a new, random state\n",
        "  env.render()\n",
        "\n",
        "  print(\"Action Space {}\".format(env.action_space))\n",
        "  print(\"State Space {}\".format(env.observation_space))"
      ],
      "metadata": {
        "id": "R0u3_Le0vg0l"
      },
      "execution_count": null,
      "outputs": []
    },
    {
      "cell_type": "markdown",
      "metadata": {
        "id": "O40te3BtUfSd"
      },
      "source": [
        "# Brute force function\n"
      ]
    },
    {
      "cell_type": "code",
      "source": [
        "def brute_force(env):\n",
        "  env.s = 328  # set environment to illustration's state\n",
        "\n",
        "  epochs = 0\n",
        "  penalties, rewards = 0, 0\n",
        "\n",
        "  frames = [] # for animation\n",
        "\n",
        "  done = False\n",
        "\n",
        "  while not done:\n",
        "      action = env.action_space.sample()\n",
        "      state, reward, done, info = env.step(action)\n",
        "\n",
        "      if reward == -10:\n",
        "          penalties += 1\n",
        "\n",
        "      if reward > 0:\n",
        "        rewards += 1\n",
        "\n",
        "      # Put each rendered frame into dict for animation\n",
        "      frames.append({\n",
        "          'frame': env.render(mode='ansi'),\n",
        "          'state': state,\n",
        "          'action': action,\n",
        "          'reward': reward\n",
        "          }\n",
        "      )\n",
        "\n",
        "      epochs += 1\n",
        "\n",
        "\n",
        "  return epochs, penalties, frames"
      ],
      "metadata": {
        "id": "fQfyj2oFfeaz"
      },
      "execution_count": null,
      "outputs": []
    },
    {
      "cell_type": "code",
      "execution_count": null,
      "metadata": {
        "id": "mfrQrZqePK4R"
      },
      "outputs": [],
      "source": [
        "def print_frames(frames):\n",
        "  from IPython.display import clear_output\n",
        "  from time import sleep\n",
        "  for i, frame in enumerate(frames):\n",
        "      clear_output(wait=True)\n",
        "      print(frame['frame'])\n",
        "      print(f\"Timestep: {i + 1}\")\n",
        "      print(f\"State: {frame['state']}\")\n",
        "      print(f\"Action: {frame['action']}\")\n",
        "      print(f\"Reward: {frame['reward']}\")\n",
        "      # sleep(1)"
      ]
    },
    {
      "cell_type": "markdown",
      "metadata": {
        "id": "mIR_WnoWUtI8"
      },
      "source": [
        "#Q-Learning approach"
      ]
    },
    {
      "cell_type": "markdown",
      "source": [
        "#Training function with decay"
      ],
      "metadata": {
        "id": "T082cRDl8_Gk"
      }
    },
    {
      "cell_type": "code",
      "source": [
        "def training_decay(env):\n",
        "  %%time\n",
        "\n",
        "  import random\n",
        "  from IPython.display import clear_output\n",
        "  import numpy as np\n",
        "  q_tables =  []\n",
        "\n",
        "  # Initialize the q table\n",
        "  q_table = np.zeros([env.observation_space.n, env.action_space.n])\n",
        "\n",
        "  # For plotting metrics\n",
        "  all_epochs = []\n",
        "  all_penalties = []\n",
        "\n",
        "\n",
        "  # Hyperparameters\n",
        "\n",
        "  alpha = 0.9\n",
        "  gamma = 0.9\n",
        "  epsilon = 0.9\n",
        "\n",
        "  for i in range(1, 100001):\n",
        "      state = env.reset()\n",
        "\n",
        "      epochs, penalties, reward, = 0, 0, 0\n",
        "      done = False\n",
        "\n",
        "      while not done:\n",
        "          if random.uniform(0, 1) < epsilon:\n",
        "              action = env.action_space.sample() # Explore action space\n",
        "          else:\n",
        "              action = np.argmax(q_table[state]) # Exploit learned values\n",
        "\n",
        "          next_state, reward, done, info = env.step(action)\n",
        "\n",
        "          old_value = q_table[state, action]\n",
        "          next_max = np.max(q_table[next_state])\n",
        "\n",
        "          new_value = (1 - alpha) * old_value + alpha * (reward + gamma * next_max)\n",
        "          q_table[state, action] = new_value\n",
        "\n",
        "          if reward == -10:\n",
        "              penalties += 1\n",
        "\n",
        "          state = next_state\n",
        "          epochs += 1\n",
        "\n",
        "      if i % 20000 == 0:\n",
        "          clear_output(wait=True)\n",
        "          alpha = alpha*0.9\n",
        "          gamma = gamma*0.9\n",
        "          epsilon = epsilon*0.9\n",
        "          print(f\"Episode: {i}\")\n",
        "\n",
        "  q_tables.append(q_table.tolist())\n",
        "  print(\"Training finished.\\n\")\n",
        "  return q_tables"
      ],
      "metadata": {
        "id": "yuDGU4Jy4Hnt"
      },
      "execution_count": null,
      "outputs": []
    },
    {
      "cell_type": "markdown",
      "source": [
        "#Hyperparameters Combination"
      ],
      "metadata": {
        "id": "gb40crNhvJsO"
      }
    },
    {
      "cell_type": "markdown",
      "source": [
        "Function to create all possible combinations of the hyperparameters alpha, gamma and epsilon"
      ],
      "metadata": {
        "id": "tVlenvJsf5Hf"
      }
    },
    {
      "cell_type": "code",
      "source": [
        "def hyperp_comb(alpha_list, gamma_list, epsilon_list):\n",
        "  import itertools\n",
        "\n",
        "  hyperp_comb = list(itertools.product(alpha_list, gamma_list, epsilon_list))\n",
        "  return hyperp_comb"
      ],
      "metadata": {
        "id": "4dekb7gWidr7"
      },
      "execution_count": null,
      "outputs": []
    },
    {
      "cell_type": "markdown",
      "source": [
        "#Training function with grid search"
      ],
      "metadata": {
        "id": "ecdi0VQz87Kc"
      }
    },
    {
      "cell_type": "code",
      "source": [
        "def training_grid(env, hyperp_comb = []):\n",
        "  %%time\n",
        "\n",
        "  import random\n",
        "  from IPython.display import clear_output\n",
        "  import numpy as np\n",
        "  q_tables =  []\n",
        "\n",
        "  # Initialize the q table\n",
        "  q_table = np.zeros([env.observation_space.n, env.action_space.n])\n",
        "\n",
        "  # For plotting metrics\n",
        "  all_epochs = []\n",
        "  all_penalties = []\n",
        "\n",
        "\n",
        "  # Hyperparameters\n",
        "  for j in hyperp_comb:\n",
        "      alpha = j[0]\n",
        "      gamma = j[1]\n",
        "      epsilon = j[2]\n",
        "\n",
        "      for i in range(1, 100001):\n",
        "        state = env.reset()\n",
        "\n",
        "        epochs, penalties, reward, = 0, 0, 0\n",
        "        done = False\n",
        "\n",
        "        while not done:\n",
        "            if random.uniform(0, 1) < epsilon:\n",
        "                action = env.action_space.sample() # Explore action space\n",
        "            else:\n",
        "                action = np.argmax(q_table[state]) # Exploit learned values\n",
        "\n",
        "            next_state, reward, done, info = env.step(action)\n",
        "\n",
        "            old_value = q_table[state, action]\n",
        "            next_max = np.max(q_table[next_state])\n",
        "\n",
        "            new_value = (1 - alpha) * old_value + alpha * (reward + gamma * next_max)\n",
        "            q_table[state, action] = new_value\n",
        "\n",
        "            if reward == -10:\n",
        "                penalties += 1\n",
        "\n",
        "            state = next_state\n",
        "            epochs += 1\n",
        "\n",
        "        if i % 100 == 0:\n",
        "            clear_output(wait=True)\n",
        "            print(f\"Episode: {i}\")\n",
        "\n",
        "      q_tables.append(q_table.tolist())\n",
        "\n",
        "  print(\"Training finished.\\n\")\n",
        "  return q_tables"
      ],
      "metadata": {
        "id": "RjmrSeeLfxv0"
      },
      "execution_count": null,
      "outputs": []
    },
    {
      "cell_type": "code",
      "source": [],
      "metadata": {
        "id": "66jcJmvNooq0"
      },
      "execution_count": null,
      "outputs": []
    },
    {
      "cell_type": "markdown",
      "metadata": {
        "id": "IZ_rv1Z0U2Yx"
      },
      "source": [
        "# Evalutation"
      ]
    },
    {
      "cell_type": "code",
      "source": [
        "def evaluation(env, q_tables, episodes):\n",
        "  import numpy as np\n",
        "  total_epochs, total_penalties = 0, 0\n",
        "  number = 0\n",
        "  for q_table in q_tables:\n",
        "    number += 1\n",
        "    for _ in range(episodes):\n",
        "        state = env.reset()\n",
        "        epochs, penalties, reward = 0, 0, 0\n",
        "\n",
        "        done = False\n",
        "\n",
        "        while not done:\n",
        "            action = np.argmax(q_table[state])\n",
        "            state, reward, done, info = env.step(action)\n",
        "\n",
        "            if reward == -10:\n",
        "                penalties += 1\n",
        "\n",
        "            epochs += 1\n",
        "\n",
        "        total_penalties += penalties\n",
        "        total_epochs += epochs\n",
        "\n",
        "    print(f\"Number of q_table: {number}\")\n",
        "    print(f\"Results after {episodes} episodes:\")\n",
        "    print(f\"Average timesteps per episode: {total_epochs / episodes}\")\n",
        "    print(f\"Average penalties per episode: {total_penalties / episodes}\")\n"
      ],
      "metadata": {
        "id": "u2OTx7yJsSso"
      },
      "execution_count": null,
      "outputs": []
    },
    {
      "cell_type": "code",
      "source": [],
      "metadata": {
        "id": "LBqpmxskK_KY"
      },
      "execution_count": null,
      "outputs": []
    },
    {
      "cell_type": "markdown",
      "source": [
        "# Implementation"
      ],
      "metadata": {
        "id": "5F3_JGth9WhO"
      }
    },
    {
      "cell_type": "markdown",
      "source": [
        "###Run the environment"
      ],
      "metadata": {
        "id": "BXp83yRH-_DM"
      }
    },
    {
      "cell_type": "code",
      "source": [
        "env = environment(\"Taxi-v3\")"
      ],
      "metadata": {
        "colab": {
          "base_uri": "https://localhost:8080/"
        },
        "id": "auTap2Mr-ikE",
        "outputId": "594011f3-d911-4859-b012-ccacaeb02929"
      },
      "execution_count": null,
      "outputs": [
        {
          "output_type": "stream",
          "name": "stdout",
          "text": [
            "+---------+\n",
            "|R: | : :\u001b[35mG\u001b[0m|\n",
            "| : | : : |\n",
            "|\u001b[43m \u001b[0m: : : : |\n",
            "| | : | : |\n",
            "|\u001b[34;1mY\u001b[0m| : |B: |\n",
            "+---------+\n",
            "\n"
          ]
        }
      ]
    },
    {
      "cell_type": "code",
      "source": [
        "env_states_actions(env)"
      ],
      "metadata": {
        "colab": {
          "base_uri": "https://localhost:8080/"
        },
        "id": "n7Pi39L7-jYU",
        "outputId": "941215e6-dd8c-4546-9fcf-f7294ae169b8"
      },
      "execution_count": null,
      "outputs": [
        {
          "output_type": "stream",
          "name": "stdout",
          "text": [
            "+---------+\n",
            "|\u001b[35mR\u001b[0m: | : :\u001b[34;1mG\u001b[0m|\n",
            "| :\u001b[43m \u001b[0m| : : |\n",
            "| : : : : |\n",
            "| | : | : |\n",
            "|Y| : |B: |\n",
            "+---------+\n",
            "\n",
            "Action Space Discrete(6)\n",
            "State Space Discrete(500)\n"
          ]
        }
      ]
    },
    {
      "cell_type": "markdown",
      "source": [
        "###Brute_force approach"
      ],
      "metadata": {
        "id": "deO1xs1A_EPM"
      }
    },
    {
      "cell_type": "code",
      "source": [
        "epochs,penalties, frames = brute_force(env)\n",
        "\n",
        "print(\"Timesteps taken: {}\".format(epochs))\n",
        "print(\"Penalties incurred: {}\".format(penalties))"
      ],
      "metadata": {
        "colab": {
          "base_uri": "https://localhost:8080/"
        },
        "id": "7HaRjxgt-jVr",
        "outputId": "e54834a3-4787-489c-f554-e31b0bedda30"
      },
      "execution_count": null,
      "outputs": [
        {
          "output_type": "stream",
          "name": "stdout",
          "text": [
            "Timesteps taken: 7343\n",
            "Penalties incurred: 2489\n"
          ]
        }
      ]
    },
    {
      "cell_type": "code",
      "source": [
        "print_frames(frames)"
      ],
      "metadata": {
        "colab": {
          "base_uri": "https://localhost:8080/"
        },
        "id": "7bS28Jrf-jS8",
        "outputId": "d7d00a81-7b4b-4cb9-c4c3-b094d6856af0"
      },
      "execution_count": null,
      "outputs": [
        {
          "output_type": "stream",
          "name": "stdout",
          "text": [
            "+---------+\n",
            "|\u001b[35m\u001b[34;1m\u001b[43mR\u001b[0m\u001b[0m\u001b[0m: | : :G|\n",
            "| : | : : |\n",
            "| : : : : |\n",
            "| | : | : |\n",
            "|Y| : |B: |\n",
            "+---------+\n",
            "  (Dropoff)\n",
            "\n",
            "Timestep: 7343\n",
            "State: 0\n",
            "Action: 5\n",
            "Reward: 20\n"
          ]
        }
      ]
    },
    {
      "cell_type": "markdown",
      "source": [
        "##Decay"
      ],
      "metadata": {
        "id": "-d6BqwNV_Om7"
      }
    },
    {
      "cell_type": "markdown",
      "source": [
        "###Training"
      ],
      "metadata": {
        "id": "rquHap5sHSf1"
      }
    },
    {
      "cell_type": "code",
      "source": [
        "q_tables = training_decay(env)"
      ],
      "metadata": {
        "colab": {
          "base_uri": "https://localhost:8080/"
        },
        "id": "fwDdPdQ26T5V",
        "outputId": "26225965-beb7-4e2e-a523-33bb7ad5d7e9"
      },
      "execution_count": null,
      "outputs": [
        {
          "output_type": "stream",
          "name": "stdout",
          "text": [
            "Episode: 100000\n",
            "Training finished.\n",
            "\n"
          ]
        }
      ]
    },
    {
      "cell_type": "markdown",
      "source": [
        "###Evaluation"
      ],
      "metadata": {
        "id": "7CRyg2rJ_T3r"
      }
    },
    {
      "cell_type": "code",
      "source": [
        "evaluation(env, q_tables, 1000)"
      ],
      "metadata": {
        "id": "jwD6HpD0ykGn",
        "colab": {
          "base_uri": "https://localhost:8080/"
        },
        "outputId": "e87b0328-d4ae-42eb-8822-16c9b41f674f"
      },
      "execution_count": null,
      "outputs": [
        {
          "output_type": "stream",
          "name": "stdout",
          "text": [
            "Number of q_table: 1\n",
            "Results after 1000 episodes:\n",
            "Average timesteps per episode: 13.041\n",
            "Average penalties per episode: 0.0\n"
          ]
        }
      ]
    },
    {
      "cell_type": "markdown",
      "source": [
        "##Grid search"
      ],
      "metadata": {
        "id": "Tle21iI5_RRc"
      }
    },
    {
      "cell_type": "markdown",
      "source": [
        "###Hyperparameters Combination"
      ],
      "metadata": {
        "id": "k1kS0yqf-7bM"
      }
    },
    {
      "cell_type": "code",
      "source": [
        "alphalist = [0.5, 0.9]\n",
        "gammalist = [0.5, 0.9]\n",
        "epsilonlist = [0.5, 0.9]\n",
        "\n",
        "hyperp_comb = hyperp_comb(alphalist, gammalist, epsilonlist)\n",
        "print(hyperp_comb)"
      ],
      "metadata": {
        "colab": {
          "base_uri": "https://localhost:8080/"
        },
        "id": "k2q99S0l-jJr",
        "outputId": "c477a8ec-3f6b-462b-a1df-c6563f0f798b"
      },
      "execution_count": null,
      "outputs": [
        {
          "output_type": "stream",
          "name": "stdout",
          "text": [
            "[(0.5, 0.5, 0.5), (0.5, 0.5, 0.9), (0.5, 0.9, 0.5), (0.5, 0.9, 0.9), (0.9, 0.5, 0.5), (0.9, 0.5, 0.9), (0.9, 0.9, 0.5), (0.9, 0.9, 0.9)]\n"
          ]
        }
      ]
    },
    {
      "cell_type": "markdown",
      "source": [
        "###Training"
      ],
      "metadata": {
        "id": "Yr6wucO_HKuU"
      }
    },
    {
      "cell_type": "code",
      "source": [
        "q_tables = training_grid(env, hyperp_comb)"
      ],
      "metadata": {
        "colab": {
          "base_uri": "https://localhost:8080/"
        },
        "outputId": "080b315f-8816-4114-9be5-5eaeda62ffbe",
        "id": "HvXi-EE9PAHD"
      },
      "execution_count": null,
      "outputs": [
        {
          "output_type": "stream",
          "name": "stdout",
          "text": [
            "Episode: 100000\n",
            "Training finished.\n",
            "\n"
          ]
        }
      ]
    },
    {
      "cell_type": "code",
      "source": [
        "len(q_tables)"
      ],
      "metadata": {
        "colab": {
          "base_uri": "https://localhost:8080/"
        },
        "outputId": "d1a56c3b-a8f2-4933-bf2d-705a8a0b0ae7",
        "id": "YqrylsS_PD28"
      },
      "execution_count": null,
      "outputs": [
        {
          "output_type": "execute_result",
          "data": {
            "text/plain": [
              "8"
            ]
          },
          "metadata": {},
          "execution_count": 18
        }
      ]
    },
    {
      "cell_type": "markdown",
      "source": [
        "###Evaluation"
      ],
      "metadata": {
        "id": "rHHO6Lgu_nxM"
      }
    },
    {
      "cell_type": "code",
      "source": [
        "evaluation(env, q_tables, 1000)"
      ],
      "metadata": {
        "colab": {
          "base_uri": "https://localhost:8080/"
        },
        "outputId": "00f2b43f-024b-4587-d386-bd6cd93cd448",
        "id": "9IL6ePZIPQZu"
      },
      "execution_count": null,
      "outputs": [
        {
          "output_type": "stream",
          "name": "stdout",
          "text": [
            "Number of q_table: 1\n",
            "Results after 1000 episodes:\n",
            "Average timesteps per episode: 13.1\n",
            "Average penalties per episode: 0.0\n",
            "Number of q_table: 2\n",
            "Results after 1000 episodes:\n",
            "Average timesteps per episode: 26.129\n",
            "Average penalties per episode: 0.0\n",
            "Number of q_table: 3\n",
            "Results after 1000 episodes:\n",
            "Average timesteps per episode: 39.277\n",
            "Average penalties per episode: 0.0\n",
            "Number of q_table: 4\n",
            "Results after 1000 episodes:\n",
            "Average timesteps per episode: 52.414\n",
            "Average penalties per episode: 0.0\n",
            "Number of q_table: 5\n",
            "Results after 1000 episodes:\n",
            "Average timesteps per episode: 65.497\n",
            "Average penalties per episode: 0.0\n",
            "Number of q_table: 6\n",
            "Results after 1000 episodes:\n",
            "Average timesteps per episode: 78.624\n",
            "Average penalties per episode: 0.0\n",
            "Number of q_table: 7\n",
            "Results after 1000 episodes:\n",
            "Average timesteps per episode: 91.778\n",
            "Average penalties per episode: 0.0\n",
            "Number of q_table: 8\n",
            "Results after 1000 episodes:\n",
            "Average timesteps per episode: 105.037\n",
            "Average penalties per episode: 0.0\n"
          ]
        }
      ]
    }
  ],
  "metadata": {
    "colab": {
      "provenance": [],
      "collapsed_sections": [
        "0yyvqym9ULB5",
        "O40te3BtUfSd",
        "gb40crNhvJsO",
        "T082cRDl8_Gk",
        "ecdi0VQz87Kc",
        "IZ_rv1Z0U2Yx",
        "BXp83yRH-_DM",
        "deO1xs1A_EPM",
        "-d6BqwNV_Om7",
        "rquHap5sHSf1",
        "7CRyg2rJ_T3r",
        "Tle21iI5_RRc",
        "k1kS0yqf-7bM",
        "Yr6wucO_HKuU",
        "rHHO6Lgu_nxM"
      ]
    },
    "kernelspec": {
      "display_name": "Python 3",
      "name": "python3"
    },
    "language_info": {
      "name": "python"
    },
    "accelerator": "TPU"
  },
  "nbformat": 4,
  "nbformat_minor": 0
}