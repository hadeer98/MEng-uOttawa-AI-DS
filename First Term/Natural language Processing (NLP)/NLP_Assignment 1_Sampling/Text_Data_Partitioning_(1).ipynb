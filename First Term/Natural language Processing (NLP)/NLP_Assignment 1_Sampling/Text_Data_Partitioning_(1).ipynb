{
  "nbformat": 4,
  "nbformat_minor": 0,
  "metadata": {
    "colab": {
      "provenance": []
    },
    "kernelspec": {
      "name": "python3",
      "display_name": "Python 3"
    },
    "language_info": {
      "name": "python"
    }
  },
  "cells": [
    {
      "cell_type": "code",
      "execution_count": null,
      "metadata": {
        "colab": {
          "base_uri": "https://localhost:8080/"
        },
        "id": "s1wm563MW03y",
        "outputId": "4207759c-c33e-46d6-8195-38a774134671"
      },
      "outputs": [
        {
          "output_type": "stream",
          "name": "stdout",
          "text": [
            "[nltk_data] Downloading package gutenberg to /root/nltk_data...\n",
            "[nltk_data]   Unzipping corpora/gutenberg.zip.\n",
            "[nltk_data] Downloading package stopwords to /root/nltk_data...\n",
            "[nltk_data]   Unzipping corpora/stopwords.zip.\n"
          ]
        },
        {
          "output_type": "execute_result",
          "data": {
            "text/plain": [
              "True"
            ]
          },
          "metadata": {},
          "execution_count": 5
        }
      ],
      "source": [
        "import nltk\n",
        "nltk.download('gutenberg')\n",
        "import string\n",
        "import re\n",
        "from nltk.corpus import stopwords\n",
        "\n",
        "nltk.download('stopwords')"
      ]
    },
    {
      "cell_type": "code",
      "source": [
        "nltk.corpus.gutenberg.fileids()"
      ],
      "metadata": {
        "colab": {
          "base_uri": "https://localhost:8080/"
        },
        "id": "e02RyD49cdT-",
        "outputId": "d1fc9020-2afb-4dd2-a654-492082ca51e0"
      },
      "execution_count": null,
      "outputs": [
        {
          "output_type": "execute_result",
          "data": {
            "text/plain": [
              "['austen-emma.txt',\n",
              " 'austen-persuasion.txt',\n",
              " 'austen-sense.txt',\n",
              " 'bible-kjv.txt',\n",
              " 'blake-poems.txt',\n",
              " 'bryant-stories.txt',\n",
              " 'burgess-busterbrown.txt',\n",
              " 'carroll-alice.txt',\n",
              " 'chesterton-ball.txt',\n",
              " 'chesterton-brown.txt',\n",
              " 'chesterton-thursday.txt',\n",
              " 'edgeworth-parents.txt',\n",
              " 'melville-moby_dick.txt',\n",
              " 'milton-paradise.txt',\n",
              " 'shakespeare-caesar.txt',\n",
              " 'shakespeare-hamlet.txt',\n",
              " 'shakespeare-macbeth.txt',\n",
              " 'whitman-leaves.txt']"
            ]
          },
          "metadata": {},
          "execution_count": 6
        }
      ]
    },
    {
      "cell_type": "code",
      "source": [
        "list_of_books=[\"austen-emma.txt\",\"austen-persuasion.txt\",\"bible-kjv.txt\"]"
      ],
      "metadata": {
        "id": "kuXUFURdm1JT"
      },
      "execution_count": null,
      "outputs": []
    },
    {
      "cell_type": "code",
      "source": [
        "#collect all the used functions in one function to call them at once\n",
        "def function_collection(list_of_books):\n",
        "  books=read_book(list_of_books)\n",
        "  clean_book=cleaning(books)\n",
        "  removed_stopedword=remove_stopwords(clean_book)\n",
        "  splits=splitting(removed_stopedword)\n",
        "  dispaly_Dataframe(removed_stopedword,list_of_books)\n",
        "\n",
        "\n",
        "function_collection(list_of_books)\n"
      ],
      "metadata": {
        "colab": {
          "base_uri": "https://localhost:8080/"
        },
        "id": "hMuof2AwWHrC",
        "outputId": "42be739f-54e1-4fdb-8044-11cf911181df"
      },
      "execution_count": null,
      "outputs": [
        {
          "output_type": "stream",
          "name": "stdout",
          "text": [
            "                                             sentences   Book_Names\n",
            "0    [people, dear, sir, make, stranger, leave, exc...  austen-emma\n",
            "1    [room, shewed, tea, instrument, preparation, m...  austen-emma\n",
            "2    [charming, one, person, least, going, married,...  austen-emma\n",
            "3    [hurry, marry, marry, strangers, half, could, ...  austen-emma\n",
            "4    [complete, sacrifice, retire, pleasures, life,...  austen-emma\n",
            "..                                                 ...          ...\n",
            "595  [cause, know, abominations, fathers, 20, 5, sa...    bible-kjv\n",
            "596  [son, isaac, isaac, dwelt, well, lahairoi, 25,...    bible-kjv\n",
            "597  [adulteresses, know, ye, friendship, world, en...    bible-kjv\n",
            "598  [every, shipmaster, company, ships, sailors, m...    bible-kjv\n",
            "599  [people, baale, judah, bring, thence, ark, god...    bible-kjv\n",
            "\n",
            "[600 rows x 2 columns]\n"
          ]
        }
      ]
    },
    {
      "cell_type": "code",
      "source": [
        "#read the list of books from nltk.corpus.gutenberg.words\n",
        "# the function takes the list of books and returns list of book words\n",
        "def read_book(list_of_books):\n",
        "  book_words=[]\n",
        "  for book in list_of_books:\n",
        "    book_words.append(nltk.corpus.gutenberg.words(book))\n",
        "  return book_words"
      ],
      "metadata": {
        "id": "bbwPn4OM0vGa"
      },
      "execution_count": null,
      "outputs": []
    },
    {
      "cell_type": "code",
      "source": [
        "books=read_book(list_of_books)\n",
        "print(books[0])"
      ],
      "metadata": {
        "colab": {
          "base_uri": "https://localhost:8080/"
        },
        "id": "eTl5ttoX2cQY",
        "outputId": "ec418864-099e-472d-cced-458edd2e2570"
      },
      "execution_count": null,
      "outputs": [
        {
          "output_type": "stream",
          "name": "stdout",
          "text": [
            "['[', 'Emma', 'by', 'Jane', 'Austen', '1816', ']', ...]\n"
          ]
        }
      ]
    },
    {
      "cell_type": "code",
      "source": [
        "# first step in cleaning the raw text is to remove the punctuation marks\n",
        "# This function takes list of book words and returns list of books words without punctuation marks\n",
        "def cleaning(books):\n",
        "  remove_pun=[]\n",
        "  for b in books:\n",
        "    new_list=[]\n",
        "    for w in b:\n",
        "      word=w.lower()\n",
        "      if re.search(\"\\w+\",word):\n",
        "        new_list.append(word)\n",
        "    remove_pun.append(new_list)\n",
        "  return remove_pun\n",
        "\n",
        "\n"
      ],
      "metadata": {
        "id": "R3k7t6TQ2kHZ"
      },
      "execution_count": null,
      "outputs": []
    },
    {
      "cell_type": "code",
      "source": [
        "clean_book=cleaning(books)\n",
        "print(len(clean_book[0]))"
      ],
      "metadata": {
        "colab": {
          "base_uri": "https://localhost:8080/"
        },
        "id": "LrUregXY6uNS",
        "outputId": "579a8e9e-a79b-4029-b660-0a7e7bb6a558"
      },
      "execution_count": null,
      "outputs": [
        {
          "output_type": "stream",
          "name": "stdout",
          "text": [
            "161983\n"
          ]
        }
      ]
    },
    {
      "cell_type": "code",
      "source": [
        "#second step in cleaning raw text is to remove stop words\n",
        "#remove_stopwords(clean_book):takes cleaned book without punctuation marks and returns cleaned book without stop words\n",
        "def remove_stopwords(clean_book):\n",
        "  stop_words = set(stopwords.words('english'))\n",
        "  removestopword=[]\n",
        "  for i in clean_book:\n",
        "    remove_stopword=[]\n",
        "    for cb in i:\n",
        "      if cb not in stop_words:\n",
        "        remove_stopword.append(cb)\n",
        "    removestopword.append(remove_stopword)\n",
        "  return removestopword"
      ],
      "metadata": {
        "id": "Jxr1o0ig60QB"
      },
      "execution_count": null,
      "outputs": []
    },
    {
      "cell_type": "code",
      "source": [
        "removed_stopedword=remove_stopwords(clean_book)\n",
        "print(len(removed_stopedword))"
      ],
      "metadata": {
        "colab": {
          "base_uri": "https://localhost:8080/"
        },
        "id": "t8cgygof9fky",
        "outputId": "f5b15bf6-dd99-48cc-e735-c387ba8fd500"
      },
      "execution_count": null,
      "outputs": [
        {
          "output_type": "stream",
          "name": "stdout",
          "text": [
            "3\n"
          ]
        }
      ]
    },
    {
      "cell_type": "code",
      "source": [
        "\n",
        "def generate_random_indeces(length):\n",
        "  import random\n",
        "  lst = []\n",
        "  for i in range(200):\n",
        "    tmp = random.randint(0,length-100)\n",
        "    lst.append(tmp)\n",
        "  return lst"
      ],
      "metadata": {
        "id": "8skwQ4IBNN0q"
      },
      "execution_count": null,
      "outputs": []
    },
    {
      "cell_type": "code",
      "source": [
        "#split the book words to 200 sample each sample is of 100 words\n",
        "def splitting(removed_stopedword):\n",
        "\n",
        "  sentences = []\n",
        "  for clean_book in removed_stopedword:\n",
        "    indices = generate_random_indeces(len(clean_book))\n",
        "    for i in indices:\n",
        "      sentences.append(clean_book[i:i+100])\n",
        "  return sentences"
      ],
      "metadata": {
        "id": "s5vM6WNGNRv6"
      },
      "execution_count": null,
      "outputs": []
    },
    {
      "cell_type": "code",
      "source": [
        "print(len(splitting(removed_stopedword)))"
      ],
      "metadata": {
        "colab": {
          "base_uri": "https://localhost:8080/"
        },
        "id": "WEhZd3jiNeJB",
        "outputId": "734be5b4-7954-4a6a-a751-2c7eff4f338b"
      },
      "execution_count": null,
      "outputs": [
        {
          "output_type": "stream",
          "name": "stdout",
          "text": [
            "600\n"
          ]
        }
      ]
    },
    {
      "cell_type": "code",
      "source": [
        "#labels the list of books\n",
        "def labeling(list_of_books):\n",
        "  labels=[]\n",
        "  for i in list_of_books:\n",
        "    for j in range(200):\n",
        "      labels.append(i[:-4])\n",
        "\n",
        "  return labels"
      ],
      "metadata": {
        "id": "ytmRVE4D_plK"
      },
      "execution_count": null,
      "outputs": []
    },
    {
      "cell_type": "code",
      "source": [
        "print(len(labeling(list_of_books)))"
      ],
      "metadata": {
        "colab": {
          "base_uri": "https://localhost:8080/"
        },
        "id": "h-uLlJ98B8xK",
        "outputId": "eea26fb9-31d3-47bd-c525-939b14193c32"
      },
      "execution_count": null,
      "outputs": [
        {
          "output_type": "stream",
          "name": "stdout",
          "text": [
            "600\n"
          ]
        }
      ]
    },
    {
      "cell_type": "code",
      "source": [
        "def dispaly_Dataframe(removed_stopedword,list_of_books):\n",
        "  import pandas as pd\n",
        "  df = pd.DataFrame()\n",
        "  df['sentences'] = splitting(removed_stopedword)\n",
        "  df['Book_Names'] = labeling(list_of_books)\n",
        "  print(df)\n",
        "\n"
      ],
      "metadata": {
        "id": "GjVC0PgECFsa"
      },
      "execution_count": null,
      "outputs": []
    },
    {
      "cell_type": "code",
      "source": [],
      "metadata": {
        "id": "s_FUPQsGVJWq"
      },
      "execution_count": null,
      "outputs": []
    }
  ]
}