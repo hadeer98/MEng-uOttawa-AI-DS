{
  "nbformat": 4,
  "nbformat_minor": 0,
  "metadata": {
    "colab": {
      "name": "HealthCarechatbot.ipynb",
      "provenance": [],
      "collapsed_sections": [],
      "toc_visible": true
    },
    "kernelspec": {
      "name": "python3",
      "display_name": "Python 3"
    },
    "language_info": {
      "name": "python"
    }
  },
  "cells": [
    {
      "cell_type": "code",
      "execution_count": 1,
      "metadata": {
        "colab": {
          "base_uri": "https://localhost:8080/"
        },
        "id": "aCaJOKfb5dDA",
        "outputId": "90ed9d06-63ae-4db4-90d8-a8a4ce65dca8"
      },
      "outputs": [
        {
          "output_type": "stream",
          "name": "stderr",
          "text": [
            "[nltk_data] Downloading package wordnet to /root/nltk_data...\n",
            "[nltk_data] Downloading package omw-1.4 to /root/nltk_data...\n"
          ]
        },
        {
          "output_type": "execute_result",
          "data": {
            "text/plain": [
              "True"
            ]
          },
          "metadata": {},
          "execution_count": 1
        }
      ],
      "source": [
        "import nltk\n",
        "nltk.download('wordnet')\n",
        "nltk.download('omw-1.4')\n"
      ]
    },
    {
      "cell_type": "code",
      "source": [
        "import pandas as pd\n",
        "import numpy as np\n",
        "from nltk.corpus import wordnet as wn \n",
        "import csv\n"
      ],
      "metadata": {
        "id": "Ot2iDllD-DXn"
      },
      "execution_count": 2,
      "outputs": []
    },
    {
      "cell_type": "code",
      "source": [
        "df=pd.read_csv('/content/new_dataset.csv')"
      ],
      "metadata": {
        "id": "7XRJSuP9-HY3"
      },
      "execution_count": 3,
      "outputs": []
    },
    {
      "cell_type": "code",
      "source": [
        "df"
      ],
      "metadata": {
        "colab": {
          "base_uri": "https://localhost:8080/",
          "height": 488
        },
        "id": "VUo_rMWw-VvW",
        "outputId": "f9c255c7-a23b-424f-f39c-4dd475864edf"
      },
      "execution_count": 4,
      "outputs": [
        {
          "output_type": "execute_result",
          "data": {
            "text/plain": [
              "             Disease  itching  skin_rash  nodal_skin_eruptions  \\\n",
              "0    Fungalinfection        1          3                     4   \n",
              "1    Fungalinfection        0          3                     4   \n",
              "2    Fungalinfection        1          0                     4   \n",
              "3    Fungalinfection        1          3                     0   \n",
              "4    Fungalinfection        1          3                     4   \n",
              "..               ...      ...        ...                   ...   \n",
              "299         Impetigo        0          0                     0   \n",
              "300         Impetigo        0          3                     0   \n",
              "301         Impetigo        0          3                     0   \n",
              "302         Impetigo        0          3                     0   \n",
              "303         Impetigo        0          3                     0   \n",
              "\n",
              "     continuous_sneezing  shivering  chills  joint_pain  stomach_pain  \\\n",
              "0                      0          0       0           0             0   \n",
              "1                      0          0       0           0             0   \n",
              "2                      0          0       0           0             0   \n",
              "3                      0          0       0           0             0   \n",
              "4                      0          0       0           0             0   \n",
              "..                   ...        ...     ...         ...           ...   \n",
              "299                    0          0       0           0             0   \n",
              "300                    0          0       0           0             0   \n",
              "301                    0          0       0           0             0   \n",
              "302                    0          0       0           0             0   \n",
              "303                    0          0       0           0             0   \n",
              "\n",
              "     acidity  ...  blackheads  scurring  skin_peeling  silver_like_dusting  \\\n",
              "0          0  ...           0         0             0                    0   \n",
              "1          0  ...           0         0             0                    0   \n",
              "2          0  ...           0         0             0                    0   \n",
              "3          0  ...           0         0             0                    0   \n",
              "4          0  ...           0         0             0                    0   \n",
              "..       ...  ...         ...       ...           ...                  ...   \n",
              "299        0  ...           0         0             0                    0   \n",
              "300        0  ...           0         0             0                    0   \n",
              "301        0  ...           0         0             0                    0   \n",
              "302        0  ...           0         0             0                    0   \n",
              "303        0  ...           0         0             0                    0   \n",
              "\n",
              "     small_dents_in_nails  inflammatory_nails  blister  red_sore_around_nose  \\\n",
              "0                       0                   0        0                     0   \n",
              "1                       0                   0        0                     0   \n",
              "2                       0                   0        0                     0   \n",
              "3                       0                   0        0                     0   \n",
              "4                       0                   0        0                     0   \n",
              "..                    ...                 ...      ...                   ...   \n",
              "299                     0                   0        4                     2   \n",
              "300                     0                   0        4                     2   \n",
              "301                     0                   0        0                     2   \n",
              "302                     0                   0        4                     0   \n",
              "303                     0                   0        4                     2   \n",
              "\n",
              "     yellow_crust_ooze  prognosis  \n",
              "0                    0          0  \n",
              "1                    0          0  \n",
              "2                    0          0  \n",
              "3                    0          0  \n",
              "4                    0          0  \n",
              "..                 ...        ...  \n",
              "299                  3          0  \n",
              "300                  3          0  \n",
              "301                  3          0  \n",
              "302                  3          0  \n",
              "303                  0          0  \n",
              "\n",
              "[304 rows x 133 columns]"
            ],
            "text/html": [
              "\n",
              "  <div id=\"df-e139954b-9a3a-453d-ac26-825b0905b3f5\">\n",
              "    <div class=\"colab-df-container\">\n",
              "      <div>\n",
              "<style scoped>\n",
              "    .dataframe tbody tr th:only-of-type {\n",
              "        vertical-align: middle;\n",
              "    }\n",
              "\n",
              "    .dataframe tbody tr th {\n",
              "        vertical-align: top;\n",
              "    }\n",
              "\n",
              "    .dataframe thead th {\n",
              "        text-align: right;\n",
              "    }\n",
              "</style>\n",
              "<table border=\"1\" class=\"dataframe\">\n",
              "  <thead>\n",
              "    <tr style=\"text-align: right;\">\n",
              "      <th></th>\n",
              "      <th>Disease</th>\n",
              "      <th>itching</th>\n",
              "      <th>skin_rash</th>\n",
              "      <th>nodal_skin_eruptions</th>\n",
              "      <th>continuous_sneezing</th>\n",
              "      <th>shivering</th>\n",
              "      <th>chills</th>\n",
              "      <th>joint_pain</th>\n",
              "      <th>stomach_pain</th>\n",
              "      <th>acidity</th>\n",
              "      <th>...</th>\n",
              "      <th>blackheads</th>\n",
              "      <th>scurring</th>\n",
              "      <th>skin_peeling</th>\n",
              "      <th>silver_like_dusting</th>\n",
              "      <th>small_dents_in_nails</th>\n",
              "      <th>inflammatory_nails</th>\n",
              "      <th>blister</th>\n",
              "      <th>red_sore_around_nose</th>\n",
              "      <th>yellow_crust_ooze</th>\n",
              "      <th>prognosis</th>\n",
              "    </tr>\n",
              "  </thead>\n",
              "  <tbody>\n",
              "    <tr>\n",
              "      <th>0</th>\n",
              "      <td>Fungalinfection</td>\n",
              "      <td>1</td>\n",
              "      <td>3</td>\n",
              "      <td>4</td>\n",
              "      <td>0</td>\n",
              "      <td>0</td>\n",
              "      <td>0</td>\n",
              "      <td>0</td>\n",
              "      <td>0</td>\n",
              "      <td>0</td>\n",
              "      <td>...</td>\n",
              "      <td>0</td>\n",
              "      <td>0</td>\n",
              "      <td>0</td>\n",
              "      <td>0</td>\n",
              "      <td>0</td>\n",
              "      <td>0</td>\n",
              "      <td>0</td>\n",
              "      <td>0</td>\n",
              "      <td>0</td>\n",
              "      <td>0</td>\n",
              "    </tr>\n",
              "    <tr>\n",
              "      <th>1</th>\n",
              "      <td>Fungalinfection</td>\n",
              "      <td>0</td>\n",
              "      <td>3</td>\n",
              "      <td>4</td>\n",
              "      <td>0</td>\n",
              "      <td>0</td>\n",
              "      <td>0</td>\n",
              "      <td>0</td>\n",
              "      <td>0</td>\n",
              "      <td>0</td>\n",
              "      <td>...</td>\n",
              "      <td>0</td>\n",
              "      <td>0</td>\n",
              "      <td>0</td>\n",
              "      <td>0</td>\n",
              "      <td>0</td>\n",
              "      <td>0</td>\n",
              "      <td>0</td>\n",
              "      <td>0</td>\n",
              "      <td>0</td>\n",
              "      <td>0</td>\n",
              "    </tr>\n",
              "    <tr>\n",
              "      <th>2</th>\n",
              "      <td>Fungalinfection</td>\n",
              "      <td>1</td>\n",
              "      <td>0</td>\n",
              "      <td>4</td>\n",
              "      <td>0</td>\n",
              "      <td>0</td>\n",
              "      <td>0</td>\n",
              "      <td>0</td>\n",
              "      <td>0</td>\n",
              "      <td>0</td>\n",
              "      <td>...</td>\n",
              "      <td>0</td>\n",
              "      <td>0</td>\n",
              "      <td>0</td>\n",
              "      <td>0</td>\n",
              "      <td>0</td>\n",
              "      <td>0</td>\n",
              "      <td>0</td>\n",
              "      <td>0</td>\n",
              "      <td>0</td>\n",
              "      <td>0</td>\n",
              "    </tr>\n",
              "    <tr>\n",
              "      <th>3</th>\n",
              "      <td>Fungalinfection</td>\n",
              "      <td>1</td>\n",
              "      <td>3</td>\n",
              "      <td>0</td>\n",
              "      <td>0</td>\n",
              "      <td>0</td>\n",
              "      <td>0</td>\n",
              "      <td>0</td>\n",
              "      <td>0</td>\n",
              "      <td>0</td>\n",
              "      <td>...</td>\n",
              "      <td>0</td>\n",
              "      <td>0</td>\n",
              "      <td>0</td>\n",
              "      <td>0</td>\n",
              "      <td>0</td>\n",
              "      <td>0</td>\n",
              "      <td>0</td>\n",
              "      <td>0</td>\n",
              "      <td>0</td>\n",
              "      <td>0</td>\n",
              "    </tr>\n",
              "    <tr>\n",
              "      <th>4</th>\n",
              "      <td>Fungalinfection</td>\n",
              "      <td>1</td>\n",
              "      <td>3</td>\n",
              "      <td>4</td>\n",
              "      <td>0</td>\n",
              "      <td>0</td>\n",
              "      <td>0</td>\n",
              "      <td>0</td>\n",
              "      <td>0</td>\n",
              "      <td>0</td>\n",
              "      <td>...</td>\n",
              "      <td>0</td>\n",
              "      <td>0</td>\n",
              "      <td>0</td>\n",
              "      <td>0</td>\n",
              "      <td>0</td>\n",
              "      <td>0</td>\n",
              "      <td>0</td>\n",
              "      <td>0</td>\n",
              "      <td>0</td>\n",
              "      <td>0</td>\n",
              "    </tr>\n",
              "    <tr>\n",
              "      <th>...</th>\n",
              "      <td>...</td>\n",
              "      <td>...</td>\n",
              "      <td>...</td>\n",
              "      <td>...</td>\n",
              "      <td>...</td>\n",
              "      <td>...</td>\n",
              "      <td>...</td>\n",
              "      <td>...</td>\n",
              "      <td>...</td>\n",
              "      <td>...</td>\n",
              "      <td>...</td>\n",
              "      <td>...</td>\n",
              "      <td>...</td>\n",
              "      <td>...</td>\n",
              "      <td>...</td>\n",
              "      <td>...</td>\n",
              "      <td>...</td>\n",
              "      <td>...</td>\n",
              "      <td>...</td>\n",
              "      <td>...</td>\n",
              "      <td>...</td>\n",
              "    </tr>\n",
              "    <tr>\n",
              "      <th>299</th>\n",
              "      <td>Impetigo</td>\n",
              "      <td>0</td>\n",
              "      <td>0</td>\n",
              "      <td>0</td>\n",
              "      <td>0</td>\n",
              "      <td>0</td>\n",
              "      <td>0</td>\n",
              "      <td>0</td>\n",
              "      <td>0</td>\n",
              "      <td>0</td>\n",
              "      <td>...</td>\n",
              "      <td>0</td>\n",
              "      <td>0</td>\n",
              "      <td>0</td>\n",
              "      <td>0</td>\n",
              "      <td>0</td>\n",
              "      <td>0</td>\n",
              "      <td>4</td>\n",
              "      <td>2</td>\n",
              "      <td>3</td>\n",
              "      <td>0</td>\n",
              "    </tr>\n",
              "    <tr>\n",
              "      <th>300</th>\n",
              "      <td>Impetigo</td>\n",
              "      <td>0</td>\n",
              "      <td>3</td>\n",
              "      <td>0</td>\n",
              "      <td>0</td>\n",
              "      <td>0</td>\n",
              "      <td>0</td>\n",
              "      <td>0</td>\n",
              "      <td>0</td>\n",
              "      <td>0</td>\n",
              "      <td>...</td>\n",
              "      <td>0</td>\n",
              "      <td>0</td>\n",
              "      <td>0</td>\n",
              "      <td>0</td>\n",
              "      <td>0</td>\n",
              "      <td>0</td>\n",
              "      <td>4</td>\n",
              "      <td>2</td>\n",
              "      <td>3</td>\n",
              "      <td>0</td>\n",
              "    </tr>\n",
              "    <tr>\n",
              "      <th>301</th>\n",
              "      <td>Impetigo</td>\n",
              "      <td>0</td>\n",
              "      <td>3</td>\n",
              "      <td>0</td>\n",
              "      <td>0</td>\n",
              "      <td>0</td>\n",
              "      <td>0</td>\n",
              "      <td>0</td>\n",
              "      <td>0</td>\n",
              "      <td>0</td>\n",
              "      <td>...</td>\n",
              "      <td>0</td>\n",
              "      <td>0</td>\n",
              "      <td>0</td>\n",
              "      <td>0</td>\n",
              "      <td>0</td>\n",
              "      <td>0</td>\n",
              "      <td>0</td>\n",
              "      <td>2</td>\n",
              "      <td>3</td>\n",
              "      <td>0</td>\n",
              "    </tr>\n",
              "    <tr>\n",
              "      <th>302</th>\n",
              "      <td>Impetigo</td>\n",
              "      <td>0</td>\n",
              "      <td>3</td>\n",
              "      <td>0</td>\n",
              "      <td>0</td>\n",
              "      <td>0</td>\n",
              "      <td>0</td>\n",
              "      <td>0</td>\n",
              "      <td>0</td>\n",
              "      <td>0</td>\n",
              "      <td>...</td>\n",
              "      <td>0</td>\n",
              "      <td>0</td>\n",
              "      <td>0</td>\n",
              "      <td>0</td>\n",
              "      <td>0</td>\n",
              "      <td>0</td>\n",
              "      <td>4</td>\n",
              "      <td>0</td>\n",
              "      <td>3</td>\n",
              "      <td>0</td>\n",
              "    </tr>\n",
              "    <tr>\n",
              "      <th>303</th>\n",
              "      <td>Impetigo</td>\n",
              "      <td>0</td>\n",
              "      <td>3</td>\n",
              "      <td>0</td>\n",
              "      <td>0</td>\n",
              "      <td>0</td>\n",
              "      <td>0</td>\n",
              "      <td>0</td>\n",
              "      <td>0</td>\n",
              "      <td>0</td>\n",
              "      <td>...</td>\n",
              "      <td>0</td>\n",
              "      <td>0</td>\n",
              "      <td>0</td>\n",
              "      <td>0</td>\n",
              "      <td>0</td>\n",
              "      <td>0</td>\n",
              "      <td>4</td>\n",
              "      <td>2</td>\n",
              "      <td>0</td>\n",
              "      <td>0</td>\n",
              "    </tr>\n",
              "  </tbody>\n",
              "</table>\n",
              "<p>304 rows × 133 columns</p>\n",
              "</div>\n",
              "      <button class=\"colab-df-convert\" onclick=\"convertToInteractive('df-e139954b-9a3a-453d-ac26-825b0905b3f5')\"\n",
              "              title=\"Convert this dataframe to an interactive table.\"\n",
              "              style=\"display:none;\">\n",
              "        \n",
              "  <svg xmlns=\"http://www.w3.org/2000/svg\" height=\"24px\"viewBox=\"0 0 24 24\"\n",
              "       width=\"24px\">\n",
              "    <path d=\"M0 0h24v24H0V0z\" fill=\"none\"/>\n",
              "    <path d=\"M18.56 5.44l.94 2.06.94-2.06 2.06-.94-2.06-.94-.94-2.06-.94 2.06-2.06.94zm-11 1L8.5 8.5l.94-2.06 2.06-.94-2.06-.94L8.5 2.5l-.94 2.06-2.06.94zm10 10l.94 2.06.94-2.06 2.06-.94-2.06-.94-.94-2.06-.94 2.06-2.06.94z\"/><path d=\"M17.41 7.96l-1.37-1.37c-.4-.4-.92-.59-1.43-.59-.52 0-1.04.2-1.43.59L10.3 9.45l-7.72 7.72c-.78.78-.78 2.05 0 2.83L4 21.41c.39.39.9.59 1.41.59.51 0 1.02-.2 1.41-.59l7.78-7.78 2.81-2.81c.8-.78.8-2.07 0-2.86zM5.41 20L4 18.59l7.72-7.72 1.47 1.35L5.41 20z\"/>\n",
              "  </svg>\n",
              "      </button>\n",
              "      \n",
              "  <style>\n",
              "    .colab-df-container {\n",
              "      display:flex;\n",
              "      flex-wrap:wrap;\n",
              "      gap: 12px;\n",
              "    }\n",
              "\n",
              "    .colab-df-convert {\n",
              "      background-color: #E8F0FE;\n",
              "      border: none;\n",
              "      border-radius: 50%;\n",
              "      cursor: pointer;\n",
              "      display: none;\n",
              "      fill: #1967D2;\n",
              "      height: 32px;\n",
              "      padding: 0 0 0 0;\n",
              "      width: 32px;\n",
              "    }\n",
              "\n",
              "    .colab-df-convert:hover {\n",
              "      background-color: #E2EBFA;\n",
              "      box-shadow: 0px 1px 2px rgba(60, 64, 67, 0.3), 0px 1px 3px 1px rgba(60, 64, 67, 0.15);\n",
              "      fill: #174EA6;\n",
              "    }\n",
              "\n",
              "    [theme=dark] .colab-df-convert {\n",
              "      background-color: #3B4455;\n",
              "      fill: #D2E3FC;\n",
              "    }\n",
              "\n",
              "    [theme=dark] .colab-df-convert:hover {\n",
              "      background-color: #434B5C;\n",
              "      box-shadow: 0px 1px 3px 1px rgba(0, 0, 0, 0.15);\n",
              "      filter: drop-shadow(0px 1px 2px rgba(0, 0, 0, 0.3));\n",
              "      fill: #FFFFFF;\n",
              "    }\n",
              "  </style>\n",
              "\n",
              "      <script>\n",
              "        const buttonEl =\n",
              "          document.querySelector('#df-e139954b-9a3a-453d-ac26-825b0905b3f5 button.colab-df-convert');\n",
              "        buttonEl.style.display =\n",
              "          google.colab.kernel.accessAllowed ? 'block' : 'none';\n",
              "\n",
              "        async function convertToInteractive(key) {\n",
              "          const element = document.querySelector('#df-e139954b-9a3a-453d-ac26-825b0905b3f5');\n",
              "          const dataTable =\n",
              "            await google.colab.kernel.invokeFunction('convertToInteractive',\n",
              "                                                     [key], {});\n",
              "          if (!dataTable) return;\n",
              "\n",
              "          const docLinkHtml = 'Like what you see? Visit the ' +\n",
              "            '<a target=\"_blank\" href=https://colab.research.google.com/notebooks/data_table.ipynb>data table notebook</a>'\n",
              "            + ' to learn more about interactive tables.';\n",
              "          element.innerHTML = '';\n",
              "          dataTable['output_type'] = 'display_data';\n",
              "          await google.colab.output.renderOutput(dataTable, element);\n",
              "          const docLink = document.createElement('div');\n",
              "          docLink.innerHTML = docLinkHtml;\n",
              "          element.appendChild(docLink);\n",
              "        }\n",
              "      </script>\n",
              "    </div>\n",
              "  </div>\n",
              "  "
            ]
          },
          "metadata": {},
          "execution_count": 4
        }
      ]
    },
    {
      "cell_type": "code",
      "source": [
        "X=df.drop(['Disease'], axis=1)"
      ],
      "metadata": {
        "id": "rFi8c0lzFyGH"
      },
      "execution_count": 5,
      "outputs": []
    },
    {
      "cell_type": "code",
      "source": [
        "X"
      ],
      "metadata": {
        "colab": {
          "base_uri": "https://localhost:8080/",
          "height": 488
        },
        "id": "Bp2K279mHdx2",
        "outputId": "3541c057-b098-4334-83e8-c13f9fd51a9c"
      },
      "execution_count": 6,
      "outputs": [
        {
          "output_type": "execute_result",
          "data": {
            "text/plain": [
              "     itching  skin_rash  nodal_skin_eruptions  continuous_sneezing  shivering  \\\n",
              "0          1          3                     4                    0          0   \n",
              "1          0          3                     4                    0          0   \n",
              "2          1          0                     4                    0          0   \n",
              "3          1          3                     0                    0          0   \n",
              "4          1          3                     4                    0          0   \n",
              "..       ...        ...                   ...                  ...        ...   \n",
              "299        0          0                     0                    0          0   \n",
              "300        0          3                     0                    0          0   \n",
              "301        0          3                     0                    0          0   \n",
              "302        0          3                     0                    0          0   \n",
              "303        0          3                     0                    0          0   \n",
              "\n",
              "     chills  joint_pain  stomach_pain  acidity  ulcers_on_tongue  ...  \\\n",
              "0         0           0             0        0                 0  ...   \n",
              "1         0           0             0        0                 0  ...   \n",
              "2         0           0             0        0                 0  ...   \n",
              "3         0           0             0        0                 0  ...   \n",
              "4         0           0             0        0                 0  ...   \n",
              "..      ...         ...           ...      ...               ...  ...   \n",
              "299       0           0             0        0                 0  ...   \n",
              "300       0           0             0        0                 0  ...   \n",
              "301       0           0             0        0                 0  ...   \n",
              "302       0           0             0        0                 0  ...   \n",
              "303       0           0             0        0                 0  ...   \n",
              "\n",
              "     blackheads  scurring  skin_peeling  silver_like_dusting  \\\n",
              "0             0         0             0                    0   \n",
              "1             0         0             0                    0   \n",
              "2             0         0             0                    0   \n",
              "3             0         0             0                    0   \n",
              "4             0         0             0                    0   \n",
              "..          ...       ...           ...                  ...   \n",
              "299           0         0             0                    0   \n",
              "300           0         0             0                    0   \n",
              "301           0         0             0                    0   \n",
              "302           0         0             0                    0   \n",
              "303           0         0             0                    0   \n",
              "\n",
              "     small_dents_in_nails  inflammatory_nails  blister  red_sore_around_nose  \\\n",
              "0                       0                   0        0                     0   \n",
              "1                       0                   0        0                     0   \n",
              "2                       0                   0        0                     0   \n",
              "3                       0                   0        0                     0   \n",
              "4                       0                   0        0                     0   \n",
              "..                    ...                 ...      ...                   ...   \n",
              "299                     0                   0        4                     2   \n",
              "300                     0                   0        4                     2   \n",
              "301                     0                   0        0                     2   \n",
              "302                     0                   0        4                     0   \n",
              "303                     0                   0        4                     2   \n",
              "\n",
              "     yellow_crust_ooze  prognosis  \n",
              "0                    0          0  \n",
              "1                    0          0  \n",
              "2                    0          0  \n",
              "3                    0          0  \n",
              "4                    0          0  \n",
              "..                 ...        ...  \n",
              "299                  3          0  \n",
              "300                  3          0  \n",
              "301                  3          0  \n",
              "302                  3          0  \n",
              "303                  0          0  \n",
              "\n",
              "[304 rows x 132 columns]"
            ],
            "text/html": [
              "\n",
              "  <div id=\"df-438f3aa1-3867-4601-aaec-a9dbef91d7f6\">\n",
              "    <div class=\"colab-df-container\">\n",
              "      <div>\n",
              "<style scoped>\n",
              "    .dataframe tbody tr th:only-of-type {\n",
              "        vertical-align: middle;\n",
              "    }\n",
              "\n",
              "    .dataframe tbody tr th {\n",
              "        vertical-align: top;\n",
              "    }\n",
              "\n",
              "    .dataframe thead th {\n",
              "        text-align: right;\n",
              "    }\n",
              "</style>\n",
              "<table border=\"1\" class=\"dataframe\">\n",
              "  <thead>\n",
              "    <tr style=\"text-align: right;\">\n",
              "      <th></th>\n",
              "      <th>itching</th>\n",
              "      <th>skin_rash</th>\n",
              "      <th>nodal_skin_eruptions</th>\n",
              "      <th>continuous_sneezing</th>\n",
              "      <th>shivering</th>\n",
              "      <th>chills</th>\n",
              "      <th>joint_pain</th>\n",
              "      <th>stomach_pain</th>\n",
              "      <th>acidity</th>\n",
              "      <th>ulcers_on_tongue</th>\n",
              "      <th>...</th>\n",
              "      <th>blackheads</th>\n",
              "      <th>scurring</th>\n",
              "      <th>skin_peeling</th>\n",
              "      <th>silver_like_dusting</th>\n",
              "      <th>small_dents_in_nails</th>\n",
              "      <th>inflammatory_nails</th>\n",
              "      <th>blister</th>\n",
              "      <th>red_sore_around_nose</th>\n",
              "      <th>yellow_crust_ooze</th>\n",
              "      <th>prognosis</th>\n",
              "    </tr>\n",
              "  </thead>\n",
              "  <tbody>\n",
              "    <tr>\n",
              "      <th>0</th>\n",
              "      <td>1</td>\n",
              "      <td>3</td>\n",
              "      <td>4</td>\n",
              "      <td>0</td>\n",
              "      <td>0</td>\n",
              "      <td>0</td>\n",
              "      <td>0</td>\n",
              "      <td>0</td>\n",
              "      <td>0</td>\n",
              "      <td>0</td>\n",
              "      <td>...</td>\n",
              "      <td>0</td>\n",
              "      <td>0</td>\n",
              "      <td>0</td>\n",
              "      <td>0</td>\n",
              "      <td>0</td>\n",
              "      <td>0</td>\n",
              "      <td>0</td>\n",
              "      <td>0</td>\n",
              "      <td>0</td>\n",
              "      <td>0</td>\n",
              "    </tr>\n",
              "    <tr>\n",
              "      <th>1</th>\n",
              "      <td>0</td>\n",
              "      <td>3</td>\n",
              "      <td>4</td>\n",
              "      <td>0</td>\n",
              "      <td>0</td>\n",
              "      <td>0</td>\n",
              "      <td>0</td>\n",
              "      <td>0</td>\n",
              "      <td>0</td>\n",
              "      <td>0</td>\n",
              "      <td>...</td>\n",
              "      <td>0</td>\n",
              "      <td>0</td>\n",
              "      <td>0</td>\n",
              "      <td>0</td>\n",
              "      <td>0</td>\n",
              "      <td>0</td>\n",
              "      <td>0</td>\n",
              "      <td>0</td>\n",
              "      <td>0</td>\n",
              "      <td>0</td>\n",
              "    </tr>\n",
              "    <tr>\n",
              "      <th>2</th>\n",
              "      <td>1</td>\n",
              "      <td>0</td>\n",
              "      <td>4</td>\n",
              "      <td>0</td>\n",
              "      <td>0</td>\n",
              "      <td>0</td>\n",
              "      <td>0</td>\n",
              "      <td>0</td>\n",
              "      <td>0</td>\n",
              "      <td>0</td>\n",
              "      <td>...</td>\n",
              "      <td>0</td>\n",
              "      <td>0</td>\n",
              "      <td>0</td>\n",
              "      <td>0</td>\n",
              "      <td>0</td>\n",
              "      <td>0</td>\n",
              "      <td>0</td>\n",
              "      <td>0</td>\n",
              "      <td>0</td>\n",
              "      <td>0</td>\n",
              "    </tr>\n",
              "    <tr>\n",
              "      <th>3</th>\n",
              "      <td>1</td>\n",
              "      <td>3</td>\n",
              "      <td>0</td>\n",
              "      <td>0</td>\n",
              "      <td>0</td>\n",
              "      <td>0</td>\n",
              "      <td>0</td>\n",
              "      <td>0</td>\n",
              "      <td>0</td>\n",
              "      <td>0</td>\n",
              "      <td>...</td>\n",
              "      <td>0</td>\n",
              "      <td>0</td>\n",
              "      <td>0</td>\n",
              "      <td>0</td>\n",
              "      <td>0</td>\n",
              "      <td>0</td>\n",
              "      <td>0</td>\n",
              "      <td>0</td>\n",
              "      <td>0</td>\n",
              "      <td>0</td>\n",
              "    </tr>\n",
              "    <tr>\n",
              "      <th>4</th>\n",
              "      <td>1</td>\n",
              "      <td>3</td>\n",
              "      <td>4</td>\n",
              "      <td>0</td>\n",
              "      <td>0</td>\n",
              "      <td>0</td>\n",
              "      <td>0</td>\n",
              "      <td>0</td>\n",
              "      <td>0</td>\n",
              "      <td>0</td>\n",
              "      <td>...</td>\n",
              "      <td>0</td>\n",
              "      <td>0</td>\n",
              "      <td>0</td>\n",
              "      <td>0</td>\n",
              "      <td>0</td>\n",
              "      <td>0</td>\n",
              "      <td>0</td>\n",
              "      <td>0</td>\n",
              "      <td>0</td>\n",
              "      <td>0</td>\n",
              "    </tr>\n",
              "    <tr>\n",
              "      <th>...</th>\n",
              "      <td>...</td>\n",
              "      <td>...</td>\n",
              "      <td>...</td>\n",
              "      <td>...</td>\n",
              "      <td>...</td>\n",
              "      <td>...</td>\n",
              "      <td>...</td>\n",
              "      <td>...</td>\n",
              "      <td>...</td>\n",
              "      <td>...</td>\n",
              "      <td>...</td>\n",
              "      <td>...</td>\n",
              "      <td>...</td>\n",
              "      <td>...</td>\n",
              "      <td>...</td>\n",
              "      <td>...</td>\n",
              "      <td>...</td>\n",
              "      <td>...</td>\n",
              "      <td>...</td>\n",
              "      <td>...</td>\n",
              "      <td>...</td>\n",
              "    </tr>\n",
              "    <tr>\n",
              "      <th>299</th>\n",
              "      <td>0</td>\n",
              "      <td>0</td>\n",
              "      <td>0</td>\n",
              "      <td>0</td>\n",
              "      <td>0</td>\n",
              "      <td>0</td>\n",
              "      <td>0</td>\n",
              "      <td>0</td>\n",
              "      <td>0</td>\n",
              "      <td>0</td>\n",
              "      <td>...</td>\n",
              "      <td>0</td>\n",
              "      <td>0</td>\n",
              "      <td>0</td>\n",
              "      <td>0</td>\n",
              "      <td>0</td>\n",
              "      <td>0</td>\n",
              "      <td>4</td>\n",
              "      <td>2</td>\n",
              "      <td>3</td>\n",
              "      <td>0</td>\n",
              "    </tr>\n",
              "    <tr>\n",
              "      <th>300</th>\n",
              "      <td>0</td>\n",
              "      <td>3</td>\n",
              "      <td>0</td>\n",
              "      <td>0</td>\n",
              "      <td>0</td>\n",
              "      <td>0</td>\n",
              "      <td>0</td>\n",
              "      <td>0</td>\n",
              "      <td>0</td>\n",
              "      <td>0</td>\n",
              "      <td>...</td>\n",
              "      <td>0</td>\n",
              "      <td>0</td>\n",
              "      <td>0</td>\n",
              "      <td>0</td>\n",
              "      <td>0</td>\n",
              "      <td>0</td>\n",
              "      <td>4</td>\n",
              "      <td>2</td>\n",
              "      <td>3</td>\n",
              "      <td>0</td>\n",
              "    </tr>\n",
              "    <tr>\n",
              "      <th>301</th>\n",
              "      <td>0</td>\n",
              "      <td>3</td>\n",
              "      <td>0</td>\n",
              "      <td>0</td>\n",
              "      <td>0</td>\n",
              "      <td>0</td>\n",
              "      <td>0</td>\n",
              "      <td>0</td>\n",
              "      <td>0</td>\n",
              "      <td>0</td>\n",
              "      <td>...</td>\n",
              "      <td>0</td>\n",
              "      <td>0</td>\n",
              "      <td>0</td>\n",
              "      <td>0</td>\n",
              "      <td>0</td>\n",
              "      <td>0</td>\n",
              "      <td>0</td>\n",
              "      <td>2</td>\n",
              "      <td>3</td>\n",
              "      <td>0</td>\n",
              "    </tr>\n",
              "    <tr>\n",
              "      <th>302</th>\n",
              "      <td>0</td>\n",
              "      <td>3</td>\n",
              "      <td>0</td>\n",
              "      <td>0</td>\n",
              "      <td>0</td>\n",
              "      <td>0</td>\n",
              "      <td>0</td>\n",
              "      <td>0</td>\n",
              "      <td>0</td>\n",
              "      <td>0</td>\n",
              "      <td>...</td>\n",
              "      <td>0</td>\n",
              "      <td>0</td>\n",
              "      <td>0</td>\n",
              "      <td>0</td>\n",
              "      <td>0</td>\n",
              "      <td>0</td>\n",
              "      <td>4</td>\n",
              "      <td>0</td>\n",
              "      <td>3</td>\n",
              "      <td>0</td>\n",
              "    </tr>\n",
              "    <tr>\n",
              "      <th>303</th>\n",
              "      <td>0</td>\n",
              "      <td>3</td>\n",
              "      <td>0</td>\n",
              "      <td>0</td>\n",
              "      <td>0</td>\n",
              "      <td>0</td>\n",
              "      <td>0</td>\n",
              "      <td>0</td>\n",
              "      <td>0</td>\n",
              "      <td>0</td>\n",
              "      <td>...</td>\n",
              "      <td>0</td>\n",
              "      <td>0</td>\n",
              "      <td>0</td>\n",
              "      <td>0</td>\n",
              "      <td>0</td>\n",
              "      <td>0</td>\n",
              "      <td>4</td>\n",
              "      <td>2</td>\n",
              "      <td>0</td>\n",
              "      <td>0</td>\n",
              "    </tr>\n",
              "  </tbody>\n",
              "</table>\n",
              "<p>304 rows × 132 columns</p>\n",
              "</div>\n",
              "      <button class=\"colab-df-convert\" onclick=\"convertToInteractive('df-438f3aa1-3867-4601-aaec-a9dbef91d7f6')\"\n",
              "              title=\"Convert this dataframe to an interactive table.\"\n",
              "              style=\"display:none;\">\n",
              "        \n",
              "  <svg xmlns=\"http://www.w3.org/2000/svg\" height=\"24px\"viewBox=\"0 0 24 24\"\n",
              "       width=\"24px\">\n",
              "    <path d=\"M0 0h24v24H0V0z\" fill=\"none\"/>\n",
              "    <path d=\"M18.56 5.44l.94 2.06.94-2.06 2.06-.94-2.06-.94-.94-2.06-.94 2.06-2.06.94zm-11 1L8.5 8.5l.94-2.06 2.06-.94-2.06-.94L8.5 2.5l-.94 2.06-2.06.94zm10 10l.94 2.06.94-2.06 2.06-.94-2.06-.94-.94-2.06-.94 2.06-2.06.94z\"/><path d=\"M17.41 7.96l-1.37-1.37c-.4-.4-.92-.59-1.43-.59-.52 0-1.04.2-1.43.59L10.3 9.45l-7.72 7.72c-.78.78-.78 2.05 0 2.83L4 21.41c.39.39.9.59 1.41.59.51 0 1.02-.2 1.41-.59l7.78-7.78 2.81-2.81c.8-.78.8-2.07 0-2.86zM5.41 20L4 18.59l7.72-7.72 1.47 1.35L5.41 20z\"/>\n",
              "  </svg>\n",
              "      </button>\n",
              "      \n",
              "  <style>\n",
              "    .colab-df-container {\n",
              "      display:flex;\n",
              "      flex-wrap:wrap;\n",
              "      gap: 12px;\n",
              "    }\n",
              "\n",
              "    .colab-df-convert {\n",
              "      background-color: #E8F0FE;\n",
              "      border: none;\n",
              "      border-radius: 50%;\n",
              "      cursor: pointer;\n",
              "      display: none;\n",
              "      fill: #1967D2;\n",
              "      height: 32px;\n",
              "      padding: 0 0 0 0;\n",
              "      width: 32px;\n",
              "    }\n",
              "\n",
              "    .colab-df-convert:hover {\n",
              "      background-color: #E2EBFA;\n",
              "      box-shadow: 0px 1px 2px rgba(60, 64, 67, 0.3), 0px 1px 3px 1px rgba(60, 64, 67, 0.15);\n",
              "      fill: #174EA6;\n",
              "    }\n",
              "\n",
              "    [theme=dark] .colab-df-convert {\n",
              "      background-color: #3B4455;\n",
              "      fill: #D2E3FC;\n",
              "    }\n",
              "\n",
              "    [theme=dark] .colab-df-convert:hover {\n",
              "      background-color: #434B5C;\n",
              "      box-shadow: 0px 1px 3px 1px rgba(0, 0, 0, 0.15);\n",
              "      filter: drop-shadow(0px 1px 2px rgba(0, 0, 0, 0.3));\n",
              "      fill: #FFFFFF;\n",
              "    }\n",
              "  </style>\n",
              "\n",
              "      <script>\n",
              "        const buttonEl =\n",
              "          document.querySelector('#df-438f3aa1-3867-4601-aaec-a9dbef91d7f6 button.colab-df-convert');\n",
              "        buttonEl.style.display =\n",
              "          google.colab.kernel.accessAllowed ? 'block' : 'none';\n",
              "\n",
              "        async function convertToInteractive(key) {\n",
              "          const element = document.querySelector('#df-438f3aa1-3867-4601-aaec-a9dbef91d7f6');\n",
              "          const dataTable =\n",
              "            await google.colab.kernel.invokeFunction('convertToInteractive',\n",
              "                                                     [key], {});\n",
              "          if (!dataTable) return;\n",
              "\n",
              "          const docLinkHtml = 'Like what you see? Visit the ' +\n",
              "            '<a target=\"_blank\" href=https://colab.research.google.com/notebooks/data_table.ipynb>data table notebook</a>'\n",
              "            + ' to learn more about interactive tables.';\n",
              "          element.innerHTML = '';\n",
              "          dataTable['output_type'] = 'display_data';\n",
              "          await google.colab.output.renderOutput(dataTable, element);\n",
              "          const docLink = document.createElement('div');\n",
              "          docLink.innerHTML = docLinkHtml;\n",
              "          element.appendChild(docLink);\n",
              "        }\n",
              "      </script>\n",
              "    </div>\n",
              "  </div>\n",
              "  "
            ]
          },
          "metadata": {},
          "execution_count": 6
        }
      ]
    },
    {
      "cell_type": "code",
      "source": [
        "y=df.iloc[:,0]"
      ],
      "metadata": {
        "id": "SEasB5eu-WsF"
      },
      "execution_count": 7,
      "outputs": []
    },
    {
      "cell_type": "code",
      "source": [
        "y"
      ],
      "metadata": {
        "colab": {
          "base_uri": "https://localhost:8080/"
        },
        "id": "6cmc7MEyIxJk",
        "outputId": "2ed61df2-d390-4fa8-f720-37035b649554"
      },
      "execution_count": 8,
      "outputs": [
        {
          "output_type": "execute_result",
          "data": {
            "text/plain": [
              "0      Fungalinfection\n",
              "1      Fungalinfection\n",
              "2      Fungalinfection\n",
              "3      Fungalinfection\n",
              "4      Fungalinfection\n",
              "            ...       \n",
              "299           Impetigo\n",
              "300           Impetigo\n",
              "301           Impetigo\n",
              "302           Impetigo\n",
              "303           Impetigo\n",
              "Name: Disease, Length: 304, dtype: object"
            ]
          },
          "metadata": {},
          "execution_count": 8
        }
      ]
    },
    {
      "cell_type": "code",
      "source": [
        "symp=[]\n",
        "disease=[]\n",
        "for i in range(len(df)):\n",
        "    symp.append(X.columns[X.iloc[i]!=0].to_list())\n",
        "    disease.append(y[i])"
      ],
      "metadata": {
        "id": "zR9MOzob_srt"
      },
      "execution_count": 9,
      "outputs": []
    },
    {
      "cell_type": "code",
      "source": [
        "symp[0]"
      ],
      "metadata": {
        "colab": {
          "base_uri": "https://localhost:8080/"
        },
        "id": "bHbuaDIWE1HF",
        "outputId": "4ac1465f-69fa-45b1-c5b8-7598aa5ce9d9"
      },
      "execution_count": 10,
      "outputs": [
        {
          "output_type": "execute_result",
          "data": {
            "text/plain": [
              "['itching', 'skin_rash', 'nodal_skin_eruptions', 'dischromic_patches']"
            ]
          },
          "metadata": {},
          "execution_count": 10
        }
      ]
    },
    {
      "cell_type": "code",
      "source": [
        "disease[0]"
      ],
      "metadata": {
        "colab": {
          "base_uri": "https://localhost:8080/",
          "height": 36
        },
        "id": "JLz8I55lE3gy",
        "outputId": "a285206c-53fc-416a-e3bb-c632a66f2d90"
      },
      "execution_count": 11,
      "outputs": [
        {
          "output_type": "execute_result",
          "data": {
            "text/plain": [
              "'Fungalinfection'"
            ],
            "application/vnd.google.colaboratory.intrinsic+json": {
              "type": "string"
            }
          },
          "metadata": {},
          "execution_count": 11
        }
      ]
    },
    {
      "cell_type": "code",
      "source": [
        "all_symp_col=list(X.columns[:])\n",
        "def clean_symp(sym):\n",
        "    return sym.replace('_',' ').replace('.1','').replace('(typhos)','').replace('yellowish','yellow').replace('yellowing','yellow') "
      ],
      "metadata": {
        "id": "PHqkL8CRFBPI"
      },
      "execution_count": 12,
      "outputs": []
    },
    {
      "cell_type": "code",
      "source": [
        "len(all_symp_col)"
      ],
      "metadata": {
        "colab": {
          "base_uri": "https://localhost:8080/"
        },
        "id": "A5eeo6etMDSh",
        "outputId": "4b89fe6d-1f75-4f43-a050-b43c9a07cf79"
      },
      "execution_count": 13,
      "outputs": [
        {
          "output_type": "execute_result",
          "data": {
            "text/plain": [
              "132"
            ]
          },
          "metadata": {},
          "execution_count": 13
        }
      ]
    },
    {
      "cell_type": "code",
      "source": [
        "all_symp=[clean_symp(sym) for sym in (all_symp_col)]"
      ],
      "metadata": {
        "id": "oaIFchK5LVGn"
      },
      "execution_count": 14,
      "outputs": []
    },
    {
      "cell_type": "code",
      "source": [
        "all_symp"
      ],
      "metadata": {
        "colab": {
          "base_uri": "https://localhost:8080/"
        },
        "id": "YpbTnc5QLaqy",
        "outputId": "43656e9d-7e5e-457a-e39b-49df6595a7d2"
      },
      "execution_count": 15,
      "outputs": [
        {
          "output_type": "execute_result",
          "data": {
            "text/plain": [
              "['itching',\n",
              " 'skin rash',\n",
              " 'nodal skin eruptions',\n",
              " 'continuous sneezing',\n",
              " 'shivering',\n",
              " 'chills',\n",
              " 'joint pain',\n",
              " 'stomach pain',\n",
              " 'acidity',\n",
              " 'ulcers on tongue',\n",
              " 'muscle wasting',\n",
              " 'vomiting',\n",
              " 'burning micturition',\n",
              " 'spotting urination',\n",
              " 'fatigue',\n",
              " 'weight gain',\n",
              " 'anxiety',\n",
              " 'cold hands and feets',\n",
              " 'mood swings',\n",
              " 'weight loss',\n",
              " 'restlessness',\n",
              " 'lethargy',\n",
              " 'patches in throat',\n",
              " 'irregular sugar level',\n",
              " 'cough',\n",
              " 'high fever',\n",
              " 'sunken eyes',\n",
              " 'breathlessness',\n",
              " 'sweating',\n",
              " 'dehydration',\n",
              " 'indigestion',\n",
              " 'headache',\n",
              " 'yellow skin',\n",
              " 'dark urine',\n",
              " 'nausea',\n",
              " 'loss of appetite',\n",
              " 'pain behind the eyes',\n",
              " 'back pain',\n",
              " 'constipation',\n",
              " 'abdominal pain',\n",
              " 'diarrhoea',\n",
              " 'mild fever',\n",
              " 'yellow urine',\n",
              " 'yellow of eyes',\n",
              " 'acute liver failure',\n",
              " 'fluid overload',\n",
              " 'swelling of stomach',\n",
              " 'swelled lymph nodes',\n",
              " 'malaise',\n",
              " 'blurred and distorted vision',\n",
              " 'phlegm',\n",
              " 'throat irritation',\n",
              " 'redness of eyes',\n",
              " 'sinus pressure',\n",
              " 'runny nose',\n",
              " 'congestion',\n",
              " 'chest pain',\n",
              " 'weakness in limbs',\n",
              " 'fast heart rate',\n",
              " 'pain during bowel movements',\n",
              " 'pain in anal region',\n",
              " 'bloody stool',\n",
              " 'irritation in anus',\n",
              " 'neck pain',\n",
              " 'dizziness',\n",
              " 'cramps',\n",
              " 'bruising',\n",
              " 'obesity',\n",
              " 'swollen legs',\n",
              " 'swollen blood vessels',\n",
              " 'puffy face and eyes',\n",
              " 'enlarged thyroid',\n",
              " 'brittle nails',\n",
              " 'swollen extremeties',\n",
              " 'excessive hunger',\n",
              " 'extra marital contacts',\n",
              " 'drying and tingling lips',\n",
              " 'slurred speech',\n",
              " 'knee pain',\n",
              " 'hip joint pain',\n",
              " 'muscle weakness',\n",
              " 'stiff neck',\n",
              " 'swelling joints',\n",
              " 'movement stiffness',\n",
              " 'spinning movements',\n",
              " 'loss of balance',\n",
              " 'unsteadiness',\n",
              " 'weakness of one body side',\n",
              " 'loss of smell',\n",
              " 'bladder discomfort',\n",
              " 'foul smell ofurine',\n",
              " 'continuous feel of urine',\n",
              " 'passage of gases',\n",
              " 'internal itching',\n",
              " 'toxic look ',\n",
              " 'depression',\n",
              " 'irritability',\n",
              " 'muscle pain',\n",
              " 'altered sensorium',\n",
              " 'red spots over body',\n",
              " 'belly pain',\n",
              " 'abnormal menstruation',\n",
              " 'dischromic patches',\n",
              " 'watering from eyes',\n",
              " 'increased appetite',\n",
              " 'polyuria',\n",
              " 'family history',\n",
              " 'mucoid sputum',\n",
              " 'rusty sputum',\n",
              " 'lack of concentration',\n",
              " 'visual disturbances',\n",
              " 'receiving blood transfusion',\n",
              " 'receiving unsterile injections',\n",
              " 'coma',\n",
              " 'stomach bleeding',\n",
              " 'distention of abdomen',\n",
              " 'history of alcohol consumption',\n",
              " 'blood in sputum',\n",
              " 'prominent veins on calf',\n",
              " 'palpitations',\n",
              " 'painful walking',\n",
              " 'pus filled pimples',\n",
              " 'blackheads',\n",
              " 'scurring',\n",
              " 'skin peeling',\n",
              " 'silver like dusting',\n",
              " 'small dents in nails',\n",
              " 'inflammatory nails',\n",
              " 'blister',\n",
              " 'red sore around nose',\n",
              " 'yellow crust ooze',\n",
              " 'prognosis']"
            ]
          },
          "metadata": {},
          "execution_count": 15
        }
      ]
    },
    {
      "cell_type": "code",
      "source": [
        "without_syns=[]\n",
        "with_syns=[]\n",
        "for sym in all_symp:\n",
        "    if not wn.synsets(sym) :\n",
        "        without_syns.append(sym)\n",
        "    else:\n",
        "        with_syns.append(sym)"
      ],
      "metadata": {
        "id": "a5QEuAl6MWyp"
      },
      "execution_count": 16,
      "outputs": []
    },
    {
      "cell_type": "code",
      "source": [
        ""
      ],
      "metadata": {
        "id": "K556Q9bVNp30"
      },
      "execution_count": 16,
      "outputs": []
    },
    {
      "cell_type": "markdown",
      "source": [
        "# Input preprocessing"
      ],
      "metadata": {
        "id": "-fIGA9p1Pweo"
      }
    },
    {
      "cell_type": "code",
      "source": [
        "from spacy.lang.en.stop_words import STOP_WORDS\n",
        "import spacy\n",
        "nlp = spacy.load('en_core_web_sm')"
      ],
      "metadata": {
        "id": "VaVILmZwalA1"
      },
      "execution_count": 17,
      "outputs": []
    },
    {
      "cell_type": "code",
      "source": [
        "def preprocess(doc):\n",
        "    nlp_doc=nlp(doc)\n",
        "    d=[]\n",
        "    for token in nlp_doc:\n",
        "        if(not token.text.lower()  in STOP_WORDS and  token.text.isalpha()):\n",
        "            d.append(token.lemma_.lower() )\n",
        "    return ' '.join(d)"
      ],
      "metadata": {
        "id": "2f9KFeqifyCw"
      },
      "execution_count": 110,
      "outputs": []
    },
    {
      "cell_type": "code",
      "source": [
        "def preprocess_sym(doc):\n",
        "  nlp_doc=nlp(doc)\n",
        "  d=[]\n",
        "  for token in nlp_doc:\n",
        "      if(not token.text.lower()  in STOP_WORDS and  token.text.isalpha()):\n",
        "          d.append(token.lemma_.lower() )\n",
        "           \n",
        "  return ' '.join(d)\n"
      ],
      "metadata": {
        "id": "-AY0lo3-P035"
      },
      "execution_count": 18,
      "outputs": []
    },
    {
      "cell_type": "code",
      "source": [
        "all_symp_pr=[preprocess(sym) for sym in all_symp]"
      ],
      "metadata": {
        "id": "QcCGMXSHaim6"
      },
      "execution_count": 111,
      "outputs": []
    },
    {
      "cell_type": "code",
      "source": [
        "len(all_symp_col)"
      ],
      "metadata": {
        "colab": {
          "base_uri": "https://localhost:8080/"
        },
        "id": "q03J5GYCbF9I",
        "outputId": "2c1ddc8d-1a9a-4985-d8d2-032e3044b9aa"
      },
      "execution_count": 97,
      "outputs": [
        {
          "output_type": "execute_result",
          "data": {
            "text/plain": [
              "132"
            ]
          },
          "metadata": {},
          "execution_count": 97
        }
      ]
    },
    {
      "cell_type": "code",
      "source": [
        "dict(zip(all_symp_pr, all_symp_col))"
      ],
      "metadata": {
        "id": "kNIrcTOgdn-X"
      },
      "execution_count": null,
      "outputs": []
    },
    {
      "cell_type": "code",
      "source": [
        "#associates each preprocessed symp with the name of its original column\n",
        "col_dict = dict(zip(all_symp_pr, all_symp_col))"
      ],
      "metadata": {
        "id": "qEtwRq8BeCGO"
      },
      "execution_count": 112,
      "outputs": []
    },
    {
      "cell_type": "code",
      "execution_count": 101,
      "metadata": {
        "id": "GCOqgmhfENEn"
      },
      "outputs": [],
      "source": [
        "#associe chaque symp pretraite au non de sa colonne originale\n",
        "col_dict = dict(zip(all_symp_pr, all_symp_col))"
      ]
    },
    {
      "cell_type": "code",
      "source": [
        "col_dict"
      ],
      "metadata": {
        "colab": {
          "base_uri": "https://localhost:8080/"
        },
        "id": "t6AtorBaV2YU",
        "outputId": "3a191731-30e1-42ec-aae2-d5273f33f986"
      },
      "execution_count": 113,
      "outputs": [
        {
          "output_type": "execute_result",
          "data": {
            "text/plain": [
              "{'abdominal pain': 'abdominal_pain',\n",
              " 'abnormal menstruation': 'abnormal_menstruation',\n",
              " 'acidity': 'acidity',\n",
              " 'acute liver failure': 'acute_liver_failure',\n",
              " 'altered sensorium': 'altered_sensorium',\n",
              " 'anxiety': 'anxiety',\n",
              " 'belly pain': 'belly_pain',\n",
              " 'blackhead': 'blackheads',\n",
              " 'bladder discomfort': 'bladder_discomfort',\n",
              " 'blister': 'blister',\n",
              " 'blood sputum': 'blood_in_sputum',\n",
              " 'bloody stool': 'bloody_stool',\n",
              " 'blur distorted vision': 'blurred_and_distorted_vision',\n",
              " 'breathlessness': 'breathlessness',\n",
              " 'brittle nail': 'brittle_nails',\n",
              " 'bruise': 'bruising',\n",
              " 'burn micturition': 'burning_micturition',\n",
              " 'chest pain': 'chest_pain',\n",
              " 'chill': 'chills',\n",
              " 'cold hand feet': 'cold_hands_and_feets',\n",
              " 'coma': 'coma',\n",
              " 'congestion': 'congestion',\n",
              " 'constipation': 'constipation',\n",
              " 'continuous feel urine': 'continuous_feel_of_urine',\n",
              " 'continuous sneeze': 'continuous_sneezing',\n",
              " 'cough': 'cough',\n",
              " 'cramp': 'cramps',\n",
              " 'dark urine': 'dark_urine',\n",
              " 'dehydration': 'dehydration',\n",
              " 'depression': 'depression',\n",
              " 'diarrhoea': 'diarrhoea',\n",
              " 'dischromic patch': 'dischromic_patches',\n",
              " 'distention abdomen': 'distention_of_abdomen',\n",
              " 'dizziness': 'dizziness',\n",
              " 'dry tingling lip': 'drying_and_tingling_lips',\n",
              " 'enlarge thyroid': 'enlarged_thyroid',\n",
              " 'excessive hunger': 'excessive_hunger',\n",
              " 'extra marital contact': 'extra_marital_contacts',\n",
              " 'family history': 'family_history',\n",
              " 'fast heart rate': 'fast_heart_rate',\n",
              " 'fatigue': 'fatigue',\n",
              " 'fluid overload': 'fluid_overload',\n",
              " 'foul smell ofurine': 'foul_smell_ofurine',\n",
              " 'headache': 'headache',\n",
              " 'high fever': 'high_fever',\n",
              " 'hip joint pain': 'hip_joint_pain',\n",
              " 'history alcohol consumption': 'history_of_alcohol_consumption',\n",
              " 'increase appetite': 'increased_appetite',\n",
              " 'indigestion': 'indigestion',\n",
              " 'inflammatory nail': 'inflammatory_nails',\n",
              " 'internal itching': 'internal_itching',\n",
              " 'irregular sugar level': 'irregular_sugar_level',\n",
              " 'irritability': 'irritability',\n",
              " 'irritation anus': 'irritation_in_anus',\n",
              " 'itch': 'itching',\n",
              " 'joint pain': 'joint_pain',\n",
              " 'knee pain': 'knee_pain',\n",
              " 'lack concentration': 'lack_of_concentration',\n",
              " 'lethargy': 'lethargy',\n",
              " 'loss appetite': 'loss_of_appetite',\n",
              " 'loss balance': 'loss_of_balance',\n",
              " 'loss smell': 'loss_of_smell',\n",
              " 'malaise': 'malaise',\n",
              " 'mild fever': 'mild_fever',\n",
              " 'mood swing': 'mood_swings',\n",
              " 'movement stiffness': 'movement_stiffness',\n",
              " 'mucoid sputum': 'mucoid_sputum',\n",
              " 'muscle pain': 'muscle_pain',\n",
              " 'muscle wasting': 'muscle_wasting',\n",
              " 'muscle weakness': 'muscle_weakness',\n",
              " 'nausea': 'nausea',\n",
              " 'neck pain': 'neck_pain',\n",
              " 'nodal skin eruption': 'nodal_skin_eruptions',\n",
              " 'obesity': 'obesity',\n",
              " 'pain': 'back_pain',\n",
              " 'pain anal region': 'pain_in_anal_region',\n",
              " 'pain bowel movement': 'pain_during_bowel_movements',\n",
              " 'pain eye': 'pain_behind_the_eyes',\n",
              " 'painful walking': 'painful_walking',\n",
              " 'palpitation': 'palpitations',\n",
              " 'passage gas': 'passage_of_gases',\n",
              " 'patch throat': 'patches_in_throat',\n",
              " 'phlegm': 'phlegm',\n",
              " 'polyuria': 'polyuria',\n",
              " 'prognosis': 'prognosis',\n",
              " 'prominent vein calf': 'prominent_veins_on_calf',\n",
              " 'puffy face eye': 'puffy_face_and_eyes',\n",
              " 'pus fill pimple': 'pus_filled_pimples',\n",
              " 'receive blood transfusion': 'receiving_blood_transfusion',\n",
              " 'receive unsterile injection': 'receiving_unsterile_injections',\n",
              " 'red sore nose': 'red_sore_around_nose',\n",
              " 'red spot body': 'red_spots_over_body',\n",
              " 'redness eye': 'redness_of_eyes',\n",
              " 'restlessness': 'restlessness',\n",
              " 'runny nose': 'runny_nose',\n",
              " 'rusty sputum': 'rusty_sputum',\n",
              " 'scurre': 'scurring',\n",
              " 'shiver': 'shivering',\n",
              " 'silver like dust': 'silver_like_dusting',\n",
              " 'sink eye': 'sunken_eyes',\n",
              " 'sinus pressure': 'sinus_pressure',\n",
              " 'skin peeling': 'skin_peeling',\n",
              " 'skin rash': 'skin_rash',\n",
              " 'slur speech': 'slurred_speech',\n",
              " 'small dent nail': 'small_dents_in_nails',\n",
              " 'spin movement': 'spinning_movements',\n",
              " 'spot urination': 'spotting_urination',\n",
              " 'stiff neck': 'stiff_neck',\n",
              " 'stomach bleed': 'stomach_bleeding',\n",
              " 'stomach pain': 'stomach_pain',\n",
              " 'sweat': 'sweating',\n",
              " 'swell joint': 'swelling_joints',\n",
              " 'swell lymph node': 'swelled_lymph_nodes',\n",
              " 'swell stomach': 'swelling_of_stomach',\n",
              " 'swollen blood vessel': 'swollen_blood_vessels',\n",
              " 'swollen extremetie': 'swollen_extremeties',\n",
              " 'swollen leg': 'swollen_legs',\n",
              " 'throat irritation': 'throat_irritation',\n",
              " 'toxic look': 'toxic_look_(typhos)',\n",
              " 'ulcer tongue': 'ulcers_on_tongue',\n",
              " 'unsteadiness': 'unsteadiness',\n",
              " 'visual disturbance': 'visual_disturbances',\n",
              " 'vomit': 'vomiting',\n",
              " 'water eye': 'watering_from_eyes',\n",
              " 'weakness body': 'weakness_of_one_body_side',\n",
              " 'weakness limb': 'weakness_in_limbs',\n",
              " 'weight gain': 'weight_gain',\n",
              " 'weight loss': 'weight_loss',\n",
              " 'yellow crust ooze': 'yellow_crust_ooze',\n",
              " 'yellow eye': 'yellowing_of_eyes',\n",
              " 'yellow skin': 'yellowish_skin',\n",
              " 'yellow urine': 'yellow_urine'}"
            ]
          },
          "metadata": {},
          "execution_count": 113
        }
      ]
    },
    {
      "cell_type": "code",
      "source": [
        "all_symp_col"
      ],
      "metadata": {
        "colab": {
          "base_uri": "https://localhost:8080/"
        },
        "id": "801vg3zyaIAd",
        "outputId": "a0af2b06-b5ce-4cdd-d218-0f184c8b3115"
      },
      "execution_count": 92,
      "outputs": [
        {
          "output_type": "execute_result",
          "data": {
            "text/plain": [
              "['itching',\n",
              " 'skin_rash',\n",
              " 'nodal_skin_eruptions',\n",
              " 'continuous_sneezing',\n",
              " 'shivering',\n",
              " 'chills',\n",
              " 'joint_pain',\n",
              " 'stomach_pain',\n",
              " 'acidity',\n",
              " 'ulcers_on_tongue',\n",
              " 'muscle_wasting',\n",
              " 'vomiting',\n",
              " 'burning_micturition',\n",
              " 'spotting_urination',\n",
              " 'fatigue',\n",
              " 'weight_gain',\n",
              " 'anxiety',\n",
              " 'cold_hands_and_feets',\n",
              " 'mood_swings',\n",
              " 'weight_loss',\n",
              " 'restlessness',\n",
              " 'lethargy',\n",
              " 'patches_in_throat',\n",
              " 'irregular_sugar_level',\n",
              " 'cough',\n",
              " 'high_fever',\n",
              " 'sunken_eyes',\n",
              " 'breathlessness',\n",
              " 'sweating',\n",
              " 'dehydration',\n",
              " 'indigestion',\n",
              " 'headache',\n",
              " 'yellowish_skin',\n",
              " 'dark_urine',\n",
              " 'nausea',\n",
              " 'loss_of_appetite',\n",
              " 'pain_behind_the_eyes',\n",
              " 'back_pain',\n",
              " 'constipation',\n",
              " 'abdominal_pain',\n",
              " 'diarrhoea',\n",
              " 'mild_fever',\n",
              " 'yellow_urine',\n",
              " 'yellowing_of_eyes',\n",
              " 'acute_liver_failure',\n",
              " 'fluid_overload',\n",
              " 'swelling_of_stomach',\n",
              " 'swelled_lymph_nodes',\n",
              " 'malaise',\n",
              " 'blurred_and_distorted_vision',\n",
              " 'phlegm',\n",
              " 'throat_irritation',\n",
              " 'redness_of_eyes',\n",
              " 'sinus_pressure',\n",
              " 'runny_nose',\n",
              " 'congestion',\n",
              " 'chest_pain',\n",
              " 'weakness_in_limbs',\n",
              " 'fast_heart_rate',\n",
              " 'pain_during_bowel_movements',\n",
              " 'pain_in_anal_region',\n",
              " 'bloody_stool',\n",
              " 'irritation_in_anus',\n",
              " 'neck_pain',\n",
              " 'dizziness',\n",
              " 'cramps',\n",
              " 'bruising',\n",
              " 'obesity',\n",
              " 'swollen_legs',\n",
              " 'swollen_blood_vessels',\n",
              " 'puffy_face_and_eyes',\n",
              " 'enlarged_thyroid',\n",
              " 'brittle_nails',\n",
              " 'swollen_extremeties',\n",
              " 'excessive_hunger',\n",
              " 'extra_marital_contacts',\n",
              " 'drying_and_tingling_lips',\n",
              " 'slurred_speech',\n",
              " 'knee_pain',\n",
              " 'hip_joint_pain',\n",
              " 'muscle_weakness',\n",
              " 'stiff_neck',\n",
              " 'swelling_joints',\n",
              " 'movement_stiffness',\n",
              " 'spinning_movements',\n",
              " 'loss_of_balance',\n",
              " 'unsteadiness',\n",
              " 'weakness_of_one_body_side',\n",
              " 'loss_of_smell',\n",
              " 'bladder_discomfort',\n",
              " 'foul_smell_ofurine',\n",
              " 'continuous_feel_of_urine',\n",
              " 'passage_of_gases',\n",
              " 'internal_itching',\n",
              " 'toxic_look_(typhos)',\n",
              " 'depression',\n",
              " 'irritability',\n",
              " 'muscle_pain',\n",
              " 'altered_sensorium',\n",
              " 'red_spots_over_body',\n",
              " 'belly_pain',\n",
              " 'abnormal_menstruation',\n",
              " 'dischromic_patches',\n",
              " 'watering_from_eyes',\n",
              " 'increased_appetite',\n",
              " 'polyuria',\n",
              " 'family_history',\n",
              " 'mucoid_sputum',\n",
              " 'rusty_sputum',\n",
              " 'lack_of_concentration',\n",
              " 'visual_disturbances',\n",
              " 'receiving_blood_transfusion',\n",
              " 'receiving_unsterile_injections',\n",
              " 'coma',\n",
              " 'stomach_bleeding',\n",
              " 'distention_of_abdomen',\n",
              " 'history_of_alcohol_consumption',\n",
              " 'blood_in_sputum',\n",
              " 'prominent_veins_on_calf',\n",
              " 'palpitations',\n",
              " 'painful_walking',\n",
              " 'pus_filled_pimples',\n",
              " 'blackheads',\n",
              " 'scurring',\n",
              " 'skin_peeling',\n",
              " 'silver_like_dusting',\n",
              " 'small_dents_in_nails',\n",
              " 'inflammatory_nails',\n",
              " 'blister',\n",
              " 'red_sore_around_nose',\n",
              " 'yellow_crust_ooze',\n",
              " 'prognosis']"
            ]
          },
          "metadata": {},
          "execution_count": 92
        }
      ]
    },
    {
      "cell_type": "code",
      "source": [
        "all_sym=[col_dict[\"dizziness\"],col_dict[\"redness eye\"]]"
      ],
      "metadata": {
        "id": "Tw_MQgabVVaU"
      },
      "execution_count": 86,
      "outputs": []
    },
    {
      "cell_type": "code",
      "source": [
        "all_sym"
      ],
      "metadata": {
        "colab": {
          "base_uri": "https://localhost:8080/"
        },
        "id": "x6gqN7OyVvPz",
        "outputId": "8a21000a-690d-4284-ab71-8e25203ff879"
      },
      "execution_count": 87,
      "outputs": [
        {
          "output_type": "execute_result",
          "data": {
            "text/plain": [
              "['dark_urine', 'passage_of_gases']"
            ]
          },
          "metadata": {},
          "execution_count": 87
        }
      ]
    },
    {
      "cell_type": "markdown",
      "source": [
        "# Syntactic Similarity"
      ],
      "metadata": {
        "id": "2P_ekwcRy3Mk"
      }
    },
    {
      "cell_type": "code",
      "source": [
        "def jaccard_set(str1, str2):\n",
        "    list1=str1.split(' ')\n",
        "    list2=str2.split(' ')\n",
        "    intersection = len(list(set(list1).intersection(list2)))\n",
        "    union = (len(list1) + len(list2)) - intersection\n",
        "    return float(intersection) / union"
      ],
      "metadata": {
        "id": "kopQuTdTy4dA"
      },
      "execution_count": 21,
      "outputs": []
    },
    {
      "cell_type": "code",
      "source": [
        "import itertools\n",
        "#Returns all the subsets of this set. This is a generator.\n",
        "def powerset(seq):\n",
        "    if len(seq) <= 1:\n",
        "        yield seq\n",
        "        yield []\n",
        "    else:\n",
        "        for item in powerset(seq[1:]):\n",
        "            yield [seq[0]]+item\n",
        "            yield item"
      ],
      "metadata": {
        "id": "m8nI3E8Ey94N"
      },
      "execution_count": 22,
      "outputs": []
    },
    {
      "cell_type": "code",
      "source": [
        "#Sort list based on length\n",
        "def sort(a):\n",
        "    for i in range(len(a)):\n",
        "        for j in range(i+1,len(a)):\n",
        "            if len(a[j])>len(a[i]):\n",
        "                a[i],a[j]=a[j],a[i]\n",
        "    a.pop()\n",
        "    return a"
      ],
      "metadata": {
        "id": "EVF99oJMzDXy"
      },
      "execution_count": 23,
      "outputs": []
    },
    {
      "cell_type": "code",
      "source": [
        "# find all permutations of a list\n",
        "def permutations(s):\n",
        "    permutations = list(itertools.permutations(s))\n",
        "    return([' '.join(permutation) for permutation in permutations])"
      ],
      "metadata": {
        "id": "amz40ee6zEeF"
      },
      "execution_count": 24,
      "outputs": []
    },
    {
      "cell_type": "code",
      "source": [
        "def DoesExist(txt):\n",
        "    txt=txt.split(' ')\n",
        "    combinations = [x for x in powerset(txt)]\n",
        "    sort(combinations)\n",
        "    for comb in combinations :\n",
        "        #print(permutations(comb))\n",
        "        for sym in permutations(comb):\n",
        "            if sym in all_symp_pr:\n",
        "                #print(sym)\n",
        "                return sym\n",
        "    return False\n",
        "    "
      ],
      "metadata": {
        "id": "ejJBnsy-zG8j"
      },
      "execution_count": 25,
      "outputs": []
    },
    {
      "cell_type": "code",
      "source": [
        "def syntactic_similarity(symp_t,corpus):\n",
        "    most_sim=[]\n",
        "    poss_sym=[]\n",
        "    for symp in corpus:\n",
        "        d=jaccard_set(symp_t,symp)\n",
        "        most_sim.append(d)\n",
        "    order=np.argsort(most_sim)[::-1].tolist()\n",
        "    for i in order:\n",
        "        if DoesExist(corpus[i]) :\n",
        "            return 1,[corpus[i]]\n",
        "        if corpus[i] not in poss_sym and most_sim[i]!=0:\n",
        "            poss_sym.append(corpus[i])\n",
        "    if len(poss_sym):\n",
        "        return 1,poss_sym\n",
        "    else: return 0,None\n",
        "    "
      ],
      "metadata": {
        "id": "-J8bVw4Ay66p"
      },
      "execution_count": 26,
      "outputs": []
    },
    {
      "cell_type": "code",
      "source": [
        "DoesExist('feel pain abdominal')"
      ],
      "metadata": {
        "colab": {
          "base_uri": "https://localhost:8080/",
          "height": 36
        },
        "id": "uKi2qegzzWBO",
        "outputId": "b18fa25f-534f-487f-bd65-ce4d0db596b0"
      },
      "execution_count": 27,
      "outputs": [
        {
          "output_type": "execute_result",
          "data": {
            "text/plain": [
              "'abdominal pain'"
            ],
            "application/vnd.google.colaboratory.intrinsic+json": {
              "type": "string"
            }
          },
          "metadata": {},
          "execution_count": 27
        }
      ]
    },
    {
      "cell_type": "code",
      "source": [
        "preprocess_sym('my skin has some nodal eruptions')"
      ],
      "metadata": {
        "colab": {
          "base_uri": "https://localhost:8080/",
          "height": 36
        },
        "id": "qcdJuh1ozZDk",
        "outputId": "796a960e-876f-4f9c-bce6-0bedb388c866"
      },
      "execution_count": 28,
      "outputs": [
        {
          "output_type": "execute_result",
          "data": {
            "text/plain": [
              "'skin nodal eruption'"
            ],
            "application/vnd.google.colaboratory.intrinsic+json": {
              "type": "string"
            }
          },
          "metadata": {},
          "execution_count": 28
        }
      ]
    },
    {
      "cell_type": "code",
      "source": [
        "syntactic_similarity(preprocess_sym('I have severe dizziness and redness in my eyes I can not look for a long time') ,all_symp_pr)"
      ],
      "metadata": {
        "colab": {
          "base_uri": "https://localhost:8080/"
        },
        "id": "EHuHUnBezelE",
        "outputId": "f7eb5c34-cde7-4d0c-ee51-dc9a688d29c4"
      },
      "execution_count": 29,
      "outputs": [
        {
          "output_type": "execute_result",
          "data": {
            "text/plain": [
              "(1, ['redness eye'])"
            ]
          },
          "metadata": {},
          "execution_count": 29
        }
      ]
    },
    {
      "cell_type": "code",
      "source": [
        "def check_pattern(inp,dis_list):\n",
        "    import re\n",
        "    pred_list=[]\n",
        "    ptr=0\n",
        "    patt = \"^\" + inp + \"$\"\n",
        "    regexp = re.compile(inp)\n",
        "    for item in dis_list:\n",
        "        if regexp.search(item):\n",
        "            pred_list.append(item)\n",
        "    if(len(pred_list)>0):\n",
        "        return 1,pred_list\n",
        "    else:\n",
        "        return ptr,None"
      ],
      "metadata": {
        "id": "ANbnwbYjziY6"
      },
      "execution_count": 30,
      "outputs": []
    },
    {
      "cell_type": "code",
      "source": [
        "check_pattern('nail',all_symp_pr)"
      ],
      "metadata": {
        "colab": {
          "base_uri": "https://localhost:8080/"
        },
        "id": "rKJrOhP6zmjG",
        "outputId": "1f1f600e-7503-4dd5-c105-b8f45f0c4316"
      },
      "execution_count": 31,
      "outputs": [
        {
          "output_type": "execute_result",
          "data": {
            "text/plain": [
              "(1, ['brittle nail', 'small dent nail', 'inflammatory nail'])"
            ]
          },
          "metadata": {},
          "execution_count": 31
        }
      ]
    },
    {
      "cell_type": "code",
      "source": [
        ""
      ],
      "metadata": {
        "id": "CeHc1hMYzokb"
      },
      "execution_count": 31,
      "outputs": []
    },
    {
      "cell_type": "markdown",
      "metadata": {
        "id": "wHWivpECENEt"
      },
      "source": [
        "# Semantic Similarity"
      ]
    },
    {
      "cell_type": "code",
      "execution_count": 32,
      "metadata": {
        "id": "DCbAQCxFENEt"
      },
      "outputs": [],
      "source": [
        "from nltk.wsd import lesk\n",
        "from nltk.tokenize import word_tokenize\n",
        "def WSD(word, context):\n",
        "    sens=lesk(context, word)\n",
        "    return sens"
      ]
    },
    {
      "cell_type": "code",
      "execution_count": 114,
      "metadata": {
        "id": "pdvov1rLENEu"
      },
      "outputs": [],
      "source": [
        "def semanticD(doc1,doc2):\n",
        "    doc1_p=preprocess(doc1).split(' ')\n",
        "    doc2_p=preprocess_sym(doc2).split(' ')\n",
        "    score=0\n",
        "    for tock1 in doc1_p:\n",
        "        for tock2 in doc2_p:\n",
        "            syn1 = WSD(tock1,doc1)\n",
        "            syn2 = WSD(tock2,doc2)\n",
        "            if syn1 is not None and syn2 is not None :\n",
        "                x=syn1.path_similarity(syn2)\n",
        "                if x is not None and x>0.25:\n",
        "                    score+=x\n",
        "    return score/(len(doc1_p)*len(doc2_p))"
      ]
    },
    {
      "cell_type": "code",
      "execution_count": 34,
      "metadata": {
        "id": "eXkQ4dZ0ENEu"
      },
      "outputs": [],
      "source": [
        "\n",
        "def semantic_similarity(symp_t,corpus):\n",
        "    max_sim=0\n",
        "    most_sim=None\n",
        "    for symp in corpus:\n",
        "        d=semanticD(symp_t,symp)\n",
        "        if d>max_sim:\n",
        "            most_sim=symp\n",
        "            max_sim=d\n",
        "    return max_sim,most_sim"
      ]
    },
    {
      "cell_type": "code",
      "execution_count": 35,
      "metadata": {
        "colab": {
          "base_uri": "https://localhost:8080/"
        },
        "id": "8Zb-5oweENEu",
        "outputId": "e5410424-cff4-42e5-b93d-840755d96442"
      },
      "outputs": [
        {
          "output_type": "execute_result",
          "data": {
            "text/plain": [
              "(1.0, 'vomit')"
            ]
          },
          "metadata": {},
          "execution_count": 35
        }
      ],
      "source": [
        "semantic_similarity('puke',all_symp_pr)"
      ]
    },
    {
      "cell_type": "code",
      "execution_count": 36,
      "metadata": {
        "id": "Ab-bAzHdENEu"
      },
      "outputs": [],
      "source": [
        "all_symp_pr.sort()"
      ]
    },
    {
      "cell_type": "code",
      "execution_count": 37,
      "metadata": {
        "id": "x-cZ0wFUENEv"
      },
      "outputs": [],
      "source": [
        "from itertools import chain\n",
        "from nltk.corpus import wordnet\n",
        "def suggest_syn(sym):\n",
        "    symp=[]\n",
        "    synonyms = wordnet.synsets(sym)\n",
        "    lemmas=[word.lemma_names() for word in synonyms]\n",
        "    lemmas = list(set(chain(*lemmas)))\n",
        "    for e in lemmas:\n",
        "        res,sym1=semantic_similarity(e,all_symp_pr)\n",
        "        if res!=0:\n",
        "            symp.append(sym1)\n",
        "    return list(set(symp))"
      ]
    },
    {
      "cell_type": "code",
      "execution_count": 38,
      "metadata": {
        "colab": {
          "base_uri": "https://localhost:8080/"
        },
        "id": "Hr07RP6rENEv",
        "outputId": "eca89d41-8721-4e5a-dc7f-197d3e321ffb"
      },
      "outputs": [
        {
          "output_type": "execute_result",
          "data": {
            "text/plain": [
              "['dark urine', 'pain', 'swollen blood vessel', 'vomit']"
            ]
          },
          "metadata": {},
          "execution_count": 38
        }
      ],
      "source": [
        "suggest_syn('puke')"
      ]
    },
    {
      "cell_type": "code",
      "execution_count": 119,
      "metadata": {
        "id": "OEXMjkgeENEw"
      },
      "outputs": [],
      "source": [
        "\n",
        "def OHV(cl_sym,all_sym):\n",
        "    l=np.zeros([1,len(all_sym)])\n",
        "    for sym in cl_sym:\n",
        "        l[0,all_sym.index(sym)]=1\n",
        "    return pd.DataFrame(l, columns =all_symp)\n",
        "    "
      ]
    },
    {
      "cell_type": "code",
      "execution_count": 40,
      "metadata": {
        "id": "zsTN21xXENEw"
      },
      "outputs": [],
      "source": [
        "def contains(small, big):\n",
        "    a=True\n",
        "    for i in small:\n",
        "        if i not in big:\n",
        "            a=False\n",
        "    return a"
      ]
    },
    {
      "cell_type": "code",
      "execution_count": 41,
      "metadata": {
        "id": "JRDL_-CWENE2"
      },
      "outputs": [],
      "source": [
        "#receives an illness returns all symptoms\n",
        "def sym_disease(df,disease):\n",
        "    ddf=df[df.Disease==disease]\n",
        "    m2 = (ddf != 0).any()\n",
        "    return m2.index[m2].tolist()\n",
        "    "
      ]
    },
    {
      "cell_type": "code",
      "execution_count": 78,
      "metadata": {
        "id": "mHtHHzgLENEw"
      },
      "outputs": [],
      "source": [
        "def possible_diseases(l):\n",
        "    poss_dis=[]\n",
        "    for dis in set(disease):\n",
        "        if contains(l,sym_disease(df,dis)):\n",
        "            poss_dis.append(dis)\n",
        "    return poss_dis"
      ]
    },
    {
      "cell_type": "code",
      "execution_count": 73,
      "metadata": {
        "colab": {
          "base_uri": "https://localhost:8080/"
        },
        "id": "K3zii4OPENEw",
        "outputId": "1942c267-4127-4f4a-b881-685588496c48"
      },
      "outputs": [
        {
          "output_type": "execute_result",
          "data": {
            "text/plain": [
              "{'(vertigo)ParoymsalPositionalVertigo',\n",
              " 'AIDS',\n",
              " 'Acne',\n",
              " 'Alcoholichepatitis',\n",
              " 'Allergy',\n",
              " 'Arthritis',\n",
              " 'BronchialAsthma',\n",
              " 'Cervicalspondylosis',\n",
              " 'Chickenpox',\n",
              " 'Chroniccholestasis',\n",
              " 'CommonCold',\n",
              " 'Dengue',\n",
              " 'Diabetes',\n",
              " 'Dimorphichemmorhoids(piles)',\n",
              " 'DrugReaction',\n",
              " 'Fungalinfection',\n",
              " 'GERD',\n",
              " 'Gastroenteritis',\n",
              " 'Heartattack',\n",
              " 'HepatitisB',\n",
              " 'HepatitisC',\n",
              " 'HepatitisD',\n",
              " 'HepatitisE',\n",
              " 'Hypertension',\n",
              " 'Hyperthyroidism',\n",
              " 'Hypoglycemia',\n",
              " 'Hypothyroidism',\n",
              " 'Impetigo',\n",
              " 'Jaundice',\n",
              " 'Malaria',\n",
              " 'Migraine',\n",
              " 'Osteoarthristis',\n",
              " 'Paralysis(brainhemorrhage)',\n",
              " 'Pepticulcerdiseae',\n",
              " 'Pneumonia',\n",
              " 'Psoriasis',\n",
              " 'Tuberculosis',\n",
              " 'Typhoid',\n",
              " 'Urinarytractinfection',\n",
              " 'Varicoseveins',\n",
              " 'hepatitisA'}"
            ]
          },
          "metadata": {},
          "execution_count": 73
        }
      ],
      "source": [
        "set(disease)"
      ]
    },
    {
      "cell_type": "code",
      "execution_count": 75,
      "metadata": {
        "id": "HvlurH8YENE3"
      },
      "outputs": [],
      "source": [
        "ll=sym_disease(df,'Jaundice')[1:]"
      ]
    },
    {
      "cell_type": "code",
      "source": [
        "lb=['dark_urine', 'passage_of_gases']"
      ],
      "metadata": {
        "id": "nUWYGxN_U0fs"
      },
      "execution_count": 83,
      "outputs": []
    },
    {
      "cell_type": "code",
      "source": [
        "possible_diseases(lb)"
      ],
      "metadata": {
        "colab": {
          "base_uri": "https://localhost:8080/"
        },
        "id": "JVmBAcOkTnqi",
        "outputId": "ace954d2-41e1-4ab9-f1c6-b664e85d11f0"
      },
      "execution_count": 84,
      "outputs": [
        {
          "output_type": "execute_result",
          "data": {
            "text/plain": [
              "[]"
            ]
          },
          "metadata": {},
          "execution_count": 84
        }
      ]
    },
    {
      "cell_type": "code",
      "source": [
        "ll=['Jaundice']"
      ],
      "metadata": {
        "id": "eL32HRl81LR6"
      },
      "execution_count": 71,
      "outputs": []
    },
    {
      "cell_type": "code",
      "source": [
        "contains(ll,sym_disease(df,'Jaundice'))"
      ],
      "metadata": {
        "colab": {
          "base_uri": "https://localhost:8080/"
        },
        "id": "ygvKosr-SjbM",
        "outputId": "ff6a6326-a7c2-448a-eeed-7e09193c67a1"
      },
      "execution_count": 76,
      "outputs": [
        {
          "output_type": "execute_result",
          "data": {
            "text/plain": [
              "True"
            ]
          },
          "metadata": {},
          "execution_count": 76
        }
      ]
    },
    {
      "cell_type": "code",
      "source": [
        ""
      ],
      "metadata": {
        "id": "UoEXpmLSS6pk"
      },
      "execution_count": null,
      "outputs": []
    },
    {
      "cell_type": "markdown",
      "source": [
        "# Severity,Description and Precaution"
      ],
      "metadata": {
        "id": "hDmFBdhyVrbY"
      }
    },
    {
      "cell_type": "code",
      "source": [
        "df_description=pd.read_csv('/content/symptom_Description.csv')"
      ],
      "metadata": {
        "id": "xKXXEtVHWA4d"
      },
      "execution_count": 47,
      "outputs": []
    },
    {
      "cell_type": "code",
      "execution_count": 48,
      "metadata": {
        "id": "rxQ2PetUENE6"
      },
      "outputs": [],
      "source": [
        "severityDictionary=dict()\n",
        "description_list = dict()\n",
        "precautionDictionary=dict()\n",
        "\n",
        "def getDescription():\n",
        "    global description_list\n",
        "    with open('/content/symptom_Description.csv') as csv_file:\n",
        "        csv_reader = csv.reader(csv_file, delimiter=',')\n",
        "        line_count = 0\n",
        "        for row in csv_reader:\n",
        "            _description={row[0]:row[1]}\n",
        "            description_list.update(_description)\n",
        "\n",
        "\n",
        "\n",
        "\n",
        "def getSeverityDict():\n",
        "    global severityDictionary\n",
        "    with open('/content/Symptom-severity.csv') as csv_file:\n",
        "\n",
        "        csv_reader = csv.reader(csv_file, delimiter=',')\n",
        "        line_count = 0\n",
        "        try:\n",
        "            for row in csv_reader:\n",
        "                _diction={row[0]:int(row[1])}\n",
        "                severityDictionary.update(_diction)\n",
        "        except:\n",
        "            pass\n",
        "\n",
        "\n",
        "def getprecautionDict():\n",
        "    global precautionDictionary\n",
        "    with open('/content/symptom_precaution.csv') as csv_file:\n",
        "\n",
        "        csv_reader = csv.reader(csv_file, delimiter=',')\n",
        "        line_count = 0\n",
        "        for row in csv_reader:\n",
        "            _prec={row[0]:[row[1],row[2],row[3],row[4]]}\n",
        "            precautionDictionary.update(_prec)\n"
      ]
    },
    {
      "cell_type": "code",
      "execution_count": 49,
      "metadata": {
        "id": "i6j3le3YENE6"
      },
      "outputs": [],
      "source": [
        "getSeverityDict()\n",
        "getprecautionDict()\n",
        "getDescription()"
      ]
    },
    {
      "cell_type": "code",
      "source": [
        "def calc_condition(exp,days):\n",
        "    sum=0\n",
        "    for item in exp:\n",
        "        if item in severityDictionary.keys():\n",
        "            sum=sum+severityDictionary[item]\n",
        "    if((sum*days)/(len(exp))>13):\n",
        "        return 1\n",
        "        print(\"You should take the consultation from doctor. \")\n",
        "    else:\n",
        "        return 0\n",
        "        print(\"It might not be that bad but you should take precautions.\")"
      ],
      "metadata": {
        "id": "HFDoBlfOMNiq"
      },
      "execution_count": 57,
      "outputs": []
    },
    {
      "cell_type": "code",
      "source": [
        "def related_sym(psym1):\n",
        "    if len(psym1)==1:\n",
        "        return psym1[0]\n",
        "    print(\"searches related to input: \")\n",
        "    for num,it in enumerate(psym1):\n",
        "        print(num,\")\",clean_symp(it))\n",
        "    if num!=0:\n",
        "        print(f\"Select the one you meant (0 - {num}):  \", end=\"\")\n",
        "        conf_inp = int(input(\"\"))\n",
        "    else:\n",
        "        conf_inp=0\n",
        "\n",
        "    disease_input=psym1[conf_inp]\n",
        "    return disease_input"
      ],
      "metadata": {
        "id": "MJwe8HGKbF4w"
      },
      "execution_count": 50,
      "outputs": []
    },
    {
      "cell_type": "markdown",
      "source": [
        "# chat"
      ],
      "metadata": {
        "id": "Hjc_vVLEMQGT"
      }
    },
    {
      "cell_type": "code",
      "source": [
        "def getInfo():\n",
        "    # name=input(\"Name:\")\n",
        "    print(\"Your Name \\n\\t\\t\\t\\t\\t\\t\",end=\"=>\")\n",
        "    name=input(\"\")\n",
        "    print(\"hello \",name)\n",
        "    return str(name)"
      ],
      "metadata": {
        "id": "WTvnlTbIzUnV"
      },
      "execution_count": 58,
      "outputs": []
    },
    {
      "cell_type": "code",
      "source": [
        "def related_sym(psym1):\n",
        "    if len(psym1)==1:\n",
        "        return psym1[0]\n",
        "    print(\"searches related to input: \")\n",
        "    for num,it in enumerate(psym1):\n",
        "        print(num,\")\",clean_symp(it))\n",
        "    if num!=0:\n",
        "        print(f\"Select the one you meant (0 - {num}):  \", end=\"\")\n",
        "        conf_inp = int(input(\"\"))\n",
        "    else:\n",
        "        conf_inp=0\n",
        "\n",
        "    disease_input=psym1[conf_inp]\n",
        "    return disease_input"
      ],
      "metadata": {
        "id": "rp1DY-fs0W8c"
      },
      "execution_count": 59,
      "outputs": []
    },
    {
      "cell_type": "code",
      "source": [
        "def main_sp(name,all_symp_col):\n",
        "    #main Idea: At least two initial sympts to start with\n",
        "    \n",
        "    #get the 1st syp ->> process it ->> check_pattern ->>> get the appropriate one (if check_pattern==1 == similar syntaxic symp found)\n",
        "    print(\"Enter the main symptom you are experiencing Mr/Ms \"+name+\"  \\n\\t\\t\\t\\t\\t\\t\",end=\"=>\")\n",
        "    sym1 = input(\"\")\n",
        "    sym1=preprocess_sym(sym1)\n",
        "    sim1,psym1=syntactic_similarity(sym1,all_symp_pr)\n",
        "    if sim1==1:\n",
        "        psym1=related_sym(psym1)\n",
        "    \n",
        "    #get the 2nd syp ->> process it ->> check_pattern ->>> get the appropriate one (if check_pattern==1 == similar syntaxic symp found)\n",
        "\n",
        "    print(\"Enter a second symptom you are experiencing Mr/Ms \"+name+\"  \\n\\t\\t\\t\\t\\t\\t\",end=\"=>\")\n",
        "    sym2=input(\"\")\n",
        "    sym2=preprocess_sym(sym2)\n",
        "    sim2,psym2=syntactic_similarity(sym2,all_symp_pr)\n",
        "    if sim2==1:\n",
        "        psym2=related_sym(psym2)\n",
        "        \n",
        "    #if check_pattern==0 no similar syntaxic symp1 or symp2 ->> try semantic similarity\n",
        "    \n",
        "    if sim1==0 or sim2==0:\n",
        "        sim1,psym1=semantic_similarity(sym1,all_symp_pr)\n",
        "        sim2,psym2=semantic_similarity(sym2,all_symp_pr)\n",
        "        \n",
        "        #if semantic sim syp1 ==0 (no symp found) ->> suggest possible data symptoms based on all data and input sym synonymes\n",
        "        if sim1==0:\n",
        "            sugg=suggest_syn(sym1)\n",
        "            print('Are you experiencing any ')\n",
        "            for res in sugg:\n",
        "                print(res)\n",
        "                inp=input('')\n",
        "                if inp==\"yes\":\n",
        "                    psym1=res\n",
        "                    sim1=1\n",
        "                    break\n",
        "                \n",
        "        #if semantic sim syp2 ==0 (no symp found) ->> suggest possible data symptoms based on all data and input sym synonymes\n",
        "        if sim2==0:\n",
        "            sugg=suggest_syn(sym2)\n",
        "            for res in sugg:\n",
        "                inp=input('Do you feel '+ res+\" ?(yes or no) \")\n",
        "                if inp==\"yes\":\n",
        "                    psym2=res\n",
        "                    sim2=1\n",
        "                    break\n",
        "        #if no syntaxic semantic and suggested sym found return None and ask for clarification\n",
        "\n",
        "        if sim1==0 and sim2==0:\n",
        "            return None,None\n",
        "        else:\n",
        "            # if at least one sym found ->> duplicate it and proceed\n",
        "            if sim1==0:\n",
        "                psym1=psym2\n",
        "            if sim2==0:\n",
        "                psym2=psym1\n",
        "    #create patient symp list\n",
        "    all_sym=[col_dict[psym1],col_dict[psym2]]\n",
        "    print(all_sym)\n",
        "    #predict possible diseases\n",
        "    diseases=possible_diseases(all_sym)\n",
        "    print(\"Disease: \",diseases)\n",
        "    stop=False\n",
        "    print(\"Are you experiencing any \")\n",
        "    for dis in diseases:\n",
        "        print(diseases)\n",
        "        if stop==False:\n",
        "            for sym in sym_disease(df,dis):\n",
        "                if sym not in all_sym:\n",
        "                    print(clean_symp(sym)+' ?')\n",
        "                    while True:\n",
        "                        inp=input(\"\")\n",
        "                        if(inp==\"yes\" or inp==\"no\"):\n",
        "                            break\n",
        "                        else:\n",
        "                            print(\"provide proper answers i.e. (yes/no) : \",end=\"\")\n",
        "                    if inp==\"yes\":\n",
        "                        all_sym.append(sym)\n",
        "                        diseases=possible_diseases(all_sym)\n",
        "                        if len(diseases)==1:\n",
        "                            stop=True \n"
      ],
      "metadata": {
        "id": "uQYzuIhk0ndJ"
      },
      "execution_count": 120,
      "outputs": []
    },
    {
      "cell_type": "code",
      "source": [
        "#itching', 'vomiting"
      ],
      "metadata": {
        "id": "aCGvJTW_UhuU"
      },
      "execution_count": 124,
      "outputs": []
    },
    {
      "cell_type": "code",
      "source": [
        "name=getInfo()\n",
        "main_sp(name,all_symp_col)"
      ],
      "metadata": {
        "colab": {
          "base_uri": "https://localhost:8080/"
        },
        "id": "HFr0egHj1Jcl",
        "outputId": "c5a9c51f-a58f-4ac7-cb9a-3defb0bc4b3f"
      },
      "execution_count": 123,
      "outputs": [
        {
          "output_type": "stream",
          "name": "stdout",
          "text": [
            "Your Name \n",
            "\t\t\t\t\t\t=>hadeer\n",
            "hello  hadeer\n",
            "Enter the main symptom you are experiencing Mr/Ms hadeer  \n",
            "\t\t\t\t\t\t=>itching\n",
            "Enter a second symptom you are experiencing Mr/Ms hadeer  \n",
            "\t\t\t\t\t\t=>vomiting\n",
            "['itching', 'vomiting']\n",
            "Disease:  ['Chroniccholestasis', 'Jaundice']\n",
            "Are you experiencing any \n",
            "['Chroniccholestasis', 'Jaundice']\n",
            "Disease ?\n",
            "yes\n",
            "yellow skin ?\n",
            "yes\n",
            "nausea ?\n",
            "no\n",
            "loss of appetite ?\n",
            "no\n",
            "abdominal pain ?\n",
            "yes\n",
            "yellow of eyes ?\n",
            "yes\n",
            "['Chroniccholestasis']\n"
          ]
        },
        {
          "output_type": "execute_result",
          "data": {
            "text/plain": [
              "['itching',\n",
              " 'vomiting',\n",
              " 'Disease',\n",
              " 'yellowish_skin',\n",
              " 'abdominal_pain',\n",
              " 'yellowing_of_eyes']"
            ]
          },
          "metadata": {},
          "execution_count": 123
        }
      ]
    },
    {
      "cell_type": "code",
      "source": [
        ""
      ],
      "metadata": {
        "id": "2G4R6DfhOThX"
      },
      "execution_count": null,
      "outputs": []
    }
  ]
}