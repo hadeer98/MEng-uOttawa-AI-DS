{
  "nbformat": 4,
  "nbformat_minor": 0,
  "metadata": {
    "colab": {
      "name": "Final_mlassignment1.ipynb",
      "provenance": [],
      "collapsed_sections": [
        "dgBiCiCqXCNP"
      ]
    },
    "kernelspec": {
      "name": "python3",
      "display_name": "Python 3"
    },
    "language_info": {
      "name": "python"
    }
  },
  "cells": [
    {
      "cell_type": "markdown",
      "source": [
        "Import the libraries"
      ],
      "metadata": {
        "id": "FzEub5-2PcpO"
      }
    },
    {
      "cell_type": "code",
      "execution_count": 1,
      "metadata": {
        "id": "Ge7kz7B_Js7w"
      },
      "outputs": [],
      "source": [
        "import numpy as np\n",
        "import pandas as pd\n",
        "import matplotlib.pyplot as plt\n",
        "from mlxtend.plotting import plot_decision_regions\n",
        "\n",
        "from sklearn.feature_selection import SelectKBest\n",
        "from sklearn.feature_selection import chi2\n",
        "from sklearn.linear_model import Perceptron\n",
        "from sklearn.preprocessing import LabelEncoder\n",
        "from sklearn.preprocessing import MultiLabelBinarizer\n",
        "\n",
        "from sklearn import svm\n",
        "from sklearn.metrics import classification_report, ConfusionMatrixDisplay, accuracy_score, confusion_matrix"
      ]
    },
    {
      "cell_type": "markdown",
      "source": [
        "#Feature selection, label encoder, data plot"
      ],
      "metadata": {
        "id": "XE_uTBSfBjQK"
      }
    },
    {
      "cell_type": "markdown",
      "source": [
        "Read the files"
      ],
      "metadata": {
        "id": "bE4gr6rXOPMV"
      }
    },
    {
      "cell_type": "code",
      "source": [
        "df_train=pd.read_csv(\"DUMD_train.csv\")\n",
        "df_test=pd.read_csv(\"DUMD_test.csv\")"
      ],
      "metadata": {
        "id": "iP0LF6qYKG_H"
      },
      "execution_count": 2,
      "outputs": []
    },
    {
      "cell_type": "markdown",
      "source": [
        "Training and testing data splitting"
      ],
      "metadata": {
        "id": "3dQ1KTPfOI5-"
      }
    },
    {
      "cell_type": "code",
      "source": [
        "x_train=df_train.iloc[:,:-1]\n",
        "y_train=df_train['UNS']\n",
        "x_test=df_test.iloc[:,:-1]\n",
        "y_test=df_test['UNS']\n",
        "x_train"
      ],
      "metadata": {
        "id": "dr2jjtVHKLuI",
        "colab": {
          "base_uri": "https://localhost:8080/",
          "height": 424
        },
        "outputId": "21b9e33d-575c-4aa9-d5f8-5ca28ab02926"
      },
      "execution_count": 3,
      "outputs": [
        {
          "output_type": "execute_result",
          "data": {
            "text/plain": [
              "      STG   SCG   STR   LPR   PEG\n",
              "0    0.00  0.00  0.00  0.00  0.00\n",
              "1    0.08  0.08  0.10  0.24  0.90\n",
              "2    0.10  0.10  0.15  0.65  0.30\n",
              "3    0.08  0.08  0.08  0.98  0.24\n",
              "4    0.09  0.15  0.40  0.10  0.66\n",
              "..    ...   ...   ...   ...   ...\n",
              "318  0.90  0.78  0.62  0.32  0.89\n",
              "319  0.85  0.82  0.66  0.83  0.83\n",
              "320  0.56  0.60  0.77  0.13  0.32\n",
              "321  0.66  0.68  0.81  0.57  0.57\n",
              "322  0.68  0.64  0.79  0.97  0.24\n",
              "\n",
              "[323 rows x 5 columns]"
            ],
            "text/html": [
              "\n",
              "  <div id=\"df-0d0a3515-810e-4690-9d1c-83dfd8c08caa\">\n",
              "    <div class=\"colab-df-container\">\n",
              "      <div>\n",
              "<style scoped>\n",
              "    .dataframe tbody tr th:only-of-type {\n",
              "        vertical-align: middle;\n",
              "    }\n",
              "\n",
              "    .dataframe tbody tr th {\n",
              "        vertical-align: top;\n",
              "    }\n",
              "\n",
              "    .dataframe thead th {\n",
              "        text-align: right;\n",
              "    }\n",
              "</style>\n",
              "<table border=\"1\" class=\"dataframe\">\n",
              "  <thead>\n",
              "    <tr style=\"text-align: right;\">\n",
              "      <th></th>\n",
              "      <th>STG</th>\n",
              "      <th>SCG</th>\n",
              "      <th>STR</th>\n",
              "      <th>LPR</th>\n",
              "      <th>PEG</th>\n",
              "    </tr>\n",
              "  </thead>\n",
              "  <tbody>\n",
              "    <tr>\n",
              "      <th>0</th>\n",
              "      <td>0.00</td>\n",
              "      <td>0.00</td>\n",
              "      <td>0.00</td>\n",
              "      <td>0.00</td>\n",
              "      <td>0.00</td>\n",
              "    </tr>\n",
              "    <tr>\n",
              "      <th>1</th>\n",
              "      <td>0.08</td>\n",
              "      <td>0.08</td>\n",
              "      <td>0.10</td>\n",
              "      <td>0.24</td>\n",
              "      <td>0.90</td>\n",
              "    </tr>\n",
              "    <tr>\n",
              "      <th>2</th>\n",
              "      <td>0.10</td>\n",
              "      <td>0.10</td>\n",
              "      <td>0.15</td>\n",
              "      <td>0.65</td>\n",
              "      <td>0.30</td>\n",
              "    </tr>\n",
              "    <tr>\n",
              "      <th>3</th>\n",
              "      <td>0.08</td>\n",
              "      <td>0.08</td>\n",
              "      <td>0.08</td>\n",
              "      <td>0.98</td>\n",
              "      <td>0.24</td>\n",
              "    </tr>\n",
              "    <tr>\n",
              "      <th>4</th>\n",
              "      <td>0.09</td>\n",
              "      <td>0.15</td>\n",
              "      <td>0.40</td>\n",
              "      <td>0.10</td>\n",
              "      <td>0.66</td>\n",
              "    </tr>\n",
              "    <tr>\n",
              "      <th>...</th>\n",
              "      <td>...</td>\n",
              "      <td>...</td>\n",
              "      <td>...</td>\n",
              "      <td>...</td>\n",
              "      <td>...</td>\n",
              "    </tr>\n",
              "    <tr>\n",
              "      <th>318</th>\n",
              "      <td>0.90</td>\n",
              "      <td>0.78</td>\n",
              "      <td>0.62</td>\n",
              "      <td>0.32</td>\n",
              "      <td>0.89</td>\n",
              "    </tr>\n",
              "    <tr>\n",
              "      <th>319</th>\n",
              "      <td>0.85</td>\n",
              "      <td>0.82</td>\n",
              "      <td>0.66</td>\n",
              "      <td>0.83</td>\n",
              "      <td>0.83</td>\n",
              "    </tr>\n",
              "    <tr>\n",
              "      <th>320</th>\n",
              "      <td>0.56</td>\n",
              "      <td>0.60</td>\n",
              "      <td>0.77</td>\n",
              "      <td>0.13</td>\n",
              "      <td>0.32</td>\n",
              "    </tr>\n",
              "    <tr>\n",
              "      <th>321</th>\n",
              "      <td>0.66</td>\n",
              "      <td>0.68</td>\n",
              "      <td>0.81</td>\n",
              "      <td>0.57</td>\n",
              "      <td>0.57</td>\n",
              "    </tr>\n",
              "    <tr>\n",
              "      <th>322</th>\n",
              "      <td>0.68</td>\n",
              "      <td>0.64</td>\n",
              "      <td>0.79</td>\n",
              "      <td>0.97</td>\n",
              "      <td>0.24</td>\n",
              "    </tr>\n",
              "  </tbody>\n",
              "</table>\n",
              "<p>323 rows × 5 columns</p>\n",
              "</div>\n",
              "      <button class=\"colab-df-convert\" onclick=\"convertToInteractive('df-0d0a3515-810e-4690-9d1c-83dfd8c08caa')\"\n",
              "              title=\"Convert this dataframe to an interactive table.\"\n",
              "              style=\"display:none;\">\n",
              "        \n",
              "  <svg xmlns=\"http://www.w3.org/2000/svg\" height=\"24px\"viewBox=\"0 0 24 24\"\n",
              "       width=\"24px\">\n",
              "    <path d=\"M0 0h24v24H0V0z\" fill=\"none\"/>\n",
              "    <path d=\"M18.56 5.44l.94 2.06.94-2.06 2.06-.94-2.06-.94-.94-2.06-.94 2.06-2.06.94zm-11 1L8.5 8.5l.94-2.06 2.06-.94-2.06-.94L8.5 2.5l-.94 2.06-2.06.94zm10 10l.94 2.06.94-2.06 2.06-.94-2.06-.94-.94-2.06-.94 2.06-2.06.94z\"/><path d=\"M17.41 7.96l-1.37-1.37c-.4-.4-.92-.59-1.43-.59-.52 0-1.04.2-1.43.59L10.3 9.45l-7.72 7.72c-.78.78-.78 2.05 0 2.83L4 21.41c.39.39.9.59 1.41.59.51 0 1.02-.2 1.41-.59l7.78-7.78 2.81-2.81c.8-.78.8-2.07 0-2.86zM5.41 20L4 18.59l7.72-7.72 1.47 1.35L5.41 20z\"/>\n",
              "  </svg>\n",
              "      </button>\n",
              "      \n",
              "  <style>\n",
              "    .colab-df-container {\n",
              "      display:flex;\n",
              "      flex-wrap:wrap;\n",
              "      gap: 12px;\n",
              "    }\n",
              "\n",
              "    .colab-df-convert {\n",
              "      background-color: #E8F0FE;\n",
              "      border: none;\n",
              "      border-radius: 50%;\n",
              "      cursor: pointer;\n",
              "      display: none;\n",
              "      fill: #1967D2;\n",
              "      height: 32px;\n",
              "      padding: 0 0 0 0;\n",
              "      width: 32px;\n",
              "    }\n",
              "\n",
              "    .colab-df-convert:hover {\n",
              "      background-color: #E2EBFA;\n",
              "      box-shadow: 0px 1px 2px rgba(60, 64, 67, 0.3), 0px 1px 3px 1px rgba(60, 64, 67, 0.15);\n",
              "      fill: #174EA6;\n",
              "    }\n",
              "\n",
              "    [theme=dark] .colab-df-convert {\n",
              "      background-color: #3B4455;\n",
              "      fill: #D2E3FC;\n",
              "    }\n",
              "\n",
              "    [theme=dark] .colab-df-convert:hover {\n",
              "      background-color: #434B5C;\n",
              "      box-shadow: 0px 1px 3px 1px rgba(0, 0, 0, 0.15);\n",
              "      filter: drop-shadow(0px 1px 2px rgba(0, 0, 0, 0.3));\n",
              "      fill: #FFFFFF;\n",
              "    }\n",
              "  </style>\n",
              "\n",
              "      <script>\n",
              "        const buttonEl =\n",
              "          document.querySelector('#df-0d0a3515-810e-4690-9d1c-83dfd8c08caa button.colab-df-convert');\n",
              "        buttonEl.style.display =\n",
              "          google.colab.kernel.accessAllowed ? 'block' : 'none';\n",
              "\n",
              "        async function convertToInteractive(key) {\n",
              "          const element = document.querySelector('#df-0d0a3515-810e-4690-9d1c-83dfd8c08caa');\n",
              "          const dataTable =\n",
              "            await google.colab.kernel.invokeFunction('convertToInteractive',\n",
              "                                                     [key], {});\n",
              "          if (!dataTable) return;\n",
              "\n",
              "          const docLinkHtml = 'Like what you see? Visit the ' +\n",
              "            '<a target=\"_blank\" href=https://colab.research.google.com/notebooks/data_table.ipynb>data table notebook</a>'\n",
              "            + ' to learn more about interactive tables.';\n",
              "          element.innerHTML = '';\n",
              "          dataTable['output_type'] = 'display_data';\n",
              "          await google.colab.output.renderOutput(dataTable, element);\n",
              "          const docLink = document.createElement('div');\n",
              "          docLink.innerHTML = docLinkHtml;\n",
              "          element.appendChild(docLink);\n",
              "        }\n",
              "      </script>\n",
              "    </div>\n",
              "  </div>\n",
              "  "
            ]
          },
          "metadata": {},
          "execution_count": 3
        }
      ]
    },
    {
      "cell_type": "markdown",
      "source": [
        "Show the first 5 records of the data"
      ],
      "metadata": {
        "id": "c7JwPcJAPl5l"
      }
    },
    {
      "cell_type": "code",
      "source": [
        "x_train.head()"
      ],
      "metadata": {
        "colab": {
          "base_uri": "https://localhost:8080/",
          "height": 206
        },
        "id": "Euf0YUQdKjsn",
        "outputId": "1e74314a-98d5-4b48-c2a9-c3b3ed51cfd9"
      },
      "execution_count": 4,
      "outputs": [
        {
          "output_type": "execute_result",
          "data": {
            "text/plain": [
              "    STG   SCG   STR   LPR   PEG\n",
              "0  0.00  0.00  0.00  0.00  0.00\n",
              "1  0.08  0.08  0.10  0.24  0.90\n",
              "2  0.10  0.10  0.15  0.65  0.30\n",
              "3  0.08  0.08  0.08  0.98  0.24\n",
              "4  0.09  0.15  0.40  0.10  0.66"
            ],
            "text/html": [
              "\n",
              "  <div id=\"df-985d904e-2c0d-4f70-8549-490c5dbdc7fc\">\n",
              "    <div class=\"colab-df-container\">\n",
              "      <div>\n",
              "<style scoped>\n",
              "    .dataframe tbody tr th:only-of-type {\n",
              "        vertical-align: middle;\n",
              "    }\n",
              "\n",
              "    .dataframe tbody tr th {\n",
              "        vertical-align: top;\n",
              "    }\n",
              "\n",
              "    .dataframe thead th {\n",
              "        text-align: right;\n",
              "    }\n",
              "</style>\n",
              "<table border=\"1\" class=\"dataframe\">\n",
              "  <thead>\n",
              "    <tr style=\"text-align: right;\">\n",
              "      <th></th>\n",
              "      <th>STG</th>\n",
              "      <th>SCG</th>\n",
              "      <th>STR</th>\n",
              "      <th>LPR</th>\n",
              "      <th>PEG</th>\n",
              "    </tr>\n",
              "  </thead>\n",
              "  <tbody>\n",
              "    <tr>\n",
              "      <th>0</th>\n",
              "      <td>0.00</td>\n",
              "      <td>0.00</td>\n",
              "      <td>0.00</td>\n",
              "      <td>0.00</td>\n",
              "      <td>0.00</td>\n",
              "    </tr>\n",
              "    <tr>\n",
              "      <th>1</th>\n",
              "      <td>0.08</td>\n",
              "      <td>0.08</td>\n",
              "      <td>0.10</td>\n",
              "      <td>0.24</td>\n",
              "      <td>0.90</td>\n",
              "    </tr>\n",
              "    <tr>\n",
              "      <th>2</th>\n",
              "      <td>0.10</td>\n",
              "      <td>0.10</td>\n",
              "      <td>0.15</td>\n",
              "      <td>0.65</td>\n",
              "      <td>0.30</td>\n",
              "    </tr>\n",
              "    <tr>\n",
              "      <th>3</th>\n",
              "      <td>0.08</td>\n",
              "      <td>0.08</td>\n",
              "      <td>0.08</td>\n",
              "      <td>0.98</td>\n",
              "      <td>0.24</td>\n",
              "    </tr>\n",
              "    <tr>\n",
              "      <th>4</th>\n",
              "      <td>0.09</td>\n",
              "      <td>0.15</td>\n",
              "      <td>0.40</td>\n",
              "      <td>0.10</td>\n",
              "      <td>0.66</td>\n",
              "    </tr>\n",
              "  </tbody>\n",
              "</table>\n",
              "</div>\n",
              "      <button class=\"colab-df-convert\" onclick=\"convertToInteractive('df-985d904e-2c0d-4f70-8549-490c5dbdc7fc')\"\n",
              "              title=\"Convert this dataframe to an interactive table.\"\n",
              "              style=\"display:none;\">\n",
              "        \n",
              "  <svg xmlns=\"http://www.w3.org/2000/svg\" height=\"24px\"viewBox=\"0 0 24 24\"\n",
              "       width=\"24px\">\n",
              "    <path d=\"M0 0h24v24H0V0z\" fill=\"none\"/>\n",
              "    <path d=\"M18.56 5.44l.94 2.06.94-2.06 2.06-.94-2.06-.94-.94-2.06-.94 2.06-2.06.94zm-11 1L8.5 8.5l.94-2.06 2.06-.94-2.06-.94L8.5 2.5l-.94 2.06-2.06.94zm10 10l.94 2.06.94-2.06 2.06-.94-2.06-.94-.94-2.06-.94 2.06-2.06.94z\"/><path d=\"M17.41 7.96l-1.37-1.37c-.4-.4-.92-.59-1.43-.59-.52 0-1.04.2-1.43.59L10.3 9.45l-7.72 7.72c-.78.78-.78 2.05 0 2.83L4 21.41c.39.39.9.59 1.41.59.51 0 1.02-.2 1.41-.59l7.78-7.78 2.81-2.81c.8-.78.8-2.07 0-2.86zM5.41 20L4 18.59l7.72-7.72 1.47 1.35L5.41 20z\"/>\n",
              "  </svg>\n",
              "      </button>\n",
              "      \n",
              "  <style>\n",
              "    .colab-df-container {\n",
              "      display:flex;\n",
              "      flex-wrap:wrap;\n",
              "      gap: 12px;\n",
              "    }\n",
              "\n",
              "    .colab-df-convert {\n",
              "      background-color: #E8F0FE;\n",
              "      border: none;\n",
              "      border-radius: 50%;\n",
              "      cursor: pointer;\n",
              "      display: none;\n",
              "      fill: #1967D2;\n",
              "      height: 32px;\n",
              "      padding: 0 0 0 0;\n",
              "      width: 32px;\n",
              "    }\n",
              "\n",
              "    .colab-df-convert:hover {\n",
              "      background-color: #E2EBFA;\n",
              "      box-shadow: 0px 1px 2px rgba(60, 64, 67, 0.3), 0px 1px 3px 1px rgba(60, 64, 67, 0.15);\n",
              "      fill: #174EA6;\n",
              "    }\n",
              "\n",
              "    [theme=dark] .colab-df-convert {\n",
              "      background-color: #3B4455;\n",
              "      fill: #D2E3FC;\n",
              "    }\n",
              "\n",
              "    [theme=dark] .colab-df-convert:hover {\n",
              "      background-color: #434B5C;\n",
              "      box-shadow: 0px 1px 3px 1px rgba(0, 0, 0, 0.15);\n",
              "      filter: drop-shadow(0px 1px 2px rgba(0, 0, 0, 0.3));\n",
              "      fill: #FFFFFF;\n",
              "    }\n",
              "  </style>\n",
              "\n",
              "      <script>\n",
              "        const buttonEl =\n",
              "          document.querySelector('#df-985d904e-2c0d-4f70-8549-490c5dbdc7fc button.colab-df-convert');\n",
              "        buttonEl.style.display =\n",
              "          google.colab.kernel.accessAllowed ? 'block' : 'none';\n",
              "\n",
              "        async function convertToInteractive(key) {\n",
              "          const element = document.querySelector('#df-985d904e-2c0d-4f70-8549-490c5dbdc7fc');\n",
              "          const dataTable =\n",
              "            await google.colab.kernel.invokeFunction('convertToInteractive',\n",
              "                                                     [key], {});\n",
              "          if (!dataTable) return;\n",
              "\n",
              "          const docLinkHtml = 'Like what you see? Visit the ' +\n",
              "            '<a target=\"_blank\" href=https://colab.research.google.com/notebooks/data_table.ipynb>data table notebook</a>'\n",
              "            + ' to learn more about interactive tables.';\n",
              "          element.innerHTML = '';\n",
              "          dataTable['output_type'] = 'display_data';\n",
              "          await google.colab.output.renderOutput(dataTable, element);\n",
              "          const docLink = document.createElement('div');\n",
              "          docLink.innerHTML = docLinkHtml;\n",
              "          element.appendChild(docLink);\n",
              "        }\n",
              "      </script>\n",
              "    </div>\n",
              "  </div>\n",
              "  "
            ]
          },
          "metadata": {},
          "execution_count": 4
        }
      ]
    },
    {
      "cell_type": "markdown",
      "source": [
        "Selecet the highest two features with chi-squared statistics , Explain -----------------"
      ],
      "metadata": {
        "id": "5Z4rlBm4ORhF"
      }
    },
    {
      "cell_type": "code",
      "source": [
        "chi2_features = SelectKBest(chi2, k = 2)\n",
        "X_kbest_features = chi2_features.fit_transform(x_train, y_train)"
      ],
      "metadata": {
        "id": "KTmNWm51Kp1H"
      },
      "execution_count": 5,
      "outputs": []
    },
    {
      "cell_type": "markdown",
      "source": [
        "LPR and PEG columns are the most important two features"
      ],
      "metadata": {
        "id": "MIUiW4mlMZP2"
      }
    },
    {
      "cell_type": "code",
      "source": [
        "x_train=df_train.loc[:,['LPR','PEG']]\n",
        "x_test=df_test.loc[:,['LPR','PEG']]\n",
        "x_train"
      ],
      "metadata": {
        "id": "y05aMmwuKwNH",
        "colab": {
          "base_uri": "https://localhost:8080/",
          "height": 424
        },
        "outputId": "25cadecf-686e-4975-a965-16aa024ba798"
      },
      "execution_count": 6,
      "outputs": [
        {
          "output_type": "execute_result",
          "data": {
            "text/plain": [
              "      LPR   PEG\n",
              "0    0.00  0.00\n",
              "1    0.24  0.90\n",
              "2    0.65  0.30\n",
              "3    0.98  0.24\n",
              "4    0.10  0.66\n",
              "..    ...   ...\n",
              "318  0.32  0.89\n",
              "319  0.83  0.83\n",
              "320  0.13  0.32\n",
              "321  0.57  0.57\n",
              "322  0.97  0.24\n",
              "\n",
              "[323 rows x 2 columns]"
            ],
            "text/html": [
              "\n",
              "  <div id=\"df-e07e318f-850a-4a41-8723-06c490a89bfa\">\n",
              "    <div class=\"colab-df-container\">\n",
              "      <div>\n",
              "<style scoped>\n",
              "    .dataframe tbody tr th:only-of-type {\n",
              "        vertical-align: middle;\n",
              "    }\n",
              "\n",
              "    .dataframe tbody tr th {\n",
              "        vertical-align: top;\n",
              "    }\n",
              "\n",
              "    .dataframe thead th {\n",
              "        text-align: right;\n",
              "    }\n",
              "</style>\n",
              "<table border=\"1\" class=\"dataframe\">\n",
              "  <thead>\n",
              "    <tr style=\"text-align: right;\">\n",
              "      <th></th>\n",
              "      <th>LPR</th>\n",
              "      <th>PEG</th>\n",
              "    </tr>\n",
              "  </thead>\n",
              "  <tbody>\n",
              "    <tr>\n",
              "      <th>0</th>\n",
              "      <td>0.00</td>\n",
              "      <td>0.00</td>\n",
              "    </tr>\n",
              "    <tr>\n",
              "      <th>1</th>\n",
              "      <td>0.24</td>\n",
              "      <td>0.90</td>\n",
              "    </tr>\n",
              "    <tr>\n",
              "      <th>2</th>\n",
              "      <td>0.65</td>\n",
              "      <td>0.30</td>\n",
              "    </tr>\n",
              "    <tr>\n",
              "      <th>3</th>\n",
              "      <td>0.98</td>\n",
              "      <td>0.24</td>\n",
              "    </tr>\n",
              "    <tr>\n",
              "      <th>4</th>\n",
              "      <td>0.10</td>\n",
              "      <td>0.66</td>\n",
              "    </tr>\n",
              "    <tr>\n",
              "      <th>...</th>\n",
              "      <td>...</td>\n",
              "      <td>...</td>\n",
              "    </tr>\n",
              "    <tr>\n",
              "      <th>318</th>\n",
              "      <td>0.32</td>\n",
              "      <td>0.89</td>\n",
              "    </tr>\n",
              "    <tr>\n",
              "      <th>319</th>\n",
              "      <td>0.83</td>\n",
              "      <td>0.83</td>\n",
              "    </tr>\n",
              "    <tr>\n",
              "      <th>320</th>\n",
              "      <td>0.13</td>\n",
              "      <td>0.32</td>\n",
              "    </tr>\n",
              "    <tr>\n",
              "      <th>321</th>\n",
              "      <td>0.57</td>\n",
              "      <td>0.57</td>\n",
              "    </tr>\n",
              "    <tr>\n",
              "      <th>322</th>\n",
              "      <td>0.97</td>\n",
              "      <td>0.24</td>\n",
              "    </tr>\n",
              "  </tbody>\n",
              "</table>\n",
              "<p>323 rows × 2 columns</p>\n",
              "</div>\n",
              "      <button class=\"colab-df-convert\" onclick=\"convertToInteractive('df-e07e318f-850a-4a41-8723-06c490a89bfa')\"\n",
              "              title=\"Convert this dataframe to an interactive table.\"\n",
              "              style=\"display:none;\">\n",
              "        \n",
              "  <svg xmlns=\"http://www.w3.org/2000/svg\" height=\"24px\"viewBox=\"0 0 24 24\"\n",
              "       width=\"24px\">\n",
              "    <path d=\"M0 0h24v24H0V0z\" fill=\"none\"/>\n",
              "    <path d=\"M18.56 5.44l.94 2.06.94-2.06 2.06-.94-2.06-.94-.94-2.06-.94 2.06-2.06.94zm-11 1L8.5 8.5l.94-2.06 2.06-.94-2.06-.94L8.5 2.5l-.94 2.06-2.06.94zm10 10l.94 2.06.94-2.06 2.06-.94-2.06-.94-.94-2.06-.94 2.06-2.06.94z\"/><path d=\"M17.41 7.96l-1.37-1.37c-.4-.4-.92-.59-1.43-.59-.52 0-1.04.2-1.43.59L10.3 9.45l-7.72 7.72c-.78.78-.78 2.05 0 2.83L4 21.41c.39.39.9.59 1.41.59.51 0 1.02-.2 1.41-.59l7.78-7.78 2.81-2.81c.8-.78.8-2.07 0-2.86zM5.41 20L4 18.59l7.72-7.72 1.47 1.35L5.41 20z\"/>\n",
              "  </svg>\n",
              "      </button>\n",
              "      \n",
              "  <style>\n",
              "    .colab-df-container {\n",
              "      display:flex;\n",
              "      flex-wrap:wrap;\n",
              "      gap: 12px;\n",
              "    }\n",
              "\n",
              "    .colab-df-convert {\n",
              "      background-color: #E8F0FE;\n",
              "      border: none;\n",
              "      border-radius: 50%;\n",
              "      cursor: pointer;\n",
              "      display: none;\n",
              "      fill: #1967D2;\n",
              "      height: 32px;\n",
              "      padding: 0 0 0 0;\n",
              "      width: 32px;\n",
              "    }\n",
              "\n",
              "    .colab-df-convert:hover {\n",
              "      background-color: #E2EBFA;\n",
              "      box-shadow: 0px 1px 2px rgba(60, 64, 67, 0.3), 0px 1px 3px 1px rgba(60, 64, 67, 0.15);\n",
              "      fill: #174EA6;\n",
              "    }\n",
              "\n",
              "    [theme=dark] .colab-df-convert {\n",
              "      background-color: #3B4455;\n",
              "      fill: #D2E3FC;\n",
              "    }\n",
              "\n",
              "    [theme=dark] .colab-df-convert:hover {\n",
              "      background-color: #434B5C;\n",
              "      box-shadow: 0px 1px 3px 1px rgba(0, 0, 0, 0.15);\n",
              "      filter: drop-shadow(0px 1px 2px rgba(0, 0, 0, 0.3));\n",
              "      fill: #FFFFFF;\n",
              "    }\n",
              "  </style>\n",
              "\n",
              "      <script>\n",
              "        const buttonEl =\n",
              "          document.querySelector('#df-e07e318f-850a-4a41-8723-06c490a89bfa button.colab-df-convert');\n",
              "        buttonEl.style.display =\n",
              "          google.colab.kernel.accessAllowed ? 'block' : 'none';\n",
              "\n",
              "        async function convertToInteractive(key) {\n",
              "          const element = document.querySelector('#df-e07e318f-850a-4a41-8723-06c490a89bfa');\n",
              "          const dataTable =\n",
              "            await google.colab.kernel.invokeFunction('convertToInteractive',\n",
              "                                                     [key], {});\n",
              "          if (!dataTable) return;\n",
              "\n",
              "          const docLinkHtml = 'Like what you see? Visit the ' +\n",
              "            '<a target=\"_blank\" href=https://colab.research.google.com/notebooks/data_table.ipynb>data table notebook</a>'\n",
              "            + ' to learn more about interactive tables.';\n",
              "          element.innerHTML = '';\n",
              "          dataTable['output_type'] = 'display_data';\n",
              "          await google.colab.output.renderOutput(dataTable, element);\n",
              "          const docLink = document.createElement('div');\n",
              "          docLink.innerHTML = docLinkHtml;\n",
              "          element.appendChild(docLink);\n",
              "        }\n",
              "      </script>\n",
              "    </div>\n",
              "  </div>\n",
              "  "
            ]
          },
          "metadata": {},
          "execution_count": 6
        }
      ]
    },
    {
      "cell_type": "markdown",
      "source": [
        "Label Encoding for the test and train data"
      ],
      "metadata": {
        "id": "uZZxq0uChVMP"
      }
    },
    {
      "cell_type": "code",
      "source": [
        "labelencoder_y_train=LabelEncoder()\n",
        "labelencoder_y_test=LabelEncoder()\n",
        "y_train_encoded = labelencoder_y_train.fit_transform(y_train)\n",
        "y_test_encoded =labelencoder_y_test.fit_transform(y_test)\n",
        "y_train_encoded"
      ],
      "metadata": {
        "id": "gLoJVI4jLnd3",
        "colab": {
          "base_uri": "https://localhost:8080/"
        },
        "outputId": "1b679efa-5c77-436c-c235-a098db2bde8e"
      },
      "execution_count": 7,
      "outputs": [
        {
          "output_type": "execute_result",
          "data": {
            "text/plain": [
              "array([3, 0, 2, 1, 2, 2, 1, 0, 0, 1, 2, 0, 3, 1, 1, 2, 1, 2, 2, 1, 1, 0,\n",
              "       3, 1, 0, 2, 1, 1, 0, 1, 1, 1, 3, 0, 2, 2, 3, 2, 2, 0, 1, 1, 1, 2,\n",
              "       0, 1, 2, 2, 1, 3, 3, 2, 0, 3, 0, 3, 1, 1, 1, 1, 2, 2, 1, 1, 3, 1,\n",
              "       2, 2, 2, 3, 0, 1, 1, 2, 1, 1, 0, 2, 1, 2, 2, 2, 0, 1, 1, 0, 0, 2,\n",
              "       2, 3, 2, 0, 1, 2, 0, 0, 1, 1, 2, 1, 2, 3, 0, 2, 2, 1, 1, 2, 1, 3,\n",
              "       2, 2, 1, 3, 1, 0, 0, 1, 2, 2, 2, 0, 2, 2, 2, 0, 0, 3, 0, 2, 0, 1,\n",
              "       0, 1, 2, 0, 1, 2, 1, 1, 0, 2, 0, 1, 0, 0, 1, 1, 1, 0, 1, 0, 2, 0,\n",
              "       2, 0, 2, 1, 1, 2, 3, 3, 2, 3, 1, 0, 2, 2, 0, 2, 2, 0, 2, 2, 1, 0,\n",
              "       1, 1, 2, 2, 1, 2, 0, 2, 1, 1, 2, 1, 1, 0, 2, 0, 2, 1, 2, 0, 2, 1,\n",
              "       2, 2, 2, 1, 0, 2, 2, 0, 3, 1, 0, 0, 1, 2, 1, 0, 3, 2, 3, 0, 2, 0,\n",
              "       3, 0, 3, 1, 0, 1, 1, 1, 2, 1, 2, 3, 1, 2, 0, 1, 2, 0, 2, 2, 3, 0,\n",
              "       3, 3, 2, 2, 0, 3, 2, 3, 0, 3, 0, 3, 1, 0, 0, 1, 0, 1, 2, 1, 2, 0,\n",
              "       3, 0, 3, 0, 2, 0, 1, 0, 0, 2, 0, 3, 1, 2, 1, 3, 1, 2, 1, 2, 0, 1,\n",
              "       3, 1, 2, 1, 2, 1, 1, 1, 2, 2, 0, 1, 2, 0, 0, 3, 1, 2, 0, 1, 0, 3,\n",
              "       0, 1, 1, 0, 1, 2, 1, 1, 1, 1, 0, 0, 1, 2, 2])"
            ]
          },
          "metadata": {},
          "execution_count": 7
        }
      ]
    },
    {
      "cell_type": "markdown",
      "source": [
        "Plot the data "
      ],
      "metadata": {
        "id": "VHnY1axAi8Ft"
      }
    },
    {
      "cell_type": "code",
      "source": [
        "plt.scatter(x_train.iloc[:,0],x_train.iloc[:,1],c=y_train_encoded,edgecolors='k',alpha=1)\n",
        "plt.title('Data')\n",
        "plt.xlabel('LPR')\n",
        "plt.ylabel('PEG')\n",
        "plt.show()"
      ],
      "metadata": {
        "colab": {
          "base_uri": "https://localhost:8080/",
          "height": 295
        },
        "id": "Cr0fVyMei7tF",
        "outputId": "2a068588-a913-4384-abb8-d937c0e0b2c4"
      },
      "execution_count": 8,
      "outputs": [
        {
          "output_type": "display_data",
          "data": {
            "text/plain": [
              "<Figure size 432x288 with 1 Axes>"
            ],
            "image/png": "[encoded data removed]"
          },
          "metadata": {
            "needs_background": "light"
          }
        }
      ]
    },
    {
      "cell_type": "markdown",
      "source": [
        "# SVM and Perceptron"
      ],
      "metadata": {
        "id": "Wun4bwDCA8AU"
      }
    },
    {
      "cell_type": "markdown",
      "source": [
        "Train the SVM model"
      ],
      "metadata": {
        "id": "KZ5y4wN9woRZ"
      }
    },
    {
      "cell_type": "code",
      "source": [
        "svm_model = svm.SVC()\n",
        "svm_model.fit(x_train, y_train_encoded)\n",
        "ys_predicted = svm_model.predict(x_test)"
      ],
      "metadata": {
        "id": "IJnKSYbHkyB1"
      },
      "execution_count": 9,
      "outputs": []
    },
    {
      "cell_type": "markdown",
      "source": [
        "Plot the accuracies and confusion matrix for SVM"
      ],
      "metadata": {
        "id": "pJCwm8nx05F_"
      }
    },
    {
      "cell_type": "code",
      "source": [
        "print('\\nClassification Report:\\n')\n",
        "print(classification_report(y_test_encoded, ys_predicted))\n",
        "print('\\nConfusion Matrix:\\n')\n",
        "cm = confusion_matrix(y_test_encoded, ys_predicted)\n",
        "print(cm)\n",
        "print('\\nAccuracy Score:\\n')\n",
        "print(accuracy_score(y_test_encoded, ys_predicted))\n",
        "print('\\Confusion Matrix Display:\\n')\n",
        "print(ConfusionMatrixDisplay(cm).plot())"
      ],
      "metadata": {
        "id": "T0xoP8rqw-1_",
        "colab": {
          "base_uri": "https://localhost:8080/",
          "height": 765
        },
        "outputId": "77e7d839-8aac-42b4-bdb4-8e714100a977"
      },
      "execution_count": 10,
      "outputs": [
        {
          "output_type": "stream",
          "name": "stdout",
          "text": [
            "\n",
            "Classification Report:\n",
            "\n",
            "              precision    recall  f1-score   support\n",
            "\n",
            "           0       1.00      1.00      1.00        21\n",
            "           1       0.96      1.00      0.98        26\n",
            "           2       1.00      1.00      1.00        22\n",
            "           3       1.00      0.91      0.95        11\n",
            "\n",
            "    accuracy                           0.99        80\n",
            "   macro avg       0.99      0.98      0.98        80\n",
            "weighted avg       0.99      0.99      0.99        80\n",
            "\n",
            "\n",
            "Confusion Matrix:\n",
            "\n",
            "[[21  0  0  0]\n",
            " [ 0 26  0  0]\n",
            " [ 0  0 22  0]\n",
            " [ 0  1  0 10]]\n",
            "\n",
            "Accuracy Score:\n",
            "\n",
            "0.9875\n",
            "\\Confusion Matrix Display:\n",
            "\n",
            "<sklearn.metrics._plot.confusion_matrix.ConfusionMatrixDisplay object at 0x7f93077ff7d0>\n"
          ]
        },
        {
          "output_type": "display_data",
          "data": {
            "text/plain": [
              "<Figure size 432x288 with 2 Axes>"
            ],
            "image/png": "[encoded data removed]"
          },
          "metadata": {
            "needs_background": "light"
          }
        }
      ]
    },
    {
      "cell_type": "markdown",
      "source": [
        "Decision boundaries for SVM"
      ],
      "metadata": {
        "id": "Llv0oVKK6aog"
      }
    },
    {
      "cell_type": "code",
      "source": [
        "plot_decision_regions(x_test.to_numpy(), ys_predicted, clf=svm_model, legend=2)\n",
        "\n",
        "plt.title('SVM Decision Boundaries')\n",
        "plt.xlabel('x_test')\n",
        "plt.ylabel('ys_predicted')\n",
        "plt.show()"
      ],
      "metadata": {
        "colab": {
          "base_uri": "https://localhost:8080/",
          "height": 385
        },
        "id": "VD8VJ5ON6c8w",
        "outputId": "50c0cd4e-b5dc-4513-c679-404a0a2997a0"
      },
      "execution_count": 11,
      "outputs": [
        {
          "output_type": "stream",
          "name": "stderr",
          "text": [
            "/usr/local/lib/python3.7/dist-packages/sklearn/base.py:451: UserWarning: X does not have valid feature names, but SVC was fitted with feature names\n",
            "  \"X does not have valid feature names, but\"\n",
            "/usr/local/lib/python3.7/dist-packages/mlxtend/plotting/decision_regions.py:244: MatplotlibDeprecationWarning: Passing unsupported keyword arguments to axis() will raise a TypeError in 3.3.\n",
            "  ax.axis(xmin=xx.min(), xmax=xx.max(), y_min=yy.min(), y_max=yy.max())\n"
          ]
        },
        {
          "output_type": "display_data",
          "data": {
            "text/plain": [
              "<Figure size 432x288 with 1 Axes>"
            ],
            "image/png": "[encoded data removed]"
          },
          "metadata": {
            "needs_background": "light"
          }
        }
      ]
    },
    {
      "cell_type": "markdown",
      "source": [
        "Train the perceptron algorithm"
      ],
      "metadata": {
        "id": "seqe7rWJ1Mx9"
      }
    },
    {
      "cell_type": "code",
      "source": [
        "perc_model = Perceptron(tol=1e-3, random_state=0)\n",
        "perc_model.fit(x_train, y_train_encoded)\n",
        "yp_predicted = perc_model.predict(x_test)"
      ],
      "metadata": {
        "id": "DmcGY5TR1NL1"
      },
      "execution_count": 12,
      "outputs": []
    },
    {
      "cell_type": "markdown",
      "source": [
        "Plot the accuracies and confusion matrix for Perceptron"
      ],
      "metadata": {
        "id": "aRGVszOG9SKA"
      }
    },
    {
      "cell_type": "code",
      "source": [
        "print('\\nClassification Report:\\n')\n",
        "print(classification_report(y_test_encoded, yp_predicted))\n",
        "print('\\nConfusion Matrix:\\n')\n",
        "cm = confusion_matrix(y_test_encoded, yp_predicted)\n",
        "print(cm)\n",
        "print('\\nAccuracy Score:\\n')\n",
        "print(accuracy_score(y_test_encoded, yp_predicted))\n",
        "print('\\Confusion Matrix Display:\\n')\n",
        "print(ConfusionMatrixDisplay(cm).plot())"
      ],
      "metadata": {
        "colab": {
          "base_uri": "https://localhost:8080/",
          "height": 889
        },
        "id": "R-be-bj28rAj",
        "outputId": "8b33bd8a-7ea1-450b-9b89-23643d3d76b5"
      },
      "execution_count": 13,
      "outputs": [
        {
          "output_type": "stream",
          "name": "stdout",
          "text": [
            "\n",
            "Classification Report:\n",
            "\n",
            "              precision    recall  f1-score   support\n",
            "\n",
            "           0       0.95      1.00      0.98        21\n",
            "           1       0.46      1.00      0.63        26\n",
            "           2       0.00      0.00      0.00        22\n",
            "           3       1.00      0.09      0.17        11\n",
            "\n",
            "    accuracy                           0.60        80\n",
            "   macro avg       0.60      0.52      0.44        80\n",
            "weighted avg       0.54      0.60      0.48        80\n",
            "\n",
            "\n",
            "Confusion Matrix:\n",
            "\n",
            "[[21  0  0  0]\n",
            " [ 0 26  0  0]\n",
            " [ 1 21  0  0]\n",
            " [ 0 10  0  1]]\n",
            "\n",
            "Accuracy Score:\n",
            "\n",
            "0.6\n",
            "\\Confusion Matrix Display:\n",
            "\n",
            "<sklearn.metrics._plot.confusion_matrix.ConfusionMatrixDisplay object at 0x7f92ef2bf6d0>\n"
          ]
        },
        {
          "output_type": "stream",
          "name": "stderr",
          "text": [
            "/usr/local/lib/python3.7/dist-packages/sklearn/metrics/_classification.py:1318: UndefinedMetricWarning: Precision and F-score are ill-defined and being set to 0.0 in labels with no predicted samples. Use `zero_division` parameter to control this behavior.\n",
            "  _warn_prf(average, modifier, msg_start, len(result))\n",
            "/usr/local/lib/python3.7/dist-packages/sklearn/metrics/_classification.py:1318: UndefinedMetricWarning: Precision and F-score are ill-defined and being set to 0.0 in labels with no predicted samples. Use `zero_division` parameter to control this behavior.\n",
            "  _warn_prf(average, modifier, msg_start, len(result))\n",
            "/usr/local/lib/python3.7/dist-packages/sklearn/metrics/_classification.py:1318: UndefinedMetricWarning: Precision and F-score are ill-defined and being set to 0.0 in labels with no predicted samples. Use `zero_division` parameter to control this behavior.\n",
            "  _warn_prf(average, modifier, msg_start, len(result))\n"
          ]
        },
        {
          "output_type": "display_data",
          "data": {
            "text/plain": [
              "<Figure size 432x288 with 2 Axes>"
            ],
            "image/png": "[encoded data removed]"
          },
          "metadata": {
            "needs_background": "light"
          }
        }
      ]
    },
    {
      "cell_type": "markdown",
      "source": [
        "Decision boundaries for perceptron"
      ],
      "metadata": {
        "id": "a54a2T3C-fr5"
      }
    },
    {
      "cell_type": "code",
      "source": [
        "plot_decision_regions(x_test.to_numpy(), yp_predicted, clf=perc_model, legend=2)\n",
        "\n",
        "plt.title('Perceptron Decision Boundaries')\n",
        "plt.xlabel('x_test')\n",
        "plt.ylabel('yp_predicted')\n",
        "plt.show()"
      ],
      "metadata": {
        "colab": {
          "base_uri": "https://localhost:8080/",
          "height": 385
        },
        "id": "kpzEH0xE9enK",
        "outputId": "8a65c432-a6b1-42b8-dceb-5a473729b866"
      },
      "execution_count": 14,
      "outputs": [
        {
          "output_type": "stream",
          "name": "stderr",
          "text": [
            "/usr/local/lib/python3.7/dist-packages/sklearn/base.py:451: UserWarning: X does not have valid feature names, but Perceptron was fitted with feature names\n",
            "  \"X does not have valid feature names, but\"\n",
            "/usr/local/lib/python3.7/dist-packages/mlxtend/plotting/decision_regions.py:244: MatplotlibDeprecationWarning: Passing unsupported keyword arguments to axis() will raise a TypeError in 3.3.\n",
            "  ax.axis(xmin=xx.min(), xmax=xx.max(), y_min=yy.min(), y_max=yy.max())\n"
          ]
        },
        {
          "output_type": "display_data",
          "data": {
            "text/plain": [
              "<Figure size 432x288 with 1 Axes>"
            ],
            "image/png": "[encoded data removed]"
          },
          "metadata": {
            "needs_background": "light"
          }
        }
      ]
    },
    {
      "cell_type": "markdown",
      "source": [
        "# One v Rest"
      ],
      "metadata": {
        "id": "4RsB-KzpBU9Z"
      }
    },
    {
      "cell_type": "markdown",
      "source": [
        "## Preparing"
      ],
      "metadata": {
        "id": "EyD27NW4u1Lt"
      }
    },
    {
      "cell_type": "markdown",
      "source": [
        "Multi Label Binarizer to extend the train and test label to multi binarized classes "
      ],
      "metadata": {
        "id": "463K5AfwSYhG"
      }
    },
    {
      "cell_type": "code",
      "source": [
        "y_train_encoded_reshaped = y_train_encoded.reshape((-1,1))\n",
        "y_test_encoded_reshaped = y_test_encoded.reshape((-1,1))\n",
        "mlb = MultiLabelBinarizer()\n",
        "yb = mlb.fit_transform(y_train_encoded_reshaped)\n",
        "ytb = mlb.fit_transform(y_test_encoded_reshaped)\n",
        "yb"
      ],
      "metadata": {
        "colab": {
          "base_uri": "https://localhost:8080/"
        },
        "id": "cvp-V8DrBctO",
        "outputId": "f792f247-bef6-4d44-ca57-7d287a6b4760"
      },
      "execution_count": 15,
      "outputs": [
        {
          "output_type": "execute_result",
          "data": {
            "text/plain": [
              "array([[0, 0, 0, 1],\n",
              "       [1, 0, 0, 0],\n",
              "       [0, 0, 1, 0],\n",
              "       ...,\n",
              "       [0, 1, 0, 0],\n",
              "       [0, 0, 1, 0],\n",
              "       [0, 0, 1, 0]])"
            ]
          },
          "metadata": {},
          "execution_count": 15
        }
      ]
    },
    {
      "cell_type": "markdown",
      "source": [
        "Separate each train and test binarized class in array"
      ],
      "metadata": {
        "id": "SpbdD81cSrMi"
      }
    },
    {
      "cell_type": "code",
      "source": [
        "yb1 = yb[:,0]\n",
        "yb2 = yb[:,1]\n",
        "yb3 = yb[:,2]\n",
        "yb4 = yb[:,3]\n",
        "\n",
        "ytb1 = ytb[:,0]\n",
        "ytb2 = ytb[:,1]\n",
        "ytb3 = ytb[:,2]\n",
        "ytb4 = ytb[:,3]"
      ],
      "metadata": {
        "id": "u818QOXkE4Rw"
      },
      "execution_count": 16,
      "outputs": []
    },
    {
      "cell_type": "markdown",
      "source": [
        "## First binarized model"
      ],
      "metadata": {
        "id": "ADIJxl3mW0ep"
      }
    },
    {
      "cell_type": "markdown",
      "source": [
        "First SVM model and its accuracy"
      ],
      "metadata": {
        "id": "oBr0JLFzS4rM"
      }
    },
    {
      "cell_type": "code",
      "source": [
        "clf_1 = svm.SVC(probability=True)\n",
        "clf_1.fit(x_train, yb1)\n",
        "yb1_pred = clf_1.predict(x_test)\n",
        "yb1_pred_prop = clf_1.predict_proba(x_test)[:,1].reshape(-1,1)\n",
        "\n",
        "print('\\nAccuracy Score:\\n')\n",
        "print(accuracy_score(ytb1, yb1_pred))"
      ],
      "metadata": {
        "colab": {
          "base_uri": "https://localhost:8080/"
        },
        "id": "3O7BzGwcKePQ",
        "outputId": "54a09f45-ae6d-4efe-dc6b-061ffab58904"
      },
      "execution_count": 17,
      "outputs": [
        {
          "output_type": "stream",
          "name": "stdout",
          "text": [
            "\n",
            "Accuracy Score:\n",
            "\n",
            "1.0\n"
          ]
        }
      ]
    },
    {
      "cell_type": "markdown",
      "source": [
        "Accuracies and confusion matrix for the first model"
      ],
      "metadata": {
        "id": "xcGduDuaWbns"
      }
    },
    {
      "cell_type": "code",
      "source": [
        "print('\\nClassification Report:\\n')\n",
        "print(classification_report(ytb1, yb1_pred))\n",
        "print('\\nConfusion Matrix:\\n')\n",
        "cm = confusion_matrix(ytb1, yb1_pred)\n",
        "print(cm)\n",
        "print('\\nAccuracy Score:\\n')\n",
        "print(accuracy_score(ytb1, yb1_pred))\n",
        "print('\\Confusion Matrix Display:\\n')\n",
        "print(ConfusionMatrixDisplay(cm).plot())"
      ],
      "metadata": {
        "colab": {
          "base_uri": "https://localhost:8080/",
          "height": 696
        },
        "id": "3e5PxqvqWjzV",
        "outputId": "704cc36a-5fb0-4135-9256-bff0673fb54d"
      },
      "execution_count": 18,
      "outputs": [
        {
          "output_type": "stream",
          "name": "stdout",
          "text": [
            "\n",
            "Classification Report:\n",
            "\n",
            "              precision    recall  f1-score   support\n",
            "\n",
            "           0       1.00      1.00      1.00        59\n",
            "           1       1.00      1.00      1.00        21\n",
            "\n",
            "    accuracy                           1.00        80\n",
            "   macro avg       1.00      1.00      1.00        80\n",
            "weighted avg       1.00      1.00      1.00        80\n",
            "\n",
            "\n",
            "Confusion Matrix:\n",
            "\n",
            "[[59  0]\n",
            " [ 0 21]]\n",
            "\n",
            "Accuracy Score:\n",
            "\n",
            "1.0\n",
            "\\Confusion Matrix Display:\n",
            "\n",
            "<sklearn.metrics._plot.confusion_matrix.ConfusionMatrixDisplay object at 0x7f92ec90f050>\n"
          ]
        },
        {
          "output_type": "display_data",
          "data": {
            "text/plain": [
              "<Figure size 432x288 with 2 Axes>"
            ],
            "image/png": "[encoded data removed]"
          },
          "metadata": {
            "needs_background": "light"
          }
        }
      ]
    },
    {
      "cell_type": "markdown",
      "source": [
        "Plot the decision boundaries for the first model"
      ],
      "metadata": {
        "id": "0Zt0HF-gUx2e"
      }
    },
    {
      "cell_type": "code",
      "source": [
        "plot_decision_regions(x_test.to_numpy(), yb1_pred, clf=clf_1, legend=2)\n",
        "\n",
        "plt.title('SVM Decision Boundaries')\n",
        "plt.xlabel('x_test')\n",
        "plt.ylabel('y_b1_pred')\n",
        "plt.show()"
      ],
      "metadata": {
        "colab": {
          "base_uri": "https://localhost:8080/",
          "height": 385
        },
        "id": "GeidnVnmWQw2",
        "outputId": "230282f7-af45-4b99-cbb7-9d615dea9709"
      },
      "execution_count": 19,
      "outputs": [
        {
          "output_type": "stream",
          "name": "stderr",
          "text": [
            "/usr/local/lib/python3.7/dist-packages/sklearn/base.py:451: UserWarning: X does not have valid feature names, but SVC was fitted with feature names\n",
            "  \"X does not have valid feature names, but\"\n",
            "/usr/local/lib/python3.7/dist-packages/mlxtend/plotting/decision_regions.py:244: MatplotlibDeprecationWarning: Passing unsupported keyword arguments to axis() will raise a TypeError in 3.3.\n",
            "  ax.axis(xmin=xx.min(), xmax=xx.max(), y_min=yy.min(), y_max=yy.max())\n"
          ]
        },
        {
          "output_type": "display_data",
          "data": {
            "text/plain": [
              "<Figure size 432x288 with 1 Axes>"
            ],
            "image/png": "[encoded data removed]"
          },
          "metadata": {
            "needs_background": "light"
          }
        }
      ]
    },
    {
      "cell_type": "markdown",
      "source": [
        "## Second binarized model"
      ],
      "metadata": {
        "id": "xYhWDQ1pW9jW"
      }
    },
    {
      "cell_type": "markdown",
      "source": [
        "Second SVM model and its accuracy"
      ],
      "metadata": {
        "id": "Awq9E-SiTBMl"
      }
    },
    {
      "cell_type": "code",
      "source": [
        "clf_2 = svm.SVC(probability=True)\n",
        "clf_2.fit(x_train, yb2)\n",
        "yb2_pred = clf_2.predict(x_test)\n",
        "yb2_pred_prop = clf_2.predict_proba(x_test)[:,1].reshape(-1,1)\n",
        "\n",
        "print('\\nAccuracy Score:\\n')\n",
        "print(accuracy_score(ytb2, yb2_pred))"
      ],
      "metadata": {
        "colab": {
          "base_uri": "https://localhost:8080/"
        },
        "id": "FBfpEyldPYXV",
        "outputId": "472bfa6e-3644-4a79-a454-4baba738ca85"
      },
      "execution_count": 20,
      "outputs": [
        {
          "output_type": "stream",
          "name": "stdout",
          "text": [
            "\n",
            "Accuracy Score:\n",
            "\n",
            "0.975\n"
          ]
        }
      ]
    },
    {
      "cell_type": "markdown",
      "source": [
        "Accuracies and confusion matrix for the second model"
      ],
      "metadata": {
        "id": "Xt8ndQiKXbjz"
      }
    },
    {
      "cell_type": "code",
      "source": [
        "print('\\nClassification Report:\\n')\n",
        "print(classification_report(ytb2, yb2_pred))\n",
        "print('\\nConfusion Matrix:\\n')\n",
        "cm = confusion_matrix(ytb2, yb2_pred)\n",
        "print(cm)\n",
        "print('\\nAccuracy Score:\\n')\n",
        "print(accuracy_score(ytb2, yb2_pred))\n",
        "print('\\Confusion Matrix Display:\\n')\n",
        "print(ConfusionMatrixDisplay(cm).plot())"
      ],
      "metadata": {
        "colab": {
          "base_uri": "https://localhost:8080/",
          "height": 696
        },
        "id": "evuirp1QXb2l",
        "outputId": "4050d32b-d164-4d71-f1f4-d828c85cd3b5"
      },
      "execution_count": 21,
      "outputs": [
        {
          "output_type": "stream",
          "name": "stdout",
          "text": [
            "\n",
            "Classification Report:\n",
            "\n",
            "              precision    recall  f1-score   support\n",
            "\n",
            "           0       1.00      0.96      0.98        54\n",
            "           1       0.93      1.00      0.96        26\n",
            "\n",
            "    accuracy                           0.97        80\n",
            "   macro avg       0.96      0.98      0.97        80\n",
            "weighted avg       0.98      0.97      0.98        80\n",
            "\n",
            "\n",
            "Confusion Matrix:\n",
            "\n",
            "[[52  2]\n",
            " [ 0 26]]\n",
            "\n",
            "Accuracy Score:\n",
            "\n",
            "0.975\n",
            "\\Confusion Matrix Display:\n",
            "\n",
            "<sklearn.metrics._plot.confusion_matrix.ConfusionMatrixDisplay object at 0x7f92ec7cca10>\n"
          ]
        },
        {
          "output_type": "display_data",
          "data": {
            "text/plain": [
              "<Figure size 432x288 with 2 Axes>"
            ],
            "image/png": "[encoded data removed]"
          },
          "metadata": {
            "needs_background": "light"
          }
        }
      ]
    },
    {
      "cell_type": "markdown",
      "source": [
        "Plot the decision boundaries for the second model"
      ],
      "metadata": {
        "id": "qcN4Ewh_YdCt"
      }
    },
    {
      "cell_type": "code",
      "source": [
        "plot_decision_regions(x_test.to_numpy(), yb2_pred, clf=clf_2, legend=2)\n",
        "\n",
        "plt.title('SVM Decision Boundaries')\n",
        "plt.xlabel('x_test')\n",
        "plt.ylabel('yb2_pred')\n",
        "plt.show()"
      ],
      "metadata": {
        "colab": {
          "base_uri": "https://localhost:8080/",
          "height": 385
        },
        "id": "UpmXVQkxYcrH",
        "outputId": "92848596-dbcd-4c73-c65f-cab1867577e5"
      },
      "execution_count": 22,
      "outputs": [
        {
          "output_type": "stream",
          "name": "stderr",
          "text": [
            "/usr/local/lib/python3.7/dist-packages/sklearn/base.py:451: UserWarning: X does not have valid feature names, but SVC was fitted with feature names\n",
            "  \"X does not have valid feature names, but\"\n",
            "/usr/local/lib/python3.7/dist-packages/mlxtend/plotting/decision_regions.py:244: MatplotlibDeprecationWarning: Passing unsupported keyword arguments to axis() will raise a TypeError in 3.3.\n",
            "  ax.axis(xmin=xx.min(), xmax=xx.max(), y_min=yy.min(), y_max=yy.max())\n"
          ]
        },
        {
          "output_type": "display_data",
          "data": {
            "text/plain": [
              "<Figure size 432x288 with 1 Axes>"
            ],
            "image/png": "[encoded data removed]"
          },
          "metadata": {
            "needs_background": "light"
          }
        }
      ]
    },
    {
      "cell_type": "markdown",
      "source": [
        "## Third binarized model"
      ],
      "metadata": {
        "id": "dgBiCiCqXCNP"
      }
    },
    {
      "cell_type": "markdown",
      "source": [
        "Third SVM model and its accuracy"
      ],
      "metadata": {
        "id": "okxDqq1mTC4N"
      }
    },
    {
      "cell_type": "code",
      "source": [
        "clf_3 = svm.SVC(probability=True)\n",
        "clf_3.fit(x_train, yb3)\n",
        "yb3_pred = clf_3.predict(x_test)\n",
        "yb3_pred_prop = clf_3.predict_proba(x_test)[:,1].reshape(-1,1)\n",
        "\n",
        "print('\\nAccuracy Score:\\n')\n",
        "print(accuracy_score(ytb3, yb3_pred))"
      ],
      "metadata": {
        "colab": {
          "base_uri": "https://localhost:8080/"
        },
        "id": "uTeiRBJFPY6c",
        "outputId": "ce447c35-9c71-4cae-efc1-123c8f3fc8f4"
      },
      "execution_count": 23,
      "outputs": [
        {
          "output_type": "stream",
          "name": "stdout",
          "text": [
            "\n",
            "Accuracy Score:\n",
            "\n",
            "1.0\n"
          ]
        }
      ]
    },
    {
      "cell_type": "markdown",
      "source": [
        "Accuracies and confusion matrix for the third model"
      ],
      "metadata": {
        "id": "R780hfUWXh5T"
      }
    },
    {
      "cell_type": "code",
      "source": [
        "print('\\nClassification Report:\\n')\n",
        "print(classification_report(ytb3, yb3_pred))\n",
        "print('\\nConfusion Matrix:\\n')\n",
        "cm = confusion_matrix(ytb3, yb3_pred)\n",
        "print(cm)\n",
        "print('\\nAccuracy Score:\\n')\n",
        "print(accuracy_score(ytb3, yb3_pred))\n",
        "print('\\Confusion Matrix Display:\\n')\n",
        "print(ConfusionMatrixDisplay(cm).plot())"
      ],
      "metadata": {
        "colab": {
          "base_uri": "https://localhost:8080/",
          "height": 0
        },
        "id": "EqU9BjZtXhmC",
        "outputId": "23e9b444-c183-427f-e5cb-ab3306ba4250"
      },
      "execution_count": 24,
      "outputs": [
        {
          "output_type": "stream",
          "name": "stdout",
          "text": [
            "\n",
            "Classification Report:\n",
            "\n",
            "              precision    recall  f1-score   support\n",
            "\n",
            "           0       1.00      1.00      1.00        58\n",
            "           1       1.00      1.00      1.00        22\n",
            "\n",
            "    accuracy                           1.00        80\n",
            "   macro avg       1.00      1.00      1.00        80\n",
            "weighted avg       1.00      1.00      1.00        80\n",
            "\n",
            "\n",
            "Confusion Matrix:\n",
            "\n",
            "[[58  0]\n",
            " [ 0 22]]\n",
            "\n",
            "Accuracy Score:\n",
            "\n",
            "1.0\n",
            "\\Confusion Matrix Display:\n",
            "\n",
            "<sklearn.metrics._plot.confusion_matrix.ConfusionMatrixDisplay object at 0x7f92ec67c190>\n"
          ]
        },
        {
          "output_type": "display_data",
          "data": {
            "text/plain": [
              "<Figure size 432x288 with 2 Axes>"
            ],
            "image/png": "[encoded data removed]"
          },
          "metadata": {
            "needs_background": "light"
          }
        }
      ]
    },
    {
      "cell_type": "markdown",
      "source": [
        "Plot the decision boundaries for the third model"
      ],
      "metadata": {
        "id": "PEStGswBYfV_"
      }
    },
    {
      "cell_type": "code",
      "source": [
        "plot_decision_regions(x_test.to_numpy(), yb3_pred, clf=clf_3, legend=2)\n",
        "\n",
        "plt.title('SVM Decision Boundaries')\n",
        "plt.xlabel('x_test')\n",
        "plt.ylabel('yb3_pred')\n",
        "plt.show()"
      ],
      "metadata": {
        "colab": {
          "base_uri": "https://localhost:8080/",
          "height": 0
        },
        "id": "Tx0KiqopYe9E",
        "outputId": "f8998137-e4f8-4226-e993-fb622c0f98e5"
      },
      "execution_count": 25,
      "outputs": [
        {
          "output_type": "stream",
          "name": "stderr",
          "text": [
            "/usr/local/lib/python3.7/dist-packages/sklearn/base.py:451: UserWarning: X does not have valid feature names, but SVC was fitted with feature names\n",
            "  \"X does not have valid feature names, but\"\n",
            "/usr/local/lib/python3.7/dist-packages/mlxtend/plotting/decision_regions.py:244: MatplotlibDeprecationWarning: Passing unsupported keyword arguments to axis() will raise a TypeError in 3.3.\n",
            "  ax.axis(xmin=xx.min(), xmax=xx.max(), y_min=yy.min(), y_max=yy.max())\n"
          ]
        },
        {
          "output_type": "display_data",
          "data": {
            "text/plain": [
              "<Figure size 432x288 with 1 Axes>"
            ],
            "image/png": "[encoded data removed]"
          },
          "metadata": {
            "needs_background": "light"
          }
        }
      ]
    },
    {
      "cell_type": "markdown",
      "source": [
        "## Fourth binarized model"
      ],
      "metadata": {
        "id": "yGfSYG2FXFgI"
      }
    },
    {
      "cell_type": "markdown",
      "source": [
        "Fourth SVM model and its accuracy"
      ],
      "metadata": {
        "id": "09JCIG7ZTEKt"
      }
    },
    {
      "cell_type": "code",
      "source": [
        "clf_4 = svm.SVC(probability=True)\n",
        "clf_4.fit(x_train, yb4)\n",
        "yb4_pred = clf_4.predict(x_test)\n",
        "yb4_pred_prop = clf_4.predict_proba(x_test)[:,1].reshape(-1,1)\n",
        "print(yb4_pred)\n",
        "print('\\nAccuracy Score:\\n')\n",
        "print(accuracy_score(ytb4, yb4_pred))"
      ],
      "metadata": {
        "id": "DJtDjQZxPhLt",
        "colab": {
          "base_uri": "https://localhost:8080/"
        },
        "outputId": "451d962d-61e9-47db-eb70-3bdc04a4323a"
      },
      "execution_count": 26,
      "outputs": [
        {
          "output_type": "stream",
          "name": "stdout",
          "text": [
            "[0 0 0 1 0 0 0 0 0 0 0 0 0 1 0 0 0 0 0 0 0 0 0 0 0 0 0 0 0 0 0 0 0 0 0 0 0\n",
            " 1 0 0 0 0 0 0 0 0 0 0 1 0 0 0 0 0 0 1 0 0 0 0 0 0 1 0 0 1 1 1 0 0 0 0 0 0\n",
            " 0 0 0 1 0 0]\n",
            "\n",
            "Accuracy Score:\n",
            "\n",
            "0.9875\n"
          ]
        }
      ]
    },
    {
      "cell_type": "markdown",
      "source": [
        "Accuracies and confusion matrix for the fourth model"
      ],
      "metadata": {
        "id": "ajQv33sbXm8G"
      }
    },
    {
      "cell_type": "code",
      "source": [
        "print('\\nClassification Report:\\n')\n",
        "print(classification_report(ytb4, yb4_pred))\n",
        "print('\\nConfusion Matrix:\\n')\n",
        "cm = confusion_matrix(ytb4, yb4_pred)\n",
        "print(cm)\n",
        "print('\\nAccuracy Score:\\n')\n",
        "print(accuracy_score(ytb4, yb4_pred))\n",
        "print('\\Confusion Matrix Display:\\n')\n",
        "print(ConfusionMatrixDisplay(cm).plot())"
      ],
      "metadata": {
        "colab": {
          "base_uri": "https://localhost:8080/",
          "height": 696
        },
        "id": "yChNn3lrXmic",
        "outputId": "5a39dc93-d75d-4f12-e467-15cae4931f31"
      },
      "execution_count": 27,
      "outputs": [
        {
          "output_type": "stream",
          "name": "stdout",
          "text": [
            "\n",
            "Classification Report:\n",
            "\n",
            "              precision    recall  f1-score   support\n",
            "\n",
            "           0       0.99      1.00      0.99        69\n",
            "           1       1.00      0.91      0.95        11\n",
            "\n",
            "    accuracy                           0.99        80\n",
            "   macro avg       0.99      0.95      0.97        80\n",
            "weighted avg       0.99      0.99      0.99        80\n",
            "\n",
            "\n",
            "Confusion Matrix:\n",
            "\n",
            "[[69  0]\n",
            " [ 1 10]]\n",
            "\n",
            "Accuracy Score:\n",
            "\n",
            "0.9875\n",
            "\\Confusion Matrix Display:\n",
            "\n",
            "<sklearn.metrics._plot.confusion_matrix.ConfusionMatrixDisplay object at 0x7f92ec520710>\n"
          ]
        },
        {
          "output_type": "display_data",
          "data": {
            "text/plain": [
              "<Figure size 432x288 with 2 Axes>"
            ],
            "image/png": "[encoded data removed]"
          },
          "metadata": {
            "needs_background": "light"
          }
        }
      ]
    },
    {
      "cell_type": "markdown",
      "source": [
        "Plot the decision boundaries for the fourth model"
      ],
      "metadata": {
        "id": "n0rQuQ5SYhI0"
      }
    },
    {
      "cell_type": "code",
      "source": [
        "plot_decision_regions(x_test.to_numpy(), yb4_pred, clf=clf_4, legend=2)\n",
        "\n",
        "plt.title('SVM Decision Boundaries')\n",
        "plt.xlabel('x_test')\n",
        "plt.ylabel('yb4_pred')\n",
        "plt.show()"
      ],
      "metadata": {
        "colab": {
          "base_uri": "https://localhost:8080/",
          "height": 385
        },
        "id": "xpMemZRZYg4v",
        "outputId": "b7ec54cd-3b7d-4457-a31f-b3846b1ec549"
      },
      "execution_count": 28,
      "outputs": [
        {
          "output_type": "stream",
          "name": "stderr",
          "text": [
            "/usr/local/lib/python3.7/dist-packages/sklearn/base.py:451: UserWarning: X does not have valid feature names, but SVC was fitted with feature names\n",
            "  \"X does not have valid feature names, but\"\n",
            "/usr/local/lib/python3.7/dist-packages/mlxtend/plotting/decision_regions.py:244: MatplotlibDeprecationWarning: Passing unsupported keyword arguments to axis() will raise a TypeError in 3.3.\n",
            "  ax.axis(xmin=xx.min(), xmax=xx.max(), y_min=yy.min(), y_max=yy.max())\n"
          ]
        },
        {
          "output_type": "display_data",
          "data": {
            "text/plain": [
              "<Figure size 432x288 with 1 Axes>"
            ],
            "image/png": "[encoded data removed]"
          },
          "metadata": {
            "needs_background": "light"
          }
        }
      ]
    },
    {
      "cell_type": "markdown",
      "source": [
        "## Final label of OvR"
      ],
      "metadata": {
        "id": "GfLD2HA-XzCf"
      }
    },
    {
      "cell_type": "markdown",
      "source": [
        "Stack stores all the probabilites for the 4 binarized models"
      ],
      "metadata": {
        "id": "FDic0NScTG7A"
      }
    },
    {
      "cell_type": "code",
      "source": [
        "yb_all = np.hstack((yb1_pred_prop, yb2_pred_prop, yb3_pred_prop, yb4_pred_prop))\n",
        "yb_all"
      ],
      "metadata": {
        "colab": {
          "base_uri": "https://localhost:8080/"
        },
        "id": "wLF9Aa9BQAm2",
        "outputId": "074299ae-59b4-486d-9146-43fee2fe4a55"
      },
      "execution_count": 29,
      "outputs": [
        {
          "output_type": "execute_result",
          "data": {
            "text/plain": [
              "array([[3.69725118e-02, 3.94925208e-03, 9.37352594e-01, 6.98618722e-03],\n",
              "       [9.30974309e-03, 4.35755139e-02, 9.03366906e-01, 3.18960011e-04],\n",
              "       [1.73253581e-02, 1.19461721e-03, 9.68153019e-01, 9.92942301e-04],\n",
              "       [1.44258725e-02, 4.99646111e-03, 2.96639862e-04, 9.99982510e-01],\n",
              "       [9.09514524e-01, 2.67745315e-05, 1.60073241e-01, 4.94492381e-03],\n",
              "       [9.92396646e-01, 4.90539698e-05, 5.41801704e-03, 2.12032329e-02],\n",
              "       [1.08947279e-03, 5.65409062e-02, 9.33138462e-01, 6.99040664e-05],\n",
              "       [9.89240685e-01, 4.38605615e-05, 1.52733946e-02, 1.16504899e-02],\n",
              "       [1.03332332e-03, 9.15401126e-01, 1.54386598e-02, 2.62426781e-03],\n",
              "       [1.06321110e-02, 5.05809071e-04, 9.68020074e-01, 1.89083564e-04],\n",
              "       [1.28154841e-03, 4.64234650e-02, 9.38916565e-01, 7.75029559e-05],\n",
              "       [1.96103496e-03, 6.70286198e-01, 4.25426929e-01, 3.36874971e-04],\n",
              "       [9.39360252e-01, 1.09425034e-04, 1.19680167e-01, 1.02636502e-02],\n",
              "       [9.58839691e-03, 4.01431698e-02, 3.17470823e-04, 9.83321553e-01],\n",
              "       [8.80126804e-01, 3.51073753e-05, 2.18285575e-01, 4.86351042e-03],\n",
              "       [7.32130455e-04, 8.58016641e-01, 1.26557850e-01, 4.03623167e-04],\n",
              "       [7.21316600e-03, 2.26128842e-02, 9.39735091e-01, 2.06034471e-04],\n",
              "       [9.84773104e-01, 5.01667474e-05, 1.66034076e-02, 1.22617925e-02],\n",
              "       [2.32229037e-03, 9.32217011e-01, 8.96310692e-03, 5.76851027e-03],\n",
              "       [6.31454467e-03, 2.39203705e-03, 9.69909364e-01, 1.63296428e-04],\n",
              "       [1.26328282e-03, 9.29684553e-01, 1.38657734e-02, 9.99763993e-03],\n",
              "       [9.06797678e-04, 9.26875033e-01, 2.28112847e-02, 2.03990382e-03],\n",
              "       [4.22060979e-02, 4.24543124e-04, 9.51181003e-01, 1.07081649e-03],\n",
              "       [3.86645931e-03, 2.10534243e-03, 9.76304451e-01, 1.49582353e-04],\n",
              "       [7.02055519e-03, 9.64948893e-04, 9.74238391e-01, 2.07167673e-04],\n",
              "       [4.40497768e-03, 8.70689763e-01, 7.85869566e-02, 1.71447377e-03],\n",
              "       [2.27876139e-03, 4.86299531e-03, 9.75523062e-01, 1.11989560e-04],\n",
              "       [9.33270610e-01, 8.40956754e-05, 1.32141687e-01, 8.84904883e-03],\n",
              "       [5.52524473e-03, 2.12786946e-01, 7.61921404e-01, 4.08662472e-04],\n",
              "       [9.91908390e-01, 2.71159416e-04, 1.43665367e-03, 2.81653535e-02],\n",
              "       [9.77874639e-01, 1.49810019e-04, 3.97897562e-02, 1.51634909e-02],\n",
              "       [9.91800875e-01, 4.52615686e-05, 7.38509738e-03, 1.73620218e-02],\n",
              "       [2.20521772e-01, 1.91925079e-04, 8.94248138e-01, 9.73849898e-04],\n",
              "       [9.84328598e-01, 4.39763658e-05, 2.01784948e-02, 1.16552960e-02],\n",
              "       [1.29949462e-03, 9.19012972e-01, 5.60872833e-02, 1.41093984e-02],\n",
              "       [9.94724415e-01, 3.25621143e-04, 8.08154516e-04, 3.27666763e-02],\n",
              "       [7.77065674e-04, 9.30883924e-01, 4.48481149e-02, 1.28769739e-03],\n",
              "       [1.02318256e-02, 1.85696250e-01, 1.57780242e-04, 9.08429803e-01],\n",
              "       [2.44809056e-03, 7.72714411e-01, 2.68923280e-01, 5.33955297e-04],\n",
              "       [7.92007793e-04, 9.32715259e-01, 4.39030437e-02, 1.43688075e-03],\n",
              "       [6.17208703e-03, 2.32905163e-01, 7.14369229e-01, 5.97244980e-04],\n",
              "       [9.86991434e-01, 2.68573963e-04, 1.83575665e-02, 2.13864823e-02],\n",
              "       [1.04769048e-03, 8.45809052e-01, 3.27601198e-01, 5.71764761e-03],\n",
              "       [1.50606294e-03, 1.02917234e-02, 9.71694242e-01, 8.43598676e-05],\n",
              "       [2.37825563e-03, 9.14724465e-01, 4.87553627e-02, 1.53132642e-03],\n",
              "       [9.92740726e-01, 3.00442525e-04, 8.04224323e-04, 2.93423278e-02],\n",
              "       [5.91838422e-03, 9.33178514e-01, 7.21629517e-03, 7.83992869e-03],\n",
              "       [9.99989634e-01, 2.90261383e-04, 6.72847861e-04, 3.13208722e-02],\n",
              "       [2.23720908e-02, 4.51335834e-04, 3.49884938e-04, 9.99999558e-01],\n",
              "       [2.85573208e-03, 9.25474237e-01, 3.80177072e-03, 1.42040684e-02],\n",
              "       [5.23153872e-02, 4.67830353e-04, 9.45250210e-01, 1.43867964e-03],\n",
              "       [9.96667412e-01, 9.75422912e-05, 2.96316416e-03, 1.94925226e-02],\n",
              "       [9.51867918e-04, 9.31113982e-01, 2.12564532e-02, 2.68466940e-03],\n",
              "       [9.31401970e-01, 2.25565432e-05, 1.12439749e-01, 5.34096406e-03],\n",
              "       [5.03697752e-04, 8.65189244e-01, 3.10720608e-01, 2.67737485e-04],\n",
              "       [8.96485404e-03, 2.54011865e-01, 1.79676268e-04, 8.59994611e-01],\n",
              "       [8.65547625e-04, 9.32779535e-01, 3.05261686e-02, 1.93535253e-03],\n",
              "       [7.46018035e-04, 9.32767766e-01, 6.17509415e-02, 1.24688066e-03],\n",
              "       [2.92343126e-02, 4.26091274e-03, 9.44610979e-01, 4.06479053e-04],\n",
              "       [9.36571698e-01, 2.55181090e-05, 8.56956823e-02, 6.40054201e-03],\n",
              "       [9.47257447e-01, 3.17738107e-05, 9.57621078e-02, 6.43355655e-03],\n",
              "       [1.24286443e-03, 9.28744663e-01, 3.76538012e-02, 1.18384590e-02],\n",
              "       [3.08711233e-02, 8.63980830e-04, 1.48280038e-04, 9.99998965e-01],\n",
              "       [2.17309983e-03, 5.56507003e-03, 9.75661675e-01, 1.16975183e-04],\n",
              "       [3.65220576e-03, 6.12320420e-01, 9.91018376e-04, 4.09951707e-01],\n",
              "       [6.84702302e-03, 4.22634536e-01, 2.47712132e-04, 6.94976188e-01],\n",
              "       [1.25181006e-02, 1.12970089e-02, 9.99067007e-04, 9.94684841e-01],\n",
              "       [8.86722744e-03, 6.76461446e-02, 1.11580800e-03, 9.74911124e-01],\n",
              "       [9.87591650e-01, 3.77425925e-05, 1.39666025e-02, 1.84213040e-02],\n",
              "       [7.92007793e-04, 9.32715259e-01, 4.39030437e-02, 1.43688075e-03],\n",
              "       [8.49972193e-04, 9.31216776e-01, 3.11694306e-02, 1.74581283e-03],\n",
              "       [1.38244755e-03, 9.24889863e-01, 2.70300054e-02, 1.73475351e-02],\n",
              "       [5.91838422e-03, 9.33178514e-01, 7.21629517e-03, 7.83992869e-03],\n",
              "       [8.49931112e-02, 1.55323579e-04, 9.21196512e-01, 9.90501350e-04],\n",
              "       [2.79941026e-02, 5.46282508e-03, 9.41300936e-01, 7.29995718e-03],\n",
              "       [1.22843004e-03, 1.61572079e-02, 9.68353128e-01, 7.60968229e-05],\n",
              "       [2.30591919e-03, 8.40294752e-01, 2.87907623e-03, 9.50898053e-02],\n",
              "       [8.58040600e-03, 6.27766446e-02, 3.42836137e-04, 9.72185051e-01],\n",
              "       [9.28548029e-01, 4.25500277e-05, 1.12763387e-01, 6.72473625e-03],\n",
              "       [6.99035527e-03, 8.51312593e-01, 7.16453964e-04, 1.11988404e-01]])"
            ]
          },
          "metadata": {},
          "execution_count": 29
        }
      ]
    },
    {
      "cell_type": "markdown",
      "source": [
        "argmax to aggregate the right class from the stack"
      ],
      "metadata": {
        "id": "EXP4JplhTPEF"
      }
    },
    {
      "cell_type": "code",
      "source": [
        "# final_label = mlb.classes_[np.argmax(yb_all, axis=1)]\n",
        "final_label = np.argmax(yb_all, axis=1)\n",
        "final_label = final_label.reshape((-1,1))\n",
        "final_label"
      ],
      "metadata": {
        "colab": {
          "base_uri": "https://localhost:8080/"
        },
        "id": "gObqH5GOQZ-t",
        "outputId": "5bdfd9b7-55f8-4467-9620-0e068ef2b125"
      },
      "execution_count": 30,
      "outputs": [
        {
          "output_type": "execute_result",
          "data": {
            "text/plain": [
              "array([[2],\n",
              "       [2],\n",
              "       [2],\n",
              "       [3],\n",
              "       [0],\n",
              "       [0],\n",
              "       [2],\n",
              "       [0],\n",
              "       [1],\n",
              "       [2],\n",
              "       [2],\n",
              "       [1],\n",
              "       [0],\n",
              "       [3],\n",
              "       [0],\n",
              "       [1],\n",
              "       [2],\n",
              "       [0],\n",
              "       [1],\n",
              "       [2],\n",
              "       [1],\n",
              "       [1],\n",
              "       [2],\n",
              "       [2],\n",
              "       [2],\n",
              "       [1],\n",
              "       [2],\n",
              "       [0],\n",
              "       [2],\n",
              "       [0],\n",
              "       [0],\n",
              "       [0],\n",
              "       [2],\n",
              "       [0],\n",
              "       [1],\n",
              "       [0],\n",
              "       [1],\n",
              "       [3],\n",
              "       [1],\n",
              "       [1],\n",
              "       [2],\n",
              "       [0],\n",
              "       [1],\n",
              "       [2],\n",
              "       [1],\n",
              "       [0],\n",
              "       [1],\n",
              "       [0],\n",
              "       [3],\n",
              "       [1],\n",
              "       [2],\n",
              "       [0],\n",
              "       [1],\n",
              "       [0],\n",
              "       [1],\n",
              "       [3],\n",
              "       [1],\n",
              "       [1],\n",
              "       [2],\n",
              "       [0],\n",
              "       [0],\n",
              "       [1],\n",
              "       [3],\n",
              "       [2],\n",
              "       [1],\n",
              "       [3],\n",
              "       [3],\n",
              "       [3],\n",
              "       [0],\n",
              "       [1],\n",
              "       [1],\n",
              "       [1],\n",
              "       [1],\n",
              "       [2],\n",
              "       [2],\n",
              "       [2],\n",
              "       [1],\n",
              "       [3],\n",
              "       [0],\n",
              "       [1]])"
            ]
          },
          "metadata": {},
          "execution_count": 30
        }
      ]
    },
    {
      "cell_type": "markdown",
      "source": [
        "## Accuracies and confusion matrix of the final label"
      ],
      "metadata": {
        "id": "QSoH31YMvIhC"
      }
    },
    {
      "cell_type": "code",
      "source": [
        "print('\\nClassification Report:\\n')\n",
        "print(classification_report(y_test_encoded, final_label))\n",
        "print('\\nConfusion Matrix:\\n')\n",
        "cm = confusion_matrix(y_test_encoded, final_label)\n",
        "print(cm)\n",
        "print('\\nAccuracy Score:\\n')\n",
        "print(accuracy_score(y_test_encoded, final_label))\n",
        "print('\\Confusion Matrix Display:\\n')\n",
        "print(ConfusionMatrixDisplay(cm).plot())"
      ],
      "metadata": {
        "colab": {
          "base_uri": "https://localhost:8080/",
          "height": 765
        },
        "id": "56G7Hw6Zvf6P",
        "outputId": "32c3a7d0-a0fa-4016-b5db-52da72725253"
      },
      "execution_count": 31,
      "outputs": [
        {
          "output_type": "stream",
          "name": "stdout",
          "text": [
            "\n",
            "Classification Report:\n",
            "\n",
            "              precision    recall  f1-score   support\n",
            "\n",
            "           0       1.00      1.00      1.00        21\n",
            "           1       0.96      1.00      0.98        26\n",
            "           2       1.00      1.00      1.00        22\n",
            "           3       1.00      0.91      0.95        11\n",
            "\n",
            "    accuracy                           0.99        80\n",
            "   macro avg       0.99      0.98      0.98        80\n",
            "weighted avg       0.99      0.99      0.99        80\n",
            "\n",
            "\n",
            "Confusion Matrix:\n",
            "\n",
            "[[21  0  0  0]\n",
            " [ 0 26  0  0]\n",
            " [ 0  0 22  0]\n",
            " [ 0  1  0 10]]\n",
            "\n",
            "Accuracy Score:\n",
            "\n",
            "0.9875\n",
            "\\Confusion Matrix Display:\n",
            "\n",
            "<sklearn.metrics._plot.confusion_matrix.ConfusionMatrixDisplay object at 0x7f92ec665050>\n"
          ]
        },
        {
          "output_type": "display_data",
          "data": {
            "text/plain": [
              "<Figure size 432x288 with 2 Axes>"
            ],
            "image/png": "[encoded data removed]"
          },
          "metadata": {
            "needs_background": "light"
          }
        }
      ]
    },
    {
      "cell_type": "markdown",
      "source": [
        "## Plotting correct and wrong prediction points"
      ],
      "metadata": {
        "id": "wTXzz6Bn1PfD"
      }
    },
    {
      "cell_type": "markdown",
      "source": [
        "Filtering the wrong prediction points"
      ],
      "metadata": {
        "id": "NyDrb6ym2y7j"
      }
    },
    {
      "cell_type": "code",
      "source": [
        "false_prediction = y_test_encoded.reshape(-1,1) != final_label\n",
        "x_test_wrong = x_test[false_prediction]\n",
        "x_test_wrong\n"
      ],
      "metadata": {
        "colab": {
          "base_uri": "https://localhost:8080/",
          "height": 81
        },
        "id": "XJoRKtpI1P1K",
        "outputId": "08b68e97-17d1-4944-b2e8-9b0621fb92b0"
      },
      "execution_count": 32,
      "outputs": [
        {
          "output_type": "execute_result",
          "data": {
            "text/plain": [
              "     LPR  PEG\n",
              "64  0.26  0.2"
            ],
            "text/html": [
              "\n",
              "  <div id=\"df-5e384ff4-5afc-435a-9390-6d5531d77757\">\n",
              "    <div class=\"colab-df-container\">\n",
              "      <div>\n",
              "<style scoped>\n",
              "    .dataframe tbody tr th:only-of-type {\n",
              "        vertical-align: middle;\n",
              "    }\n",
              "\n",
              "    .dataframe tbody tr th {\n",
              "        vertical-align: top;\n",
              "    }\n",
              "\n",
              "    .dataframe thead th {\n",
              "        text-align: right;\n",
              "    }\n",
              "</style>\n",
              "<table border=\"1\" class=\"dataframe\">\n",
              "  <thead>\n",
              "    <tr style=\"text-align: right;\">\n",
              "      <th></th>\n",
              "      <th>LPR</th>\n",
              "      <th>PEG</th>\n",
              "    </tr>\n",
              "  </thead>\n",
              "  <tbody>\n",
              "    <tr>\n",
              "      <th>64</th>\n",
              "      <td>0.26</td>\n",
              "      <td>0.2</td>\n",
              "    </tr>\n",
              "  </tbody>\n",
              "</table>\n",
              "</div>\n",
              "      <button class=\"colab-df-convert\" onclick=\"convertToInteractive('df-5e384ff4-5afc-435a-9390-6d5531d77757')\"\n",
              "              title=\"Convert this dataframe to an interactive table.\"\n",
              "              style=\"display:none;\">\n",
              "        \n",
              "  <svg xmlns=\"http://www.w3.org/2000/svg\" height=\"24px\"viewBox=\"0 0 24 24\"\n",
              "       width=\"24px\">\n",
              "    <path d=\"M0 0h24v24H0V0z\" fill=\"none\"/>\n",
              "    <path d=\"M18.56 5.44l.94 2.06.94-2.06 2.06-.94-2.06-.94-.94-2.06-.94 2.06-2.06.94zm-11 1L8.5 8.5l.94-2.06 2.06-.94-2.06-.94L8.5 2.5l-.94 2.06-2.06.94zm10 10l.94 2.06.94-2.06 2.06-.94-2.06-.94-.94-2.06-.94 2.06-2.06.94z\"/><path d=\"M17.41 7.96l-1.37-1.37c-.4-.4-.92-.59-1.43-.59-.52 0-1.04.2-1.43.59L10.3 9.45l-7.72 7.72c-.78.78-.78 2.05 0 2.83L4 21.41c.39.39.9.59 1.41.59.51 0 1.02-.2 1.41-.59l7.78-7.78 2.81-2.81c.8-.78.8-2.07 0-2.86zM5.41 20L4 18.59l7.72-7.72 1.47 1.35L5.41 20z\"/>\n",
              "  </svg>\n",
              "      </button>\n",
              "      \n",
              "  <style>\n",
              "    .colab-df-container {\n",
              "      display:flex;\n",
              "      flex-wrap:wrap;\n",
              "      gap: 12px;\n",
              "    }\n",
              "\n",
              "    .colab-df-convert {\n",
              "      background-color: #E8F0FE;\n",
              "      border: none;\n",
              "      border-radius: 50%;\n",
              "      cursor: pointer;\n",
              "      display: none;\n",
              "      fill: #1967D2;\n",
              "      height: 32px;\n",
              "      padding: 0 0 0 0;\n",
              "      width: 32px;\n",
              "    }\n",
              "\n",
              "    .colab-df-convert:hover {\n",
              "      background-color: #E2EBFA;\n",
              "      box-shadow: 0px 1px 2px rgba(60, 64, 67, 0.3), 0px 1px 3px 1px rgba(60, 64, 67, 0.15);\n",
              "      fill: #174EA6;\n",
              "    }\n",
              "\n",
              "    [theme=dark] .colab-df-convert {\n",
              "      background-color: #3B4455;\n",
              "      fill: #D2E3FC;\n",
              "    }\n",
              "\n",
              "    [theme=dark] .colab-df-convert:hover {\n",
              "      background-color: #434B5C;\n",
              "      box-shadow: 0px 1px 3px 1px rgba(0, 0, 0, 0.15);\n",
              "      filter: drop-shadow(0px 1px 2px rgba(0, 0, 0, 0.3));\n",
              "      fill: #FFFFFF;\n",
              "    }\n",
              "  </style>\n",
              "\n",
              "      <script>\n",
              "        const buttonEl =\n",
              "          document.querySelector('#df-5e384ff4-5afc-435a-9390-6d5531d77757 button.colab-df-convert');\n",
              "        buttonEl.style.display =\n",
              "          google.colab.kernel.accessAllowed ? 'block' : 'none';\n",
              "\n",
              "        async function convertToInteractive(key) {\n",
              "          const element = document.querySelector('#df-5e384ff4-5afc-435a-9390-6d5531d77757');\n",
              "          const dataTable =\n",
              "            await google.colab.kernel.invokeFunction('convertToInteractive',\n",
              "                                                     [key], {});\n",
              "          if (!dataTable) return;\n",
              "\n",
              "          const docLinkHtml = 'Like what you see? Visit the ' +\n",
              "            '<a target=\"_blank\" href=https://colab.research.google.com/notebooks/data_table.ipynb>data table notebook</a>'\n",
              "            + ' to learn more about interactive tables.';\n",
              "          element.innerHTML = '';\n",
              "          dataTable['output_type'] = 'display_data';\n",
              "          await google.colab.output.renderOutput(dataTable, element);\n",
              "          const docLink = document.createElement('div');\n",
              "          docLink.innerHTML = docLinkHtml;\n",
              "          element.appendChild(docLink);\n",
              "        }\n",
              "      </script>\n",
              "    </div>\n",
              "  </div>\n",
              "  "
            ]
          },
          "metadata": {},
          "execution_count": 32
        }
      ]
    },
    {
      "cell_type": "markdown",
      "source": [
        "Plot all the test data and the wrong prediction with another color"
      ],
      "metadata": {
        "id": "KUTdUJuq2xp7"
      }
    },
    {
      "cell_type": "code",
      "source": [
        "plt.scatter(x_test.iloc[:,0],x_test.iloc[:,1],edgecolors='k',alpha=1)\n",
        "plt.scatter(x_test_wrong.iloc[:,0],x_test_wrong.iloc[:,1],edgecolors='k',alpha=1)\n",
        "plt.title('Data')\n",
        "plt.xlabel('LPR')\n",
        "plt.ylabel('PEG')\n",
        "plt.show()"
      ],
      "metadata": {
        "colab": {
          "base_uri": "https://localhost:8080/",
          "height": 295
        },
        "id": "N9p0Gf7J2NMc",
        "outputId": "b42c0f4a-e2af-4c77-e698-ad18adad4130"
      },
      "execution_count": 33,
      "outputs": [
        {
          "output_type": "display_data",
          "data": {
            "text/plain": [
              "<Figure size 432x288 with 1 Axes>"
            ],
            "image/png": "[encoded data removed]"
          },
          "metadata": {
            "needs_background": "light"
          }
        }
      ]
    },
    {
      "cell_type": "markdown",
      "source": [
        "# One v One"
      ],
      "metadata": {
        "id": "UAC7OLGbrpF4"
      }
    },
    {
      "cell_type": "markdown",
      "source": [
        "##Preparing the data frames for the models"
      ],
      "metadata": {
        "id": "tdhZfynlZB3m"
      }
    },
    {
      "cell_type": "markdown",
      "source": [
        "Read the files"
      ],
      "metadata": {
        "id": "jGljvh4YXqM8"
      }
    },
    {
      "cell_type": "code",
      "source": [
        "df_train=pd.read_csv(\"DUMD_train.csv\")\n",
        "df_test=pd.read_csv(\"DUMD_test.csv\")\n",
        "df_test"
      ],
      "metadata": {
        "colab": {
          "base_uri": "https://localhost:8080/",
          "height": 424
        },
        "id": "ayTAHGupCwKs",
        "outputId": "0fcfd436-5117-4595-9293-76dc967fe616"
      },
      "execution_count": 34,
      "outputs": [
        {
          "output_type": "execute_result",
          "data": {
            "text/plain": [
              "      STG    SCG    STR   LPR   PEG       UNS\n",
              "0   0.420  0.290  0.140  0.03  0.68    Medium\n",
              "1   0.100  0.100  0.520  0.78  0.34    Medium\n",
              "2   0.510  0.255  0.550  0.17  0.64    Medium\n",
              "3   0.250  0.540  0.310  0.25  0.08  Very Low\n",
              "4   0.258  0.250  0.295  0.33  0.77      High\n",
              "..    ...    ...    ...   ...   ...       ...\n",
              "75  0.520  0.440  0.820  0.30  0.52    Medium\n",
              "76  0.288  0.310  0.790  0.23  0.24       Low\n",
              "77  0.260  0.260  0.310  0.26  0.13  Very Low\n",
              "78  0.990  0.490  0.070  0.70  0.69      High\n",
              "79  0.080  0.580  0.600  0.64  0.10       Low\n",
              "\n",
              "[80 rows x 6 columns]"
            ],
            "text/html": [
              "\n",
              "  <div id=\"df-cde6020d-43cf-45d4-9ebd-e747f21dc1ed\">\n",
              "    <div class=\"colab-df-container\">\n",
              "      <div>\n",
              "<style scoped>\n",
              "    .dataframe tbody tr th:only-of-type {\n",
              "        vertical-align: middle;\n",
              "    }\n",
              "\n",
              "    .dataframe tbody tr th {\n",
              "        vertical-align: top;\n",
              "    }\n",
              "\n",
              "    .dataframe thead th {\n",
              "        text-align: right;\n",
              "    }\n",
              "</style>\n",
              "<table border=\"1\" class=\"dataframe\">\n",
              "  <thead>\n",
              "    <tr style=\"text-align: right;\">\n",
              "      <th></th>\n",
              "      <th>STG</th>\n",
              "      <th>SCG</th>\n",
              "      <th>STR</th>\n",
              "      <th>LPR</th>\n",
              "      <th>PEG</th>\n",
              "      <th>UNS</th>\n",
              "    </tr>\n",
              "  </thead>\n",
              "  <tbody>\n",
              "    <tr>\n",
              "      <th>0</th>\n",
              "      <td>0.420</td>\n",
              "      <td>0.290</td>\n",
              "      <td>0.140</td>\n",
              "      <td>0.03</td>\n",
              "      <td>0.68</td>\n",
              "      <td>Medium</td>\n",
              "    </tr>\n",
              "    <tr>\n",
              "      <th>1</th>\n",
              "      <td>0.100</td>\n",
              "      <td>0.100</td>\n",
              "      <td>0.520</td>\n",
              "      <td>0.78</td>\n",
              "      <td>0.34</td>\n",
              "      <td>Medium</td>\n",
              "    </tr>\n",
              "    <tr>\n",
              "      <th>2</th>\n",
              "      <td>0.510</td>\n",
              "      <td>0.255</td>\n",
              "      <td>0.550</td>\n",
              "      <td>0.17</td>\n",
              "      <td>0.64</td>\n",
              "      <td>Medium</td>\n",
              "    </tr>\n",
              "    <tr>\n",
              "      <th>3</th>\n",
              "      <td>0.250</td>\n",
              "      <td>0.540</td>\n",
              "      <td>0.310</td>\n",
              "      <td>0.25</td>\n",
              "      <td>0.08</td>\n",
              "      <td>Very Low</td>\n",
              "    </tr>\n",
              "    <tr>\n",
              "      <th>4</th>\n",
              "      <td>0.258</td>\n",
              "      <td>0.250</td>\n",
              "      <td>0.295</td>\n",
              "      <td>0.33</td>\n",
              "      <td>0.77</td>\n",
              "      <td>High</td>\n",
              "    </tr>\n",
              "    <tr>\n",
              "      <th>...</th>\n",
              "      <td>...</td>\n",
              "      <td>...</td>\n",
              "      <td>...</td>\n",
              "      <td>...</td>\n",
              "      <td>...</td>\n",
              "      <td>...</td>\n",
              "    </tr>\n",
              "    <tr>\n",
              "      <th>75</th>\n",
              "      <td>0.520</td>\n",
              "      <td>0.440</td>\n",
              "      <td>0.820</td>\n",
              "      <td>0.30</td>\n",
              "      <td>0.52</td>\n",
              "      <td>Medium</td>\n",
              "    </tr>\n",
              "    <tr>\n",
              "      <th>76</th>\n",
              "      <td>0.288</td>\n",
              "      <td>0.310</td>\n",
              "      <td>0.790</td>\n",
              "      <td>0.23</td>\n",
              "      <td>0.24</td>\n",
              "      <td>Low</td>\n",
              "    </tr>\n",
              "    <tr>\n",
              "      <th>77</th>\n",
              "      <td>0.260</td>\n",
              "      <td>0.260</td>\n",
              "      <td>0.310</td>\n",
              "      <td>0.26</td>\n",
              "      <td>0.13</td>\n",
              "      <td>Very Low</td>\n",
              "    </tr>\n",
              "    <tr>\n",
              "      <th>78</th>\n",
              "      <td>0.990</td>\n",
              "      <td>0.490</td>\n",
              "      <td>0.070</td>\n",
              "      <td>0.70</td>\n",
              "      <td>0.69</td>\n",
              "      <td>High</td>\n",
              "    </tr>\n",
              "    <tr>\n",
              "      <th>79</th>\n",
              "      <td>0.080</td>\n",
              "      <td>0.580</td>\n",
              "      <td>0.600</td>\n",
              "      <td>0.64</td>\n",
              "      <td>0.10</td>\n",
              "      <td>Low</td>\n",
              "    </tr>\n",
              "  </tbody>\n",
              "</table>\n",
              "<p>80 rows × 6 columns</p>\n",
              "</div>\n",
              "      <button class=\"colab-df-convert\" onclick=\"convertToInteractive('df-cde6020d-43cf-45d4-9ebd-e747f21dc1ed')\"\n",
              "              title=\"Convert this dataframe to an interactive table.\"\n",
              "              style=\"display:none;\">\n",
              "        \n",
              "  <svg xmlns=\"http://www.w3.org/2000/svg\" height=\"24px\"viewBox=\"0 0 24 24\"\n",
              "       width=\"24px\">\n",
              "    <path d=\"M0 0h24v24H0V0z\" fill=\"none\"/>\n",
              "    <path d=\"M18.56 5.44l.94 2.06.94-2.06 2.06-.94-2.06-.94-.94-2.06-.94 2.06-2.06.94zm-11 1L8.5 8.5l.94-2.06 2.06-.94-2.06-.94L8.5 2.5l-.94 2.06-2.06.94zm10 10l.94 2.06.94-2.06 2.06-.94-2.06-.94-.94-2.06-.94 2.06-2.06.94z\"/><path d=\"M17.41 7.96l-1.37-1.37c-.4-.4-.92-.59-1.43-.59-.52 0-1.04.2-1.43.59L10.3 9.45l-7.72 7.72c-.78.78-.78 2.05 0 2.83L4 21.41c.39.39.9.59 1.41.59.51 0 1.02-.2 1.41-.59l7.78-7.78 2.81-2.81c.8-.78.8-2.07 0-2.86zM5.41 20L4 18.59l7.72-7.72 1.47 1.35L5.41 20z\"/>\n",
              "  </svg>\n",
              "      </button>\n",
              "      \n",
              "  <style>\n",
              "    .colab-df-container {\n",
              "      display:flex;\n",
              "      flex-wrap:wrap;\n",
              "      gap: 12px;\n",
              "    }\n",
              "\n",
              "    .colab-df-convert {\n",
              "      background-color: #E8F0FE;\n",
              "      border: none;\n",
              "      border-radius: 50%;\n",
              "      cursor: pointer;\n",
              "      display: none;\n",
              "      fill: #1967D2;\n",
              "      height: 32px;\n",
              "      padding: 0 0 0 0;\n",
              "      width: 32px;\n",
              "    }\n",
              "\n",
              "    .colab-df-convert:hover {\n",
              "      background-color: #E2EBFA;\n",
              "      box-shadow: 0px 1px 2px rgba(60, 64, 67, 0.3), 0px 1px 3px 1px rgba(60, 64, 67, 0.15);\n",
              "      fill: #174EA6;\n",
              "    }\n",
              "\n",
              "    [theme=dark] .colab-df-convert {\n",
              "      background-color: #3B4455;\n",
              "      fill: #D2E3FC;\n",
              "    }\n",
              "\n",
              "    [theme=dark] .colab-df-convert:hover {\n",
              "      background-color: #434B5C;\n",
              "      box-shadow: 0px 1px 3px 1px rgba(0, 0, 0, 0.15);\n",
              "      filter: drop-shadow(0px 1px 2px rgba(0, 0, 0, 0.3));\n",
              "      fill: #FFFFFF;\n",
              "    }\n",
              "  </style>\n",
              "\n",
              "      <script>\n",
              "        const buttonEl =\n",
              "          document.querySelector('#df-cde6020d-43cf-45d4-9ebd-e747f21dc1ed button.colab-df-convert');\n",
              "        buttonEl.style.display =\n",
              "          google.colab.kernel.accessAllowed ? 'block' : 'none';\n",
              "\n",
              "        async function convertToInteractive(key) {\n",
              "          const element = document.querySelector('#df-cde6020d-43cf-45d4-9ebd-e747f21dc1ed');\n",
              "          const dataTable =\n",
              "            await google.colab.kernel.invokeFunction('convertToInteractive',\n",
              "                                                     [key], {});\n",
              "          if (!dataTable) return;\n",
              "\n",
              "          const docLinkHtml = 'Like what you see? Visit the ' +\n",
              "            '<a target=\"_blank\" href=https://colab.research.google.com/notebooks/data_table.ipynb>data table notebook</a>'\n",
              "            + ' to learn more about interactive tables.';\n",
              "          element.innerHTML = '';\n",
              "          dataTable['output_type'] = 'display_data';\n",
              "          await google.colab.output.renderOutput(dataTable, element);\n",
              "          const docLink = document.createElement('div');\n",
              "          docLink.innerHTML = docLinkHtml;\n",
              "          element.appendChild(docLink);\n",
              "        }\n",
              "      </script>\n",
              "    </div>\n",
              "  </div>\n",
              "  "
            ]
          },
          "metadata": {},
          "execution_count": 34
        }
      ]
    },
    {
      "cell_type": "markdown",
      "source": [
        "Label encoder for train and test"
      ],
      "metadata": {
        "id": "yea4kcmKXsI0"
      }
    },
    {
      "cell_type": "code",
      "source": [
        "labelencoder_y_train=LabelEncoder()\n",
        "labelencoder_y_test=LabelEncoder()\n",
        "df_train['UNS'] = labelencoder_y_train.fit_transform(df_train['UNS'])\n",
        "df_test['UNS'] =labelencoder_y_test.fit_transform(df_test['UNS'])\n",
        "df_train['UNS']"
      ],
      "metadata": {
        "id": "5Nn-Qbd2rtiA",
        "colab": {
          "base_uri": "https://localhost:8080/"
        },
        "outputId": "64547c8b-39b2-4223-fd70-c8335b6ecfd4"
      },
      "execution_count": 35,
      "outputs": [
        {
          "output_type": "execute_result",
          "data": {
            "text/plain": [
              "0      3\n",
              "1      0\n",
              "2      2\n",
              "3      1\n",
              "4      2\n",
              "      ..\n",
              "318    0\n",
              "319    0\n",
              "320    1\n",
              "321    2\n",
              "322    2\n",
              "Name: UNS, Length: 323, dtype: int64"
            ]
          },
          "metadata": {},
          "execution_count": 35
        }
      ]
    },
    {
      "cell_type": "markdown",
      "source": [
        "Seprate each two classes into data frames"
      ],
      "metadata": {
        "id": "9WJ-lphYXxDc"
      }
    },
    {
      "cell_type": "code",
      "source": [
        "df1_2 = df_train.loc[(df_train['UNS'] == 0) | (df_train['UNS'] == 1)]\n",
        "df1_3 = df_train.loc[(df_train['UNS'] == 0) | (df_train['UNS'] == 2)]\n",
        "df1_4 = df_train.loc[(df_train['UNS'] == 0) | (df_train['UNS'] == 3)]\n",
        "df2_3 = df_train.loc[(df_train['UNS'] == 1) | (df_train['UNS'] == 2)]\n",
        "df2_4 = df_train.loc[(df_train['UNS'] == 1) | (df_train['UNS'] == 3)]\n",
        "df3_4 = df_train.loc[(df_train['UNS'] == 2) | (df_train['UNS'] == 3)]\n",
        "\n",
        "dft1_2 = df_test.loc[(df_test['UNS'] == 0) | (df_test['UNS'] == 1)]\n",
        "dft1_3 = df_test.loc[(df_test['UNS'] == 0) | (df_test['UNS'] == 2)]\n",
        "dft1_4 = df_test.loc[(df_test['UNS'] == 0) | (df_test['UNS'] == 3)]\n",
        "dft2_3 = df_test.loc[(df_test['UNS'] == 1) | (df_test['UNS'] == 2)]\n",
        "dft2_4 = df_test.loc[(df_test['UNS'] == 1) | (df_test['UNS'] == 3)]\n",
        "dft3_4 = df_test.loc[(df_test['UNS'] == 2) | (df_test['UNS'] == 3)]\n",
        "\n",
        "df1_2"
      ],
      "metadata": {
        "id": "hL9FarFBG_ku",
        "colab": {
          "base_uri": "https://localhost:8080/",
          "height": 424
        },
        "outputId": "f4c3b5f7-6224-417d-dbca-ec635fa94bfd"
      },
      "execution_count": 36,
      "outputs": [
        {
          "output_type": "execute_result",
          "data": {
            "text/plain": [
              "      STG   SCG   STR   LPR   PEG  UNS\n",
              "1    0.08  0.08  0.10  0.24  0.90    0\n",
              "3    0.08  0.08  0.08  0.98  0.24    1\n",
              "6    0.20  0.14  0.35  0.72  0.25    1\n",
              "7    0.00  0.00  0.50  0.20  0.85    0\n",
              "8    0.18  0.18  0.55  0.30  0.81    0\n",
              "..    ...   ...   ...   ...   ...  ...\n",
              "316  0.64  0.59  0.12  0.58  0.24    1\n",
              "317  0.68  0.61  0.34  0.31  0.23    1\n",
              "318  0.90  0.78  0.62  0.32  0.89    0\n",
              "319  0.85  0.82  0.66  0.83  0.83    0\n",
              "320  0.56  0.60  0.77  0.13  0.32    1\n",
              "\n",
              "[184 rows x 6 columns]"
            ],
            "text/html": [
              "\n",
              "  <div id=\"df-4efdf8e6-9001-47d8-88f6-e1042132d4fe\">\n",
              "    <div class=\"colab-df-container\">\n",
              "      <div>\n",
              "<style scoped>\n",
              "    .dataframe tbody tr th:only-of-type {\n",
              "        vertical-align: middle;\n",
              "    }\n",
              "\n",
              "    .dataframe tbody tr th {\n",
              "        vertical-align: top;\n",
              "    }\n",
              "\n",
              "    .dataframe thead th {\n",
              "        text-align: right;\n",
              "    }\n",
              "</style>\n",
              "<table border=\"1\" class=\"dataframe\">\n",
              "  <thead>\n",
              "    <tr style=\"text-align: right;\">\n",
              "      <th></th>\n",
              "      <th>STG</th>\n",
              "      <th>SCG</th>\n",
              "      <th>STR</th>\n",
              "      <th>LPR</th>\n",
              "      <th>PEG</th>\n",
              "      <th>UNS</th>\n",
              "    </tr>\n",
              "  </thead>\n",
              "  <tbody>\n",
              "    <tr>\n",
              "      <th>1</th>\n",
              "      <td>0.08</td>\n",
              "      <td>0.08</td>\n",
              "      <td>0.10</td>\n",
              "      <td>0.24</td>\n",
              "      <td>0.90</td>\n",
              "      <td>0</td>\n",
              "    </tr>\n",
              "    <tr>\n",
              "      <th>3</th>\n",
              "      <td>0.08</td>\n",
              "      <td>0.08</td>\n",
              "      <td>0.08</td>\n",
              "      <td>0.98</td>\n",
              "      <td>0.24</td>\n",
              "      <td>1</td>\n",
              "    </tr>\n",
              "    <tr>\n",
              "      <th>6</th>\n",
              "      <td>0.20</td>\n",
              "      <td>0.14</td>\n",
              "      <td>0.35</td>\n",
              "      <td>0.72</td>\n",
              "      <td>0.25</td>\n",
              "      <td>1</td>\n",
              "    </tr>\n",
              "    <tr>\n",
              "      <th>7</th>\n",
              "      <td>0.00</td>\n",
              "      <td>0.00</td>\n",
              "      <td>0.50</td>\n",
              "      <td>0.20</td>\n",
              "      <td>0.85</td>\n",
              "      <td>0</td>\n",
              "    </tr>\n",
              "    <tr>\n",
              "      <th>8</th>\n",
              "      <td>0.18</td>\n",
              "      <td>0.18</td>\n",
              "      <td>0.55</td>\n",
              "      <td>0.30</td>\n",
              "      <td>0.81</td>\n",
              "      <td>0</td>\n",
              "    </tr>\n",
              "    <tr>\n",
              "      <th>...</th>\n",
              "      <td>...</td>\n",
              "      <td>...</td>\n",
              "      <td>...</td>\n",
              "      <td>...</td>\n",
              "      <td>...</td>\n",
              "      <td>...</td>\n",
              "    </tr>\n",
              "    <tr>\n",
              "      <th>316</th>\n",
              "      <td>0.64</td>\n",
              "      <td>0.59</td>\n",
              "      <td>0.12</td>\n",
              "      <td>0.58</td>\n",
              "      <td>0.24</td>\n",
              "      <td>1</td>\n",
              "    </tr>\n",
              "    <tr>\n",
              "      <th>317</th>\n",
              "      <td>0.68</td>\n",
              "      <td>0.61</td>\n",
              "      <td>0.34</td>\n",
              "      <td>0.31</td>\n",
              "      <td>0.23</td>\n",
              "      <td>1</td>\n",
              "    </tr>\n",
              "    <tr>\n",
              "      <th>318</th>\n",
              "      <td>0.90</td>\n",
              "      <td>0.78</td>\n",
              "      <td>0.62</td>\n",
              "      <td>0.32</td>\n",
              "      <td>0.89</td>\n",
              "      <td>0</td>\n",
              "    </tr>\n",
              "    <tr>\n",
              "      <th>319</th>\n",
              "      <td>0.85</td>\n",
              "      <td>0.82</td>\n",
              "      <td>0.66</td>\n",
              "      <td>0.83</td>\n",
              "      <td>0.83</td>\n",
              "      <td>0</td>\n",
              "    </tr>\n",
              "    <tr>\n",
              "      <th>320</th>\n",
              "      <td>0.56</td>\n",
              "      <td>0.60</td>\n",
              "      <td>0.77</td>\n",
              "      <td>0.13</td>\n",
              "      <td>0.32</td>\n",
              "      <td>1</td>\n",
              "    </tr>\n",
              "  </tbody>\n",
              "</table>\n",
              "<p>184 rows × 6 columns</p>\n",
              "</div>\n",
              "      <button class=\"colab-df-convert\" onclick=\"convertToInteractive('df-4efdf8e6-9001-47d8-88f6-e1042132d4fe')\"\n",
              "              title=\"Convert this dataframe to an interactive table.\"\n",
              "              style=\"display:none;\">\n",
              "        \n",
              "  <svg xmlns=\"http://www.w3.org/2000/svg\" height=\"24px\"viewBox=\"0 0 24 24\"\n",
              "       width=\"24px\">\n",
              "    <path d=\"M0 0h24v24H0V0z\" fill=\"none\"/>\n",
              "    <path d=\"M18.56 5.44l.94 2.06.94-2.06 2.06-.94-2.06-.94-.94-2.06-.94 2.06-2.06.94zm-11 1L8.5 8.5l.94-2.06 2.06-.94-2.06-.94L8.5 2.5l-.94 2.06-2.06.94zm10 10l.94 2.06.94-2.06 2.06-.94-2.06-.94-.94-2.06-.94 2.06-2.06.94z\"/><path d=\"M17.41 7.96l-1.37-1.37c-.4-.4-.92-.59-1.43-.59-.52 0-1.04.2-1.43.59L10.3 9.45l-7.72 7.72c-.78.78-.78 2.05 0 2.83L4 21.41c.39.39.9.59 1.41.59.51 0 1.02-.2 1.41-.59l7.78-7.78 2.81-2.81c.8-.78.8-2.07 0-2.86zM5.41 20L4 18.59l7.72-7.72 1.47 1.35L5.41 20z\"/>\n",
              "  </svg>\n",
              "      </button>\n",
              "      \n",
              "  <style>\n",
              "    .colab-df-container {\n",
              "      display:flex;\n",
              "      flex-wrap:wrap;\n",
              "      gap: 12px;\n",
              "    }\n",
              "\n",
              "    .colab-df-convert {\n",
              "      background-color: #E8F0FE;\n",
              "      border: none;\n",
              "      border-radius: 50%;\n",
              "      cursor: pointer;\n",
              "      display: none;\n",
              "      fill: #1967D2;\n",
              "      height: 32px;\n",
              "      padding: 0 0 0 0;\n",
              "      width: 32px;\n",
              "    }\n",
              "\n",
              "    .colab-df-convert:hover {\n",
              "      background-color: #E2EBFA;\n",
              "      box-shadow: 0px 1px 2px rgba(60, 64, 67, 0.3), 0px 1px 3px 1px rgba(60, 64, 67, 0.15);\n",
              "      fill: #174EA6;\n",
              "    }\n",
              "\n",
              "    [theme=dark] .colab-df-convert {\n",
              "      background-color: #3B4455;\n",
              "      fill: #D2E3FC;\n",
              "    }\n",
              "\n",
              "    [theme=dark] .colab-df-convert:hover {\n",
              "      background-color: #434B5C;\n",
              "      box-shadow: 0px 1px 3px 1px rgba(0, 0, 0, 0.15);\n",
              "      filter: drop-shadow(0px 1px 2px rgba(0, 0, 0, 0.3));\n",
              "      fill: #FFFFFF;\n",
              "    }\n",
              "  </style>\n",
              "\n",
              "      <script>\n",
              "        const buttonEl =\n",
              "          document.querySelector('#df-4efdf8e6-9001-47d8-88f6-e1042132d4fe button.colab-df-convert');\n",
              "        buttonEl.style.display =\n",
              "          google.colab.kernel.accessAllowed ? 'block' : 'none';\n",
              "\n",
              "        async function convertToInteractive(key) {\n",
              "          const element = document.querySelector('#df-4efdf8e6-9001-47d8-88f6-e1042132d4fe');\n",
              "          const dataTable =\n",
              "            await google.colab.kernel.invokeFunction('convertToInteractive',\n",
              "                                                     [key], {});\n",
              "          if (!dataTable) return;\n",
              "\n",
              "          const docLinkHtml = 'Like what you see? Visit the ' +\n",
              "            '<a target=\"_blank\" href=https://colab.research.google.com/notebooks/data_table.ipynb>data table notebook</a>'\n",
              "            + ' to learn more about interactive tables.';\n",
              "          element.innerHTML = '';\n",
              "          dataTable['output_type'] = 'display_data';\n",
              "          await google.colab.output.renderOutput(dataTable, element);\n",
              "          const docLink = document.createElement('div');\n",
              "          docLink.innerHTML = docLinkHtml;\n",
              "          element.appendChild(docLink);\n",
              "        }\n",
              "      </script>\n",
              "    </div>\n",
              "  </div>\n",
              "  "
            ]
          },
          "metadata": {},
          "execution_count": 36
        }
      ]
    },
    {
      "cell_type": "markdown",
      "source": [
        "Separate the train and test data for each class"
      ],
      "metadata": {
        "id": "YrPqB4stX3CF"
      }
    },
    {
      "cell_type": "code",
      "source": [
        "x_train1_2=df1_2.loc[:,['LPR','PEG']]\n",
        "y_train1_2=df1_2['UNS']\n",
        "x_test1_2=dft1_2.loc[:,['LPR','PEG']]\n",
        "y_test1_2=dft1_2['UNS']\n",
        "\n",
        "x_train1_3=df1_3.loc[:,['LPR','PEG']]\n",
        "y_train1_3=df1_3['UNS']\n",
        "x_test1_3=dft1_3.loc[:,['LPR','PEG']]\n",
        "y_test1_3=dft1_3['UNS']\n",
        "\n",
        "x_train1_4=df1_4.loc[:,['LPR','PEG']]\n",
        "y_train1_4=df1_4['UNS']\n",
        "x_test1_4=dft1_4.loc[:,['LPR','PEG']]\n",
        "y_test1_4=dft1_4['UNS']\n",
        "\n",
        "x_train2_3=df2_3.loc[:,['LPR','PEG']]\n",
        "y_train2_3=df2_3['UNS']\n",
        "x_test2_3=dft2_3.loc[:,['LPR','PEG']]\n",
        "y_test2_3=dft2_3['UNS']\n",
        "\n",
        "x_train2_4=df2_4.loc[:,['LPR','PEG']]\n",
        "y_train2_4=df2_4['UNS']\n",
        "x_test2_4=dft2_4.loc[:,['LPR','PEG']]\n",
        "y_test2_4=dft2_4['UNS']\n",
        "\n",
        "x_train3_4=df3_4.loc[:,['LPR','PEG']]\n",
        "y_train3_4=df3_4['UNS']\n",
        "x_test3_4=dft3_4.loc[:,['LPR','PEG']]\n",
        "y_test3_4=dft3_4['UNS']\n",
        "\n",
        "\n",
        "# y = (y_train3_4 == 3)*1\n",
        "# print(y_train3_4)\n"
      ],
      "metadata": {
        "id": "Fh7B-DryL99H"
      },
      "execution_count": 37,
      "outputs": []
    },
    {
      "cell_type": "markdown",
      "source": [
        "## First model "
      ],
      "metadata": {
        "id": "EFms5qeHZa6H"
      }
    },
    {
      "cell_type": "markdown",
      "source": [
        "SVM for the first model"
      ],
      "metadata": {
        "id": "ytJTkN2EYD09"
      }
    },
    {
      "cell_type": "code",
      "source": [
        "clf1_2 = svm.SVC(probability=True)\n",
        "clf1_2.fit(x_train1_2, y_train1_2)\n",
        "y1_2_pred = clf1_2.predict(x_test1_2)\n",
        "y1_2_pred_prop = clf1_2.predict_proba(x_test)\n",
        "\n",
        "print('\\nAccuracy Score:\\n')\n",
        "print(accuracy_score(y_test1_2, y1_2_pred))"
      ],
      "metadata": {
        "colab": {
          "base_uri": "https://localhost:8080/"
        },
        "id": "8eX6zDCMVAgi",
        "outputId": "165d7099-72d9-4c2f-b390-9b01d7f65498"
      },
      "execution_count": 38,
      "outputs": [
        {
          "output_type": "stream",
          "name": "stdout",
          "text": [
            "\n",
            "Accuracy Score:\n",
            "\n",
            "1.0\n"
          ]
        }
      ]
    },
    {
      "cell_type": "markdown",
      "source": [
        "Accuracies and confusion matrix of the model"
      ],
      "metadata": {
        "id": "euHNeEinbI1P"
      }
    },
    {
      "cell_type": "code",
      "source": [
        "print('\\nClassification Report:\\n')\n",
        "print(classification_report(y_test1_2, y1_2_pred))\n",
        "print('\\nConfusion Matrix:\\n')\n",
        "cm = confusion_matrix(y_test1_2, y1_2_pred)\n",
        "print(cm)\n",
        "print('\\nAccuracy Score:\\n')\n",
        "print(accuracy_score(y_test1_2, y1_2_pred))\n",
        "print('\\Confusion Matrix Display:\\n')\n",
        "print(ConfusionMatrixDisplay(cm).plot())"
      ],
      "metadata": {
        "id": "bYb-gQiOaFvc",
        "colab": {
          "base_uri": "https://localhost:8080/",
          "height": 696
        },
        "outputId": "ccd8acae-274c-4aa9-d387-c73334325144"
      },
      "execution_count": 39,
      "outputs": [
        {
          "output_type": "stream",
          "name": "stdout",
          "text": [
            "\n",
            "Classification Report:\n",
            "\n",
            "              precision    recall  f1-score   support\n",
            "\n",
            "           0       1.00      1.00      1.00        21\n",
            "           1       1.00      1.00      1.00        26\n",
            "\n",
            "    accuracy                           1.00        47\n",
            "   macro avg       1.00      1.00      1.00        47\n",
            "weighted avg       1.00      1.00      1.00        47\n",
            "\n",
            "\n",
            "Confusion Matrix:\n",
            "\n",
            "[[21  0]\n",
            " [ 0 26]]\n",
            "\n",
            "Accuracy Score:\n",
            "\n",
            "1.0\n",
            "\\Confusion Matrix Display:\n",
            "\n",
            "<sklearn.metrics._plot.confusion_matrix.ConfusionMatrixDisplay object at 0x7f92ec7c1710>\n"
          ]
        },
        {
          "output_type": "display_data",
          "data": {
            "text/plain": [
              "<Figure size 432x288 with 2 Axes>"
            ],
            "image/png": "[encoded data removed]"
          },
          "metadata": {
            "needs_background": "light"
          }
        }
      ]
    },
    {
      "cell_type": "markdown",
      "source": [
        "Plot the decision boundaries for the model"
      ],
      "metadata": {
        "id": "RRmEjdClbRKZ"
      }
    },
    {
      "cell_type": "code",
      "source": [
        "plot_decision_regions(x_test1_2.to_numpy(), y1_2_pred, clf=clf1_2, legend=2)\n",
        "\n",
        "plt.title('SVM Decision Boundaries')\n",
        "plt.xlabel('x_test1_2')\n",
        "plt.ylabel('y1_2_pred')\n",
        "plt.show()"
      ],
      "metadata": {
        "id": "0KgPA77pbTl0",
        "colab": {
          "base_uri": "https://localhost:8080/",
          "height": 385
        },
        "outputId": "e6dbd626-d536-4e51-9c66-dee9da7d513d"
      },
      "execution_count": 40,
      "outputs": [
        {
          "output_type": "stream",
          "name": "stderr",
          "text": [
            "/usr/local/lib/python3.7/dist-packages/sklearn/base.py:451: UserWarning: X does not have valid feature names, but SVC was fitted with feature names\n",
            "  \"X does not have valid feature names, but\"\n",
            "/usr/local/lib/python3.7/dist-packages/mlxtend/plotting/decision_regions.py:244: MatplotlibDeprecationWarning: Passing unsupported keyword arguments to axis() will raise a TypeError in 3.3.\n",
            "  ax.axis(xmin=xx.min(), xmax=xx.max(), y_min=yy.min(), y_max=yy.max())\n"
          ]
        },
        {
          "output_type": "display_data",
          "data": {
            "text/plain": [
              "<Figure size 432x288 with 1 Axes>"
            ],
            "image/png": "[encoded data removed]"
          },
          "metadata": {
            "needs_background": "light"
          }
        }
      ]
    },
    {
      "cell_type": "markdown",
      "source": [
        "## Second model"
      ],
      "metadata": {
        "id": "BO-WsR6qcLmX"
      }
    },
    {
      "cell_type": "markdown",
      "source": [
        "SVM for the second model"
      ],
      "metadata": {
        "id": "Rpms6SM9ceZe"
      }
    },
    {
      "cell_type": "code",
      "source": [
        "clf1_3 = svm.SVC(probability=True)\n",
        "clf1_3.fit(x_train1_3, y_train1_3)\n",
        "y1_3_pred = clf1_3.predict(x_test1_3)\n",
        "y1_3_pred_prop = clf1_3.predict_proba(x_test)\n",
        "\n",
        "print('\\nAccuracy Score:\\n')\n",
        "print(accuracy_score(y_test1_3, y1_3_pred))"
      ],
      "metadata": {
        "id": "v-DNtLIRceD-",
        "colab": {
          "base_uri": "https://localhost:8080/"
        },
        "outputId": "f6497824-59fb-4050-d6cf-3341277b29dc"
      },
      "execution_count": 41,
      "outputs": [
        {
          "output_type": "stream",
          "name": "stdout",
          "text": [
            "\n",
            "Accuracy Score:\n",
            "\n",
            "1.0\n"
          ]
        }
      ]
    },
    {
      "cell_type": "markdown",
      "source": [
        "Accuracies and confusion matrix of the model"
      ],
      "metadata": {
        "id": "vUxNNA5oczno"
      }
    },
    {
      "cell_type": "code",
      "source": [
        "print('\\nClassification Report:\\n')\n",
        "print(classification_report(y_test1_3, y1_3_pred))\n",
        "print('\\nConfusion Matrix:\\n')\n",
        "cm = confusion_matrix(y_test1_3, y1_3_pred)\n",
        "print(cm)\n",
        "print('\\nAccuracy Score:\\n')\n",
        "print(accuracy_score(y_test1_3, y1_3_pred))\n",
        "print('\\Confusion Matrix Display:\\n')\n",
        "print(ConfusionMatrixDisplay(cm).plot())"
      ],
      "metadata": {
        "id": "HhvOj9vBczge",
        "colab": {
          "base_uri": "https://localhost:8080/",
          "height": 696
        },
        "outputId": "2a85b0a4-bcca-4a0c-ef6d-96e56d873978"
      },
      "execution_count": 42,
      "outputs": [
        {
          "output_type": "stream",
          "name": "stdout",
          "text": [
            "\n",
            "Classification Report:\n",
            "\n",
            "              precision    recall  f1-score   support\n",
            "\n",
            "           0       1.00      1.00      1.00        21\n",
            "           2       1.00      1.00      1.00        22\n",
            "\n",
            "    accuracy                           1.00        43\n",
            "   macro avg       1.00      1.00      1.00        43\n",
            "weighted avg       1.00      1.00      1.00        43\n",
            "\n",
            "\n",
            "Confusion Matrix:\n",
            "\n",
            "[[21  0]\n",
            " [ 0 22]]\n",
            "\n",
            "Accuracy Score:\n",
            "\n",
            "1.0\n",
            "\\Confusion Matrix Display:\n",
            "\n",
            "<sklearn.metrics._plot.confusion_matrix.ConfusionMatrixDisplay object at 0x7f92ec841b90>\n"
          ]
        },
        {
          "output_type": "display_data",
          "data": {
            "text/plain": [
              "<Figure size 432x288 with 2 Axes>"
            ],
            "image/png": "[encoded data removed]"
          },
          "metadata": {
            "needs_background": "light"
          }
        }
      ]
    },
    {
      "cell_type": "markdown",
      "source": [
        "Plot the decision boundaries for the model"
      ],
      "metadata": {
        "id": "Z-Ne41nRczN3"
      }
    },
    {
      "cell_type": "code",
      "source": [
        "plot_decision_regions(x_test1_3.to_numpy(), y1_3_pred, clf=clf1_3, legend=2)\n",
        "\n",
        "plt.title('SVM Decision Boundaries')\n",
        "plt.xlabel('x_test1_3')\n",
        "plt.ylabel('y1_3_pred')\n",
        "plt.show()"
      ],
      "metadata": {
        "id": "SL8kKrhVczFG",
        "colab": {
          "base_uri": "https://localhost:8080/",
          "height": 385
        },
        "outputId": "c1a40a53-0a50-4999-88b6-74f88a68c258"
      },
      "execution_count": 43,
      "outputs": [
        {
          "output_type": "stream",
          "name": "stderr",
          "text": [
            "/usr/local/lib/python3.7/dist-packages/sklearn/base.py:451: UserWarning: X does not have valid feature names, but SVC was fitted with feature names\n",
            "  \"X does not have valid feature names, but\"\n",
            "/usr/local/lib/python3.7/dist-packages/mlxtend/plotting/decision_regions.py:244: MatplotlibDeprecationWarning: Passing unsupported keyword arguments to axis() will raise a TypeError in 3.3.\n",
            "  ax.axis(xmin=xx.min(), xmax=xx.max(), y_min=yy.min(), y_max=yy.max())\n"
          ]
        },
        {
          "output_type": "display_data",
          "data": {
            "text/plain": [
              "<Figure size 432x288 with 1 Axes>"
            ],
            "image/png": "[encoded data removed]"
          },
          "metadata": {
            "needs_background": "light"
          }
        }
      ]
    },
    {
      "cell_type": "markdown",
      "source": [
        "## Third model"
      ],
      "metadata": {
        "id": "I_VI-kCvcOiG"
      }
    },
    {
      "cell_type": "markdown",
      "source": [
        "SVM for the third model"
      ],
      "metadata": {
        "id": "v9lrHWIDcjS-"
      }
    },
    {
      "cell_type": "code",
      "source": [
        "clf1_4 = svm.SVC(probability=True)\n",
        "clf1_4.fit(x_train1_4, y_train1_4)\n",
        "y1_4_pred = clf1_4.predict(x_test1_4)\n",
        "y1_4_pred_prop = clf1_4.predict_proba(x_test)\n",
        "\n",
        "print('\\nAccuracy Score:\\n')\n",
        "print(accuracy_score(y_test1_4, y1_4_pred))"
      ],
      "metadata": {
        "id": "Q7PrKM-Ac0xu",
        "colab": {
          "base_uri": "https://localhost:8080/"
        },
        "outputId": "d4c1e729-4e03-494e-b76d-f9ed6c8ea1a3"
      },
      "execution_count": 44,
      "outputs": [
        {
          "output_type": "stream",
          "name": "stdout",
          "text": [
            "\n",
            "Accuracy Score:\n",
            "\n",
            "1.0\n"
          ]
        }
      ]
    },
    {
      "cell_type": "markdown",
      "source": [
        "Accuracies and confusion matrix of the model"
      ],
      "metadata": {
        "id": "NRIk5JO4c0qW"
      }
    },
    {
      "cell_type": "code",
      "source": [
        "print('\\nClassification Report:\\n')\n",
        "print(classification_report(y_test1_4, y1_4_pred))\n",
        "print('\\nConfusion Matrix:\\n')\n",
        "cm = confusion_matrix(y_test1_4, y1_4_pred)\n",
        "print(cm)\n",
        "print('\\nAccuracy Score:\\n')\n",
        "print(accuracy_score(y_test1_4, y1_4_pred))\n",
        "print('\\Confusion Matrix Display:\\n')\n",
        "print(ConfusionMatrixDisplay(cm).plot())"
      ],
      "metadata": {
        "id": "qz3wC_gZc0jP",
        "colab": {
          "base_uri": "https://localhost:8080/",
          "height": 696
        },
        "outputId": "94a9cf5f-fbe9-42fd-e999-c801b6dd16bf"
      },
      "execution_count": 45,
      "outputs": [
        {
          "output_type": "stream",
          "name": "stdout",
          "text": [
            "\n",
            "Classification Report:\n",
            "\n",
            "              precision    recall  f1-score   support\n",
            "\n",
            "           0       1.00      1.00      1.00        21\n",
            "           3       1.00      1.00      1.00        11\n",
            "\n",
            "    accuracy                           1.00        32\n",
            "   macro avg       1.00      1.00      1.00        32\n",
            "weighted avg       1.00      1.00      1.00        32\n",
            "\n",
            "\n",
            "Confusion Matrix:\n",
            "\n",
            "[[21  0]\n",
            " [ 0 11]]\n",
            "\n",
            "Accuracy Score:\n",
            "\n",
            "1.0\n",
            "\\Confusion Matrix Display:\n",
            "\n",
            "<sklearn.metrics._plot.confusion_matrix.ConfusionMatrixDisplay object at 0x7f92ef538750>\n"
          ]
        },
        {
          "output_type": "display_data",
          "data": {
            "text/plain": [
              "<Figure size 432x288 with 2 Axes>"
            ],
            "image/png": "[encoded data removed]"
          },
          "metadata": {
            "needs_background": "light"
          }
        }
      ]
    },
    {
      "cell_type": "markdown",
      "source": [
        "Plot the decision boundaries for the model"
      ],
      "metadata": {
        "id": "3wwgSRk6c04y"
      }
    },
    {
      "cell_type": "code",
      "source": [
        "plot_decision_regions(x_test1_4.to_numpy(), y1_4_pred, clf=clf1_4, legend=2)\n",
        "\n",
        "plt.title('SVM Decision Boundaries')\n",
        "plt.xlabel('x_test1_4')\n",
        "plt.ylabel('y1_4_pred')\n",
        "plt.show()"
      ],
      "metadata": {
        "id": "VJORU8Npcjd3",
        "colab": {
          "base_uri": "https://localhost:8080/",
          "height": 385
        },
        "outputId": "7fce1648-feb1-4ec9-c83d-55d4c3a45fc0"
      },
      "execution_count": 46,
      "outputs": [
        {
          "output_type": "stream",
          "name": "stderr",
          "text": [
            "/usr/local/lib/python3.7/dist-packages/sklearn/base.py:451: UserWarning: X does not have valid feature names, but SVC was fitted with feature names\n",
            "  \"X does not have valid feature names, but\"\n",
            "/usr/local/lib/python3.7/dist-packages/mlxtend/plotting/decision_regions.py:244: MatplotlibDeprecationWarning: Passing unsupported keyword arguments to axis() will raise a TypeError in 3.3.\n",
            "  ax.axis(xmin=xx.min(), xmax=xx.max(), y_min=yy.min(), y_max=yy.max())\n"
          ]
        },
        {
          "output_type": "display_data",
          "data": {
            "text/plain": [
              "<Figure size 432x288 with 1 Axes>"
            ],
            "image/png": "[encoded data removed]"
          },
          "metadata": {
            "needs_background": "light"
          }
        }
      ]
    },
    {
      "cell_type": "markdown",
      "source": [
        "## Fourth model"
      ],
      "metadata": {
        "id": "0Ics7l2icO7_"
      }
    },
    {
      "cell_type": "markdown",
      "source": [
        "SVM for the fourth model"
      ],
      "metadata": {
        "id": "874lYzOEcl7G"
      }
    },
    {
      "cell_type": "code",
      "source": [
        "clf2_3 = svm.SVC(probability=True)\n",
        "clf2_3.fit(x_train2_3, y_train2_3)\n",
        "y2_3_pred = clf2_3.predict(x_test2_3)\n",
        "y2_3_pred_prop = clf2_3.predict_proba(x_test)\n",
        "\n",
        "print('\\nAccuracy Score:\\n')\n",
        "print(accuracy_score(y_test2_3, y2_3_pred))"
      ],
      "metadata": {
        "id": "n6pAYWr8cmD2",
        "colab": {
          "base_uri": "https://localhost:8080/"
        },
        "outputId": "f32c4fb3-a6f9-44a9-a23a-a8ea2b535f8e"
      },
      "execution_count": 47,
      "outputs": [
        {
          "output_type": "stream",
          "name": "stdout",
          "text": [
            "\n",
            "Accuracy Score:\n",
            "\n",
            "1.0\n"
          ]
        }
      ]
    },
    {
      "cell_type": "markdown",
      "source": [
        "Accuracies and confusion matrix of the model"
      ],
      "metadata": {
        "id": "jnNtzJwxdR-O"
      }
    },
    {
      "cell_type": "code",
      "source": [
        "print('\\nClassification Report:\\n')\n",
        "print(classification_report(y_test2_3, y2_3_pred))\n",
        "print('\\nConfusion Matrix:\\n')\n",
        "cm = confusion_matrix(y_test2_3, y2_3_pred)\n",
        "print(cm)\n",
        "print('\\nAccuracy Score:\\n')\n",
        "print(accuracy_score(y_test2_3, y2_3_pred))\n",
        "print('\\Confusion Matrix Display:\\n')\n",
        "print(ConfusionMatrixDisplay(cm).plot())"
      ],
      "metadata": {
        "id": "aOJORmNydRf-",
        "colab": {
          "base_uri": "https://localhost:8080/",
          "height": 696
        },
        "outputId": "02bc4caf-3b95-4049-ce9b-b829135e7ba2"
      },
      "execution_count": 48,
      "outputs": [
        {
          "output_type": "stream",
          "name": "stdout",
          "text": [
            "\n",
            "Classification Report:\n",
            "\n",
            "              precision    recall  f1-score   support\n",
            "\n",
            "           1       1.00      1.00      1.00        26\n",
            "           2       1.00      1.00      1.00        22\n",
            "\n",
            "    accuracy                           1.00        48\n",
            "   macro avg       1.00      1.00      1.00        48\n",
            "weighted avg       1.00      1.00      1.00        48\n",
            "\n",
            "\n",
            "Confusion Matrix:\n",
            "\n",
            "[[26  0]\n",
            " [ 0 22]]\n",
            "\n",
            "Accuracy Score:\n",
            "\n",
            "1.0\n",
            "\\Confusion Matrix Display:\n",
            "\n",
            "<sklearn.metrics._plot.confusion_matrix.ConfusionMatrixDisplay object at 0x7f92ec73c0d0>\n"
          ]
        },
        {
          "output_type": "display_data",
          "data": {
            "text/plain": [
              "<Figure size 432x288 with 2 Axes>"
            ],
            "image/png": "[encoded data removed]"
          },
          "metadata": {
            "needs_background": "light"
          }
        }
      ]
    },
    {
      "cell_type": "markdown",
      "source": [
        "Plot the decision boundaries for the model"
      ],
      "metadata": {
        "id": "QOzvBABPdS5y"
      }
    },
    {
      "cell_type": "code",
      "source": [
        "plot_decision_regions(x_test2_3.to_numpy(), y2_3_pred, clf=clf2_3, legend=2)\n",
        "\n",
        "plt.title('SVM Decision Boundaries')\n",
        "plt.xlabel('x_test2_3')\n",
        "plt.ylabel('y2_3_pred')\n",
        "plt.show()"
      ],
      "metadata": {
        "id": "pEcBIuEydSVv",
        "colab": {
          "base_uri": "https://localhost:8080/",
          "height": 385
        },
        "outputId": "58a06b98-80b0-464b-8a91-6aae7c5be9ba"
      },
      "execution_count": 49,
      "outputs": [
        {
          "output_type": "stream",
          "name": "stderr",
          "text": [
            "/usr/local/lib/python3.7/dist-packages/sklearn/base.py:451: UserWarning: X does not have valid feature names, but SVC was fitted with feature names\n",
            "  \"X does not have valid feature names, but\"\n",
            "/usr/local/lib/python3.7/dist-packages/mlxtend/plotting/decision_regions.py:244: MatplotlibDeprecationWarning: Passing unsupported keyword arguments to axis() will raise a TypeError in 3.3.\n",
            "  ax.axis(xmin=xx.min(), xmax=xx.max(), y_min=yy.min(), y_max=yy.max())\n"
          ]
        },
        {
          "output_type": "display_data",
          "data": {
            "text/plain": [
              "<Figure size 432x288 with 1 Axes>"
            ],
            "image/png": "[encoded data removed]"
          },
          "metadata": {
            "needs_background": "light"
          }
        }
      ]
    },
    {
      "cell_type": "markdown",
      "source": [
        "## Fifth model"
      ],
      "metadata": {
        "id": "tTtDhNijcPO2"
      }
    },
    {
      "cell_type": "markdown",
      "source": [
        "SVM for the fifth model"
      ],
      "metadata": {
        "id": "QbGaEyyecp3u"
      }
    },
    {
      "cell_type": "code",
      "source": [
        "clf2_4 = svm.SVC(probability=True)\n",
        "clf2_4.fit(x_train2_4, y_train2_4)\n",
        "y2_4_pred = clf2_4.predict(x_test2_4)\n",
        "y2_4_pred_prop = clf2_4.predict_proba(x_test)\n",
        "print(y2_4_pred_prop)\n",
        "print('\\nAccuracy Score:\\n')\n",
        "print(accuracy_score(y_test2_4, y2_4_pred))"
      ],
      "metadata": {
        "id": "ykTVL5wqc25u",
        "colab": {
          "base_uri": "https://localhost:8080/"
        },
        "outputId": "4bc258f7-3c69-4c09-ffd1-9900bedcc963"
      },
      "execution_count": 50,
      "outputs": [
        {
          "output_type": "stream",
          "name": "stdout",
          "text": [
            "[[8.07023366e-01 1.92976634e-01]\n",
            " [9.93011796e-01 6.98820411e-03]\n",
            " [9.16983007e-01 8.30169933e-02]\n",
            " [7.47748008e-03 9.92522520e-01]\n",
            " [7.01786079e-01 2.98213921e-01]\n",
            " [6.32056640e-01 3.67943360e-01]\n",
            " [9.92804545e-01 7.19545503e-03]\n",
            " [6.33947231e-01 3.66052769e-01]\n",
            " [9.88313911e-01 1.16860886e-02]\n",
            " [9.50614834e-01 4.93851656e-02]\n",
            " [9.92035243e-01 7.96475727e-03]\n",
            " [9.97403583e-01 2.59641724e-03]\n",
            " [6.60562562e-01 3.39437438e-01]\n",
            " [3.80189128e-02 9.61981087e-01]\n",
            " [7.10606565e-01 2.89393435e-01]\n",
            " [9.95400010e-01 4.59999007e-03]\n",
            " [9.91877060e-01 8.12294037e-03]\n",
            " [6.47495267e-01 3.52504733e-01]\n",
            " [9.83747494e-01 1.62525064e-02]\n",
            " [9.71512858e-01 2.84871424e-02]\n",
            " [9.88158387e-01 1.18416133e-02]\n",
            " [9.94482788e-01 5.51721174e-03]\n",
            " [8.93736587e-01 1.06263413e-01]\n",
            " [9.75285173e-01 2.47148273e-02]\n",
            " [9.62829521e-01 3.71704793e-02]\n",
            " [9.92150950e-01 7.84905016e-03]\n",
            " [9.83823137e-01 1.61768630e-02]\n",
            " [6.69228477e-01 3.30771523e-01]\n",
            " [9.94934869e-01 5.06513139e-03]\n",
            " [5.89065979e-01 4.10934021e-01]\n",
            " [6.30658778e-01 3.69341222e-01]\n",
            " [6.40078767e-01 3.59921233e-01]\n",
            " [9.18448131e-01 8.15518688e-02]\n",
            " [6.57058506e-01 3.42941494e-01]\n",
            " [9.74999340e-01 2.50006595e-02]\n",
            " [5.86369314e-01 4.13630686e-01]\n",
            " [9.96600708e-01 3.39929167e-03]\n",
            " [4.37095154e-02 9.56290485e-01]\n",
            " [9.97173737e-01 2.82626275e-03]\n",
            " [9.96489810e-01 3.51019021e-03]\n",
            " [9.92488219e-01 7.51178055e-03]\n",
            " [6.10756609e-01 3.89243391e-01]\n",
            " [9.77555058e-01 2.24449422e-02]\n",
            " [9.89139598e-01 1.08604024e-02]\n",
            " [9.95178916e-01 4.82108372e-03]\n",
            " [5.89870883e-01 4.10129117e-01]\n",
            " [9.80533016e-01 1.94669839e-02]\n",
            " [5.89082406e-01 4.10917594e-01]\n",
            " [1.01347013e-05 9.99989865e-01]\n",
            " [9.63942901e-01 3.60570987e-02]\n",
            " [8.77783034e-01 1.22216966e-01]\n",
            " [6.06143244e-01 3.93856756e-01]\n",
            " [9.94393942e-01 5.60605813e-03]\n",
            " [6.89003994e-01 3.10996006e-01]\n",
            " [9.98307286e-01 1.69271366e-03]\n",
            " [6.65891902e-02 9.33410810e-01]\n",
            " [9.95652627e-01 4.34737268e-03]\n",
            " [9.96879320e-01 3.12068044e-03]\n",
            " [9.83071941e-01 1.69280589e-02]\n",
            " [6.67277951e-01 3.32722049e-01]\n",
            " [6.82105486e-01 3.17894514e-01]\n",
            " [9.82157184e-01 1.78428158e-02]\n",
            " [2.37571966e-06 9.99997624e-01]\n",
            " [9.84224339e-01 1.57756611e-02]\n",
            " [6.94907615e-01 3.05092385e-01]\n",
            " [1.53450145e-01 8.46549855e-01]\n",
            " [1.22811404e-02 9.87718860e-01]\n",
            " [4.61519542e-02 9.53848046e-01]\n",
            " [6.52358295e-01 3.47641705e-01]\n",
            " [9.96489810e-01 3.51019021e-03]\n",
            " [9.95750089e-01 4.24991107e-03]\n",
            " [9.76724033e-01 2.32759668e-02]\n",
            " [9.80533016e-01 1.94669839e-02]\n",
            " [8.77102530e-01 1.22897470e-01]\n",
            " [8.13458306e-01 1.86541694e-01]\n",
            " [9.91219882e-01 8.78011799e-03]\n",
            " [9.28450011e-01 7.15499887e-02]\n",
            " [5.96436216e-02 9.40356378e-01]\n",
            " [6.90964726e-01 3.09035274e-01]\n",
            " [8.06278614e-01 1.93721386e-01]]\n",
            "\n",
            "Accuracy Score:\n",
            "\n",
            "0.972972972972973\n"
          ]
        }
      ]
    },
    {
      "cell_type": "markdown",
      "source": [
        "Accuracies and confusion matrix of the model"
      ],
      "metadata": {
        "id": "DlgDH4GKc2yG"
      }
    },
    {
      "cell_type": "code",
      "source": [
        "print('\\nClassification Report:\\n')\n",
        "print(classification_report(y_test2_4, y2_4_pred))\n",
        "print('\\nConfusion Matrix:\\n')\n",
        "cm = confusion_matrix(y_test2_4, y2_4_pred)\n",
        "print(cm)\n",
        "print('\\nAccuracy Score:\\n')\n",
        "print(accuracy_score(y_test2_4, y2_4_pred))\n",
        "print('\\Confusion Matrix Display:\\n')\n",
        "print(ConfusionMatrixDisplay(cm).plot())"
      ],
      "metadata": {
        "id": "qeW6rP-7c2qu",
        "colab": {
          "base_uri": "https://localhost:8080/",
          "height": 696
        },
        "outputId": "4c2e305a-8835-4260-bee2-a97bce2d753a"
      },
      "execution_count": 51,
      "outputs": [
        {
          "output_type": "stream",
          "name": "stdout",
          "text": [
            "\n",
            "Classification Report:\n",
            "\n",
            "              precision    recall  f1-score   support\n",
            "\n",
            "           1       0.96      1.00      0.98        26\n",
            "           3       1.00      0.91      0.95        11\n",
            "\n",
            "    accuracy                           0.97        37\n",
            "   macro avg       0.98      0.95      0.97        37\n",
            "weighted avg       0.97      0.97      0.97        37\n",
            "\n",
            "\n",
            "Confusion Matrix:\n",
            "\n",
            "[[26  0]\n",
            " [ 1 10]]\n",
            "\n",
            "Accuracy Score:\n",
            "\n",
            "0.972972972972973\n",
            "\\Confusion Matrix Display:\n",
            "\n",
            "<sklearn.metrics._plot.confusion_matrix.ConfusionMatrixDisplay object at 0x7f92ec75df90>\n"
          ]
        },
        {
          "output_type": "display_data",
          "data": {
            "text/plain": [
              "<Figure size 432x288 with 2 Axes>"
            ],
            "image/png": "[encoded data removed]"
          },
          "metadata": {
            "needs_background": "light"
          }
        }
      ]
    },
    {
      "cell_type": "markdown",
      "source": [
        "Plot the decision boundaries for the model"
      ],
      "metadata": {
        "id": "RpUJK4tpc2_-"
      }
    },
    {
      "cell_type": "code",
      "source": [
        "plot_decision_regions(x_test2_4.to_numpy(), y2_4_pred, clf=clf2_4, legend=2)\n",
        "\n",
        "plt.title('SVM Decision Boundaries')\n",
        "plt.xlabel('x_test2_4')\n",
        "plt.ylabel('y2_4_pred')\n",
        "plt.show()"
      ],
      "metadata": {
        "id": "9FapVbincpuG",
        "colab": {
          "base_uri": "https://localhost:8080/",
          "height": 385
        },
        "outputId": "75484f5c-a732-4ebb-b400-ac1e34cf54ee"
      },
      "execution_count": 52,
      "outputs": [
        {
          "output_type": "stream",
          "name": "stderr",
          "text": [
            "/usr/local/lib/python3.7/dist-packages/sklearn/base.py:451: UserWarning: X does not have valid feature names, but SVC was fitted with feature names\n",
            "  \"X does not have valid feature names, but\"\n",
            "/usr/local/lib/python3.7/dist-packages/mlxtend/plotting/decision_regions.py:244: MatplotlibDeprecationWarning: Passing unsupported keyword arguments to axis() will raise a TypeError in 3.3.\n",
            "  ax.axis(xmin=xx.min(), xmax=xx.max(), y_min=yy.min(), y_max=yy.max())\n"
          ]
        },
        {
          "output_type": "display_data",
          "data": {
            "text/plain": [
              "<Figure size 432x288 with 1 Axes>"
            ],
            "image/png": "[encoded data removed]"
          },
          "metadata": {
            "needs_background": "light"
          }
        }
      ]
    },
    {
      "cell_type": "markdown",
      "source": [
        "## Sixth Model"
      ],
      "metadata": {
        "id": "ykMS7-twcMY-"
      }
    },
    {
      "cell_type": "markdown",
      "source": [
        "SVM for the sixth model"
      ],
      "metadata": {
        "id": "BBYfkd8ecr1v"
      }
    },
    {
      "cell_type": "code",
      "source": [
        "clf3_4 = svm.SVC(probability=True)\n",
        "clf3_4.fit(x_train3_4, y_train3_4)\n",
        "y3_4_pred = clf3_4.predict(x_test3_4)\n",
        "y3_4_pred_prop = clf3_4.predict_proba(x_test)\n",
        "\n",
        "print('\\nAccuracy Score:\\n')\n",
        "print(accuracy_score(y_test3_4, y3_4_pred))"
      ],
      "metadata": {
        "id": "t5D79NuEc4DG",
        "colab": {
          "base_uri": "https://localhost:8080/"
        },
        "outputId": "65c7ab5b-929f-4987-cf87-35b098a811d5"
      },
      "execution_count": 53,
      "outputs": [
        {
          "output_type": "stream",
          "name": "stdout",
          "text": [
            "\n",
            "Accuracy Score:\n",
            "\n",
            "1.0\n"
          ]
        }
      ]
    },
    {
      "cell_type": "markdown",
      "source": [
        "Accuracies and confusion matrix of the model"
      ],
      "metadata": {
        "id": "3Q51_ZE2c38o"
      }
    },
    {
      "cell_type": "code",
      "source": [
        "print('\\nClassification Report:\\n')\n",
        "print(classification_report(y_test3_4, y3_4_pred))\n",
        "print('\\nConfusion Matrix:\\n')\n",
        "cm = confusion_matrix(y_test3_4, y3_4_pred)\n",
        "print(cm)\n",
        "print('\\nAccuracy Score:\\n')\n",
        "print(accuracy_score(y_test3_4, y3_4_pred))\n",
        "print('\\Confusion Matrix Display:\\n')\n",
        "print(ConfusionMatrixDisplay(cm).plot())"
      ],
      "metadata": {
        "id": "KcpTnzCJc30-",
        "colab": {
          "base_uri": "https://localhost:8080/",
          "height": 696
        },
        "outputId": "05cf2813-acde-4627-c122-f6db648b0dce"
      },
      "execution_count": 54,
      "outputs": [
        {
          "output_type": "stream",
          "name": "stdout",
          "text": [
            "\n",
            "Classification Report:\n",
            "\n",
            "              precision    recall  f1-score   support\n",
            "\n",
            "           2       1.00      1.00      1.00        22\n",
            "           3       1.00      1.00      1.00        11\n",
            "\n",
            "    accuracy                           1.00        33\n",
            "   macro avg       1.00      1.00      1.00        33\n",
            "weighted avg       1.00      1.00      1.00        33\n",
            "\n",
            "\n",
            "Confusion Matrix:\n",
            "\n",
            "[[22  0]\n",
            " [ 0 11]]\n",
            "\n",
            "Accuracy Score:\n",
            "\n",
            "1.0\n",
            "\\Confusion Matrix Display:\n",
            "\n",
            "<sklearn.metrics._plot.confusion_matrix.ConfusionMatrixDisplay object at 0x7f92ec52cdd0>\n"
          ]
        },
        {
          "output_type": "display_data",
          "data": {
            "text/plain": [
              "<Figure size 432x288 with 2 Axes>"
            ],
            "image/png": "[encoded data removed]"
          },
          "metadata": {
            "needs_background": "light"
          }
        }
      ]
    },
    {
      "cell_type": "markdown",
      "source": [
        "Plot the decision boundaries for the model"
      ],
      "metadata": {
        "id": "gVapR_qKc4Jf"
      }
    },
    {
      "cell_type": "code",
      "source": [
        "plot_decision_regions(x_test3_4.to_numpy(), y3_4_pred, clf=clf3_4, legend=2)\n",
        "\n",
        "plt.title('SVM Decision Boundaries')\n",
        "plt.xlabel('x_test3_4')\n",
        "plt.ylabel('y3_4_pred')\n",
        "plt.show()"
      ],
      "metadata": {
        "id": "ahfEFWrKcruO",
        "colab": {
          "base_uri": "https://localhost:8080/",
          "height": 385
        },
        "outputId": "4e73c6cc-b97d-4023-98b3-bbcb57cf09e7"
      },
      "execution_count": 55,
      "outputs": [
        {
          "output_type": "stream",
          "name": "stderr",
          "text": [
            "/usr/local/lib/python3.7/dist-packages/sklearn/base.py:451: UserWarning: X does not have valid feature names, but SVC was fitted with feature names\n",
            "  \"X does not have valid feature names, but\"\n",
            "/usr/local/lib/python3.7/dist-packages/mlxtend/plotting/decision_regions.py:244: MatplotlibDeprecationWarning: Passing unsupported keyword arguments to axis() will raise a TypeError in 3.3.\n",
            "  ax.axis(xmin=xx.min(), xmax=xx.max(), y_min=yy.min(), y_max=yy.max())\n"
          ]
        },
        {
          "output_type": "display_data",
          "data": {
            "text/plain": [
              "<Figure size 432x288 with 1 Axes>"
            ],
            "image/png": "[encoded data removed]"
          },
          "metadata": {
            "needs_background": "light"
          }
        }
      ]
    },
    {
      "cell_type": "markdown",
      "source": [
        "## Final label of OvO"
      ],
      "metadata": {
        "id": "NYE4TxflcaDH"
      }
    },
    {
      "cell_type": "markdown",
      "source": [
        "1_2 / 1_3 / 1_4 / 2_3 /  2_4 /  3_4"
      ],
      "metadata": {
        "id": "e9cNU8Qf3kCi"
      }
    },
    {
      "cell_type": "code",
      "source": [
        "y0_prob = ((y1_2_pred_prop[:,0] + y1_3_pred_prop[:,0] + y1_4_pred_prop[:,0]) / 3).reshape(-1,1)\n",
        "y1_prob = ((y1_2_pred_prop[:,1] + y2_3_pred_prop[:,0] + y2_4_pred_prop[:,0]) / 3).reshape(-1,1)\n",
        "y2_prob = ((y1_3_pred_prop[:,1] + y2_3_pred_prop[:,1] + y3_4_pred_prop[:,0]) / 3).reshape(-1,1)\n",
        "y3_prob = ((y1_4_pred_prop[:,1] + y2_4_pred_prop[:,1] + y3_4_pred_prop[:,1]) / 3).reshape(-1,1)\n",
        "\n",
        "y0_prob"
      ],
      "metadata": {
        "id": "WtJnhCfzxj4O",
        "colab": {
          "base_uri": "https://localhost:8080/"
        },
        "outputId": "51aafcaa-13fb-447d-8039-fcb9d8c4c06b"
      },
      "execution_count": 56,
      "outputs": [
        {
          "output_type": "execute_result",
          "data": {
            "text/plain": [
              "array([[0.63538624],\n",
              "       [0.29886414],\n",
              "       [0.6210198 ],\n",
              "       [0.07801845],\n",
              "       [0.96240398],\n",
              "       [0.99224306],\n",
              "       [0.31298927],\n",
              "       [0.99035729],\n",
              "       [0.03493893],\n",
              "       [0.57130824],\n",
              "       [0.32540759],\n",
              "       [0.13474942],\n",
              "       [0.97153036],\n",
              "       [0.05416397],\n",
              "       [0.95214515],\n",
              "       [0.07581746],\n",
              "       [0.36401165],\n",
              "       [0.98944874],\n",
              "       [0.03377791],\n",
              "       [0.50575279],\n",
              "       [0.02672161],\n",
              "       [0.03502452],\n",
              "       [0.64964738],\n",
              "       [0.52799832],\n",
              "       [0.57004234],\n",
              "       [0.07674447],\n",
              "       [0.47864997],\n",
              "       [0.96949117],\n",
              "       [0.21438793],\n",
              "       [0.98753186],\n",
              "       [0.98561742],\n",
              "       [0.99238644],\n",
              "       [0.71046637],\n",
              "       [0.98939355],\n",
              "       [0.03647525],\n",
              "       [0.98657691],\n",
              "       [0.04076206],\n",
              "       [0.03311259],\n",
              "       [0.11007114],\n",
              "       [0.03981757],\n",
              "       [0.20351198],\n",
              "       [0.98871987],\n",
              "       [0.07937284],\n",
              "       [0.42734464],\n",
              "       [0.05783836],\n",
              "       [0.98995432],\n",
              "       [0.03852136],\n",
              "       [0.99059871],\n",
              "       [0.10979171],\n",
              "       [0.02719535],\n",
              "       [0.65673372],\n",
              "       [0.99282166],\n",
              "       [0.03276488],\n",
              "       [0.96972879],\n",
              "       [0.08658413],\n",
              "       [0.03035732],\n",
              "       [0.0360065 ],\n",
              "       [0.04324034],\n",
              "       [0.44723021],\n",
              "       [0.97038147],\n",
              "       [0.97446666],\n",
              "       [0.03253471],\n",
              "       [0.09232559],\n",
              "       [0.47528471],\n",
              "       [0.02622409],\n",
              "       [0.02591754],\n",
              "       [0.08807042],\n",
              "       [0.06321357],\n",
              "       [0.98981943],\n",
              "       [0.03981757],\n",
              "       [0.0368266 ],\n",
              "       [0.02984342],\n",
              "       [0.03852136],\n",
              "       [0.67451252],\n",
              "       [0.6215419 ],\n",
              "       [0.39987542],\n",
              "       [0.02289479],\n",
              "       [0.04932055],\n",
              "       [0.96697574],\n",
              "       [0.02435468]])"
            ]
          },
          "metadata": {},
          "execution_count": 56
        }
      ]
    },
    {
      "cell_type": "code",
      "source": [
        "ybo_all = np.hstack((y0_prob, y1_prob, y2_prob, y3_prob))\n",
        "ybo_all"
      ],
      "metadata": {
        "id": "CQE7uccszO-I",
        "colab": {
          "base_uri": "https://localhost:8080/"
        },
        "outputId": "273d872b-62c5-49f0-857f-972821b1aeb5"
      },
      "execution_count": 57,
      "outputs": [
        {
          "output_type": "execute_result",
          "data": {
            "text/plain": [
              "array([[0.63538624, 0.31748206, 0.96034218, 0.08678951],\n",
              "       [0.29886414, 0.64168376, 0.98002753, 0.07942456],\n",
              "       [0.6210198 , 0.35028835, 0.98422272, 0.04446912],\n",
              "       [0.07801845, 0.64581887, 0.28580461, 0.99035807],\n",
              "       [0.96240398, 0.24402616, 0.68650426, 0.1070656 ],\n",
              "       [0.99224306, 0.22368056, 0.63002664, 0.15404974],\n",
              "       [0.31298927, 0.64188348, 0.9591372 , 0.08599005],\n",
              "       [0.99035729, 0.22905341, 0.64748919, 0.1331001 ],\n",
              "       [0.03493893, 0.98301593, 0.54200329, 0.44004185],\n",
              "       [0.57130824, 0.40402138, 0.98875392, 0.03591647],\n",
              "       [0.32540759, 0.63169915, 0.96283894, 0.08005433],\n",
              "       [0.13474942, 0.88270366, 0.77175927, 0.21078765],\n",
              "       [0.97153036, 0.23480284, 0.67232033, 0.12134647],\n",
              "       [0.05416397, 0.6659663 , 0.30042826, 0.97944148],\n",
              "       [0.95214515, 0.24653548, 0.69777925, 0.10354012],\n",
              "       [0.07581746, 0.95907331, 0.68106956, 0.28403967],\n",
              "       [0.36401165, 0.59106783, 0.98424002, 0.0606805 ],\n",
              "       [0.98944874, 0.23271306, 0.63519228, 0.14264591],\n",
              "       [0.03377791, 0.98812048, 0.5825315 , 0.39557011],\n",
              "       [0.50575279, 0.46946314, 0.98719178, 0.0375923 ],\n",
              "       [0.02672161, 0.98387792, 0.37508125, 0.61431921],\n",
              "       [0.03502452, 0.98190572, 0.46718676, 0.515883  ],\n",
              "       [0.64964738, 0.32605371, 0.97680677, 0.04749214],\n",
              "       [0.52799832, 0.4452164 , 0.99064725, 0.03613803],\n",
              "       [0.57004234, 0.40520637, 0.99048169, 0.0342696 ],\n",
              "       [0.07674447, 0.97650864, 0.62722477, 0.31952212],\n",
              "       [0.47864997, 0.48933379, 0.98914835, 0.04286789],\n",
              "       [0.96949117, 0.23602569, 0.67649525, 0.11798789],\n",
              "       [0.21438793, 0.72315298, 0.92637612, 0.13608297],\n",
              "       [0.98753186, 0.27263284, 0.5389093 , 0.200926  ],\n",
              "       [0.98561742, 0.23162629, 0.64913036, 0.13362593],\n",
              "       [0.99238644, 0.22559682, 0.63394529, 0.14807144],\n",
              "       [0.71046637, 0.33420341, 0.9174244 , 0.03790583],\n",
              "       [0.98939355, 0.23212937, 0.64095536, 0.13752172],\n",
              "       [0.03647525, 0.9690332 , 0.39342957, 0.60106198],\n",
              "       [0.98657691, 0.27677136, 0.53747263, 0.19917911],\n",
              "       [0.04076206, 0.9765393 , 0.46963908, 0.51305956],\n",
              "       [0.03311259, 0.67460846, 0.31884252, 0.97343642],\n",
              "       [0.11007114, 0.93214246, 0.72128248, 0.23650392],\n",
              "       [0.03981757, 0.97704567, 0.45968146, 0.52345531],\n",
              "       [0.20351198, 0.74293905, 0.90728203, 0.14626694],\n",
              "       [0.98871987, 0.23603878, 0.63071439, 0.14452695],\n",
              "       [0.07937284, 0.92638659, 0.52435312, 0.46988745],\n",
              "       [0.42734464, 0.53354933, 0.98634293, 0.05276311],\n",
              "       [0.05783836, 0.98402872, 0.64705743, 0.3110755 ],\n",
              "       [0.98995432, 0.26476565, 0.5328928 , 0.21238722],\n",
              "       [0.03852136, 0.98859946, 0.44769569, 0.52518349],\n",
              "       [0.99059871, 0.25863503, 0.58238803, 0.16837823],\n",
              "       [0.10979171, 0.62114617, 0.27687288, 0.99218925],\n",
              "       [0.02719535, 0.98322995, 0.51162606, 0.47794863],\n",
              "       [0.65673372, 0.31807935, 0.97275284, 0.05243409],\n",
              "       [0.99282166, 0.2344353 , 0.62459608, 0.14814696],\n",
              "       [0.03276488, 0.98271592, 0.43443943, 0.55007977],\n",
              "       [0.96972879, 0.24110169, 0.67657617, 0.11259335],\n",
              "       [0.08658413, 0.92158733, 0.62260136, 0.36922718],\n",
              "       [0.03035732, 0.68275116, 0.32302861, 0.9638629 ],\n",
              "       [0.0360065 , 0.98032289, 0.44636299, 0.53730763],\n",
              "       [0.04324034, 0.97439122, 0.4630721 , 0.51929634],\n",
              "       [0.44723021, 0.52890352, 0.98341762, 0.04044864],\n",
              "       [0.97038147, 0.23909856, 0.66641102, 0.12410895],\n",
              "       [0.97446666, 0.23828531, 0.6733773 , 0.11387074],\n",
              "       [0.03253471, 0.97578421, 0.38386287, 0.60781821],\n",
              "       [0.09232559, 0.63509162, 0.27927811, 0.99330468],\n",
              "       [0.47528471, 0.49211294, 0.98866006, 0.04394228],\n",
              "       [0.02622409, 0.8908954 , 0.33048971, 0.7523908 ],\n",
              "       [0.02591754, 0.71243933, 0.33276421, 0.92887892],\n",
              "       [0.08807042, 0.63687879, 0.28797816, 0.98707263],\n",
              "       [0.06321357, 0.66096394, 0.30025518, 0.97556731],\n",
              "       [0.98981943, 0.22599531, 0.6447644 , 0.13942086],\n",
              "       [0.03981757, 0.97704567, 0.45968146, 0.52345531],\n",
              "       [0.0368266 , 0.97996978, 0.45704384, 0.52615978],\n",
              "       [0.02984342, 0.97623655, 0.37344131, 0.62047872],\n",
              "       [0.03852136, 0.98859946, 0.44769569, 0.52518349],\n",
              "       [0.67451252, 0.31397088, 0.96090288, 0.05061372],\n",
              "       [0.6215419 , 0.32951402, 0.96051134, 0.08843275],\n",
              "       [0.39987542, 0.55627132, 0.98371108, 0.06014218],\n",
              "       [0.02289479, 0.96811464, 0.34312313, 0.66586744],\n",
              "       [0.04932055, 0.67459102, 0.30426159, 0.97182684],\n",
              "       [0.96697574, 0.2457162 , 0.66855325, 0.11875482],\n",
              "       [0.02435468, 0.93193743, 0.35380599, 0.6899019 ]])"
            ]
          },
          "metadata": {},
          "execution_count": 57
        }
      ]
    },
    {
      "cell_type": "code",
      "source": [
        "final_labelo = np.argmax(ybo_all, axis=1)\n",
        "final_labelo = final_labelo.reshape((-1,1))\n",
        "final_labelo"
      ],
      "metadata": {
        "id": "Rz8Xm1z-4hbq",
        "colab": {
          "base_uri": "https://localhost:8080/"
        },
        "outputId": "a49e8302-1283-4eac-8945-a64d7474fc74"
      },
      "execution_count": 58,
      "outputs": [
        {
          "output_type": "execute_result",
          "data": {
            "text/plain": [
              "array([[2],\n",
              "       [2],\n",
              "       [2],\n",
              "       [3],\n",
              "       [0],\n",
              "       [0],\n",
              "       [2],\n",
              "       [0],\n",
              "       [1],\n",
              "       [2],\n",
              "       [2],\n",
              "       [1],\n",
              "       [0],\n",
              "       [3],\n",
              "       [0],\n",
              "       [1],\n",
              "       [2],\n",
              "       [0],\n",
              "       [1],\n",
              "       [2],\n",
              "       [1],\n",
              "       [1],\n",
              "       [2],\n",
              "       [2],\n",
              "       [2],\n",
              "       [1],\n",
              "       [2],\n",
              "       [0],\n",
              "       [2],\n",
              "       [0],\n",
              "       [0],\n",
              "       [0],\n",
              "       [2],\n",
              "       [0],\n",
              "       [1],\n",
              "       [0],\n",
              "       [1],\n",
              "       [3],\n",
              "       [1],\n",
              "       [1],\n",
              "       [2],\n",
              "       [0],\n",
              "       [1],\n",
              "       [2],\n",
              "       [1],\n",
              "       [0],\n",
              "       [1],\n",
              "       [0],\n",
              "       [3],\n",
              "       [1],\n",
              "       [2],\n",
              "       [0],\n",
              "       [1],\n",
              "       [0],\n",
              "       [1],\n",
              "       [3],\n",
              "       [1],\n",
              "       [1],\n",
              "       [2],\n",
              "       [0],\n",
              "       [0],\n",
              "       [1],\n",
              "       [3],\n",
              "       [2],\n",
              "       [1],\n",
              "       [3],\n",
              "       [3],\n",
              "       [3],\n",
              "       [0],\n",
              "       [1],\n",
              "       [1],\n",
              "       [1],\n",
              "       [1],\n",
              "       [2],\n",
              "       [2],\n",
              "       [2],\n",
              "       [1],\n",
              "       [3],\n",
              "       [0],\n",
              "       [1]])"
            ]
          },
          "metadata": {},
          "execution_count": 58
        }
      ]
    },
    {
      "cell_type": "code",
      "source": [
        "print('\\nClassification Report:\\n')\n",
        "print(classification_report(y_test_encoded, final_labelo))\n",
        "print('\\nConfusion Matrix:\\n')\n",
        "cm = confusion_matrix(y_test_encoded, final_labelo)\n",
        "print(cm)\n",
        "print('\\nAccuracy Score:\\n')\n",
        "print(accuracy_score(y_test_encoded, final_labelo))\n",
        "print('\\Confusion Matrix Display:\\n')\n",
        "print(ConfusionMatrixDisplay(cm).plot())"
      ],
      "metadata": {
        "id": "2tdU7Fo-5aLQ",
        "colab": {
          "base_uri": "https://localhost:8080/",
          "height": 765
        },
        "outputId": "224b63ff-3a45-489d-80cc-08809e32f3f5"
      },
      "execution_count": 59,
      "outputs": [
        {
          "output_type": "stream",
          "name": "stdout",
          "text": [
            "\n",
            "Classification Report:\n",
            "\n",
            "              precision    recall  f1-score   support\n",
            "\n",
            "           0       1.00      1.00      1.00        21\n",
            "           1       0.96      1.00      0.98        26\n",
            "           2       1.00      1.00      1.00        22\n",
            "           3       1.00      0.91      0.95        11\n",
            "\n",
            "    accuracy                           0.99        80\n",
            "   macro avg       0.99      0.98      0.98        80\n",
            "weighted avg       0.99      0.99      0.99        80\n",
            "\n",
            "\n",
            "Confusion Matrix:\n",
            "\n",
            "[[21  0  0  0]\n",
            " [ 0 26  0  0]\n",
            " [ 0  0 22  0]\n",
            " [ 0  1  0 10]]\n",
            "\n",
            "Accuracy Score:\n",
            "\n",
            "0.9875\n",
            "\\Confusion Matrix Display:\n",
            "\n",
            "<sklearn.metrics._plot.confusion_matrix.ConfusionMatrixDisplay object at 0x7f92ef5a56d0>\n"
          ]
        },
        {
          "output_type": "display_data",
          "data": {
            "text/plain": [
              "<Figure size 432x288 with 2 Axes>"
            ],
            "image/png": "[encoded data removed]"
          },
          "metadata": {
            "needs_background": "light"
          }
        }
      ]
    },
    {
      "cell_type": "markdown",
      "source": [
        "## Filtering the wrong prediction points"
      ],
      "metadata": {
        "id": "vUU9_Sec4p-V"
      }
    },
    {
      "cell_type": "code",
      "source": [
        "false_predictiono = y_test_encoded.reshape(-1,1) != final_labelo\n",
        "x_test_wrongo = x_test[false_predictiono]\n",
        "x_test_wrongo"
      ],
      "metadata": {
        "id": "BGNWQutc4p-V",
        "colab": {
          "base_uri": "https://localhost:8080/",
          "height": 81
        },
        "outputId": "1ff197e1-6805-4df3-a5be-fbd989413b75"
      },
      "execution_count": 60,
      "outputs": [
        {
          "output_type": "execute_result",
          "data": {
            "text/plain": [
              "     LPR  PEG\n",
              "64  0.26  0.2"
            ],
            "text/html": [
              "\n",
              "  <div id=\"df-5475d2fa-84ac-481f-9c42-5ae8c551e4ee\">\n",
              "    <div class=\"colab-df-container\">\n",
              "      <div>\n",
              "<style scoped>\n",
              "    .dataframe tbody tr th:only-of-type {\n",
              "        vertical-align: middle;\n",
              "    }\n",
              "\n",
              "    .dataframe tbody tr th {\n",
              "        vertical-align: top;\n",
              "    }\n",
              "\n",
              "    .dataframe thead th {\n",
              "        text-align: right;\n",
              "    }\n",
              "</style>\n",
              "<table border=\"1\" class=\"dataframe\">\n",
              "  <thead>\n",
              "    <tr style=\"text-align: right;\">\n",
              "      <th></th>\n",
              "      <th>LPR</th>\n",
              "      <th>PEG</th>\n",
              "    </tr>\n",
              "  </thead>\n",
              "  <tbody>\n",
              "    <tr>\n",
              "      <th>64</th>\n",
              "      <td>0.26</td>\n",
              "      <td>0.2</td>\n",
              "    </tr>\n",
              "  </tbody>\n",
              "</table>\n",
              "</div>\n",
              "      <button class=\"colab-df-convert\" onclick=\"convertToInteractive('df-5475d2fa-84ac-481f-9c42-5ae8c551e4ee')\"\n",
              "              title=\"Convert this dataframe to an interactive table.\"\n",
              "              style=\"display:none;\">\n",
              "        \n",
              "  <svg xmlns=\"http://www.w3.org/2000/svg\" height=\"24px\"viewBox=\"0 0 24 24\"\n",
              "       width=\"24px\">\n",
              "    <path d=\"M0 0h24v24H0V0z\" fill=\"none\"/>\n",
              "    <path d=\"M18.56 5.44l.94 2.06.94-2.06 2.06-.94-2.06-.94-.94-2.06-.94 2.06-2.06.94zm-11 1L8.5 8.5l.94-2.06 2.06-.94-2.06-.94L8.5 2.5l-.94 2.06-2.06.94zm10 10l.94 2.06.94-2.06 2.06-.94-2.06-.94-.94-2.06-.94 2.06-2.06.94z\"/><path d=\"M17.41 7.96l-1.37-1.37c-.4-.4-.92-.59-1.43-.59-.52 0-1.04.2-1.43.59L10.3 9.45l-7.72 7.72c-.78.78-.78 2.05 0 2.83L4 21.41c.39.39.9.59 1.41.59.51 0 1.02-.2 1.41-.59l7.78-7.78 2.81-2.81c.8-.78.8-2.07 0-2.86zM5.41 20L4 18.59l7.72-7.72 1.47 1.35L5.41 20z\"/>\n",
              "  </svg>\n",
              "      </button>\n",
              "      \n",
              "  <style>\n",
              "    .colab-df-container {\n",
              "      display:flex;\n",
              "      flex-wrap:wrap;\n",
              "      gap: 12px;\n",
              "    }\n",
              "\n",
              "    .colab-df-convert {\n",
              "      background-color: #E8F0FE;\n",
              "      border: none;\n",
              "      border-radius: 50%;\n",
              "      cursor: pointer;\n",
              "      display: none;\n",
              "      fill: #1967D2;\n",
              "      height: 32px;\n",
              "      padding: 0 0 0 0;\n",
              "      width: 32px;\n",
              "    }\n",
              "\n",
              "    .colab-df-convert:hover {\n",
              "      background-color: #E2EBFA;\n",
              "      box-shadow: 0px 1px 2px rgba(60, 64, 67, 0.3), 0px 1px 3px 1px rgba(60, 64, 67, 0.15);\n",
              "      fill: #174EA6;\n",
              "    }\n",
              "\n",
              "    [theme=dark] .colab-df-convert {\n",
              "      background-color: #3B4455;\n",
              "      fill: #D2E3FC;\n",
              "    }\n",
              "\n",
              "    [theme=dark] .colab-df-convert:hover {\n",
              "      background-color: #434B5C;\n",
              "      box-shadow: 0px 1px 3px 1px rgba(0, 0, 0, 0.15);\n",
              "      filter: drop-shadow(0px 1px 2px rgba(0, 0, 0, 0.3));\n",
              "      fill: #FFFFFF;\n",
              "    }\n",
              "  </style>\n",
              "\n",
              "      <script>\n",
              "        const buttonEl =\n",
              "          document.querySelector('#df-5475d2fa-84ac-481f-9c42-5ae8c551e4ee button.colab-df-convert');\n",
              "        buttonEl.style.display =\n",
              "          google.colab.kernel.accessAllowed ? 'block' : 'none';\n",
              "\n",
              "        async function convertToInteractive(key) {\n",
              "          const element = document.querySelector('#df-5475d2fa-84ac-481f-9c42-5ae8c551e4ee');\n",
              "          const dataTable =\n",
              "            await google.colab.kernel.invokeFunction('convertToInteractive',\n",
              "                                                     [key], {});\n",
              "          if (!dataTable) return;\n",
              "\n",
              "          const docLinkHtml = 'Like what you see? Visit the ' +\n",
              "            '<a target=\"_blank\" href=https://colab.research.google.com/notebooks/data_table.ipynb>data table notebook</a>'\n",
              "            + ' to learn more about interactive tables.';\n",
              "          element.innerHTML = '';\n",
              "          dataTable['output_type'] = 'display_data';\n",
              "          await google.colab.output.renderOutput(dataTable, element);\n",
              "          const docLink = document.createElement('div');\n",
              "          docLink.innerHTML = docLinkHtml;\n",
              "          element.appendChild(docLink);\n",
              "        }\n",
              "      </script>\n",
              "    </div>\n",
              "  </div>\n",
              "  "
            ]
          },
          "metadata": {},
          "execution_count": 60
        }
      ]
    },
    {
      "cell_type": "markdown",
      "source": [
        "## Plot all the test data and the wrong prediction with another color"
      ],
      "metadata": {
        "id": "HPg8SplT4p-V"
      }
    },
    {
      "cell_type": "code",
      "source": [
        "plt.scatter(x_test.iloc[:,0],x_test.iloc[:,1],edgecolors='k',alpha=1)\n",
        "plt.scatter(x_test_wrongo.iloc[:,0],x_test_wrongo.iloc[:,1],edgecolors='k',alpha=1)\n",
        "plt.title('Data')\n",
        "plt.xlabel('LPR')\n",
        "plt.ylabel('PEG')\n",
        "plt.show()"
      ],
      "metadata": {
        "id": "zEYCDhT64p-W",
        "colab": {
          "base_uri": "https://localhost:8080/",
          "height": 295
        },
        "outputId": "adbe94ba-4adc-404d-f615-04578a69dd28"
      },
      "execution_count": 61,
      "outputs": [
        {
          "output_type": "display_data",
          "data": {
            "text/plain": [
              "<Figure size 432x288 with 1 Axes>"
            ],
            "image/png": "[encoded data removed]"
          },
          "metadata": {
            "needs_background": "light"
          }
        }
      ]
    }
  ]
}